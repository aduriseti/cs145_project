{
 "cells": [
  {
   "cell_type": "code",
   "execution_count": 106,
   "metadata": {
    "collapsed": true
   },
   "outputs": [],
   "source": [
    "import pandas as pd\n",
    "import numpy as np\n",
    "import os"
   ]
  },
  {
   "cell_type": "code",
   "execution_count": 107,
   "metadata": {},
   "outputs": [],
   "source": [
    "with open(\"sent_corpus.csv\", \"r\") as sent_file:\n",
    "    lines = sent_file.read().split(\"\\n\")"
   ]
  },
  {
   "cell_type": "code",
   "execution_count": 60,
   "metadata": {},
   "outputs": [
    {
     "name": "stdout",
     "output_type": "stream",
     "text": [
      "CPU times: user 2.75 s, sys: 161 ms, total: 2.91 s\n",
      "Wall time: 2.96 s\n",
      "CPU times: user 3.95 s, sys: 116 ms, total: 4.06 s\n",
      "Wall time: 4.12 s\n",
      "CPU times: user 313 ms, sys: 44.1 ms, total: 357 ms\n",
      "Wall time: 359 ms\n",
      "['ItemID' 'Sentiment' 'SentimentSource' 'SentimentText']\n",
      "CPU times: user 4.28 s, sys: 286 ms, total: 4.57 s\n",
      "Wall time: 4.7 s\n"
     ]
    }
   ],
   "source": [
    "%time rows = [line.split(\",\") for line in lines if line]\n",
    "%time rows = [row[:3] + [\",\".join(row[3:])] for row in rows]\n",
    "# remove document start character \n",
    "rows[0][0] = rows[0][0][1:]\n",
    "\n",
    "sentDf_cols = ['ItemID', 'Sentiment', 'SentimentSource', 'SentimentText']\n",
    "\n",
    "\n",
    "%time sentDf = pd.DataFrame(rows[1:],columns=sentDf_cols)\n",
    "\n",
    "print(sentDf.columns.values)\n",
    "\n",
    "sentDf[[\"ItemID\",\"Sentiment\"]] = sentDf[[\"ItemID\",\"Sentiment\"]].astype(int)\n",
    "%time sentDf[\"SentimentText\"] = sentDf[\"SentimentText\"].apply(lambda text: text.split())"
   ]
  },
  {
   "cell_type": "code",
   "execution_count": 128,
   "metadata": {},
   "outputs": [
    {
     "name": "stdout",
     "output_type": "stream",
     "text": [
      "/Users/Jonny/Documents/UCLA/CS145/cs145_project/crawler_v1/code/tweettext.txt\n",
      "CPU times: user 3 µs, sys: 0 ns, total: 3 µs\n",
      "Wall time: 8.11 µs\n",
      "['I hate it when someone posts really inspiring art or something and all people comment is \\xe2\\x80\\x9cdeep\\xe2\\x80\\x9d... like... that\\xe2\\x80\\x99s a\\xe2\\x80\\xa6 https://t.co/7pdNLhZaOw\\n', 'I hate it when some dumb broad starts whining about men who nut too fast....\\n', '\"It was a race... You lost, bitch!\"\\n', 'I hate people on twitter who complain about what girls do, but they are the same people who complain about other pe\\xe2\\x80\\xa6 https://t.co/Jtajyid1Fw\\n', ' Haters don\\xe2\\x80\\x99t hate us, they hate themselves. \\n', 'Because we are a reflection of what they wish to be.\\n', \" I fuckin hate it when people call Harry a womanizer yall know how much he hates it he even said he doesn't like to be ca\\xe2\\x80\\xa6\\n\", ' When people get hurt, they learn to hate.\\n', '#ALDUBHeartsNeverApart\\n', ' Do the 2016 Hate Crime statistics include the hoaxes? https://t.co/e9MJvmIMyw https://t.co/jzCt9tYFT4\\n', ' Tryna figure out why y\\xe2\\x80\\x99all hate yellow. That shit smack https://t.co/XfwFxz4HUk\\n', \"j'ai plus de h\\xc3\\xa2te de plus jamais revoir la gueule de ce mec plut\\xc3\\xb4t que d'avoir mon permis\\n\", ' I hate to be on here crying over a puppy but I\\xef\\xb8\\x8fm really hurt yo ..... I can\\xe2\\x80\\x99t believe somebody would do some bs like that. I\\xe2\\x80\\x99\\xe2\\x80\\xa6\\n']\n",
      "done\n"
     ]
    }
   ],
   "source": [
    "## -*- coding: utf-8 -*-\n",
    "\n",
    "curdir = os.getcwd()\n",
    "tweet_path = curdir + \"/crawler_v1/code/tweettext.txt\"\n",
    "print(tweet_path)\n",
    "\n",
    "tweets = []\n",
    "tweet_file = open(tweet_path, \"rb\")\n",
    "%time \n",
    "for line in tweet_file:\n",
    "#    print(line)\n",
    "#    line = line_pre.decode('utf-8')\n",
    "    tweet = \"\"\n",
    "    if(line[:2] == \"RT\"):\n",
    "        char_loc = 0\n",
    "        for char in line:\n",
    "            char_loc += 1\n",
    "            if(char==\":\"):\n",
    "                break\n",
    "\n",
    "        tweet = line[-(len(line)-char_loc):]\n",
    "    else:\n",
    "        tweet = line\n",
    "    tweets.append(tweet)\n",
    "\n",
    "#[tweet.decode('utf-8') for tweet in tweets]\n",
    "print(tweets)\n",
    "\n",
    "print(\"done\")"
   ]
  },
  {
   "cell_type": "code",
   "execution_count": 62,
   "metadata": {},
   "outputs": [
    {
     "name": "stdout",
     "output_type": "stream",
     "text": [
      "CPU times: user 5min 15s, sys: 9.69 s, total: 5min 24s\n",
      "Wall time: 2min 18s\n"
     ]
    }
   ],
   "source": [
    "import gensim\n",
    "%time w2vM = gensim.models.Word2Vec(sentDf[\"SentimentText\"])\n"
   ]
  },
  {
   "cell_type": "code",
   "execution_count": 129,
   "metadata": {
    "scrolled": true
   },
   "outputs": [
    {
     "name": "stdout",
     "output_type": "stream",
     "text": [
      "CPU times: user 7.09 ms, sys: 2.44 ms, total: 9.54 ms\n",
      "Wall time: 7.96 ms\n"
     ]
    }
   ],
   "source": [
    "%time w2vM_tweets = gensim.models.Word2Vec(tweets)\n",
    "\n"
   ]
  },
  {
   "cell_type": "code",
   "execution_count": 130,
   "metadata": {
    "collapsed": true
   },
   "outputs": [],
   "source": [
    "# number of samples to aggregate\n",
    "Ns = int(1e5)"
   ]
  },
  {
   "cell_type": "code",
   "execution_count": 131,
   "metadata": {},
   "outputs": [
    {
     "name": "stdout",
     "output_type": "stream",
     "text": [
      "CPU times: user 2 µs, sys: 1e+03 ns, total: 3 µs\n",
      "Wall time: 5.96 µs\n",
      "[[-1.25122161 -1.11044443  0.86313852 ...,  0.00723968 -1.61906987\n",
      "  -0.65277823]\n",
      " [ 0.07091121 -0.53514856 -0.45551857 ...,  0.74050069 -0.77201968\n",
      "  -1.47878969]\n",
      " [-0.89652032 -0.78174579  1.4180578  ..., -1.15360987 -1.25980675\n",
      "   0.88829136]\n",
      " ..., \n",
      " [-0.93792191 -0.50204525  0.58469262 ..., -0.46476021 -1.48402048\n",
      "   0.43957306]\n",
      " [-0.98003064 -0.72800219 -0.62643303 ...,  0.55065257 -0.61133645\n",
      "  -0.41924939]\n",
      " [ 0.79247589 -0.00276681  0.24994299 ..., -1.21677215 -0.60112918\n",
      "   0.52619559]]\n",
      "prediction vecs...\n",
      "[[ 0.00734437  0.01273471  0.04038044 ...,  0.00470354 -0.02957127\n",
      "   0.00684811]\n",
      " [ 0.00744533  0.01343329  0.04439545 ...,  0.00479849 -0.03262145\n",
      "   0.0077941 ]\n",
      " [ 0.00639241  0.01208521  0.03892023 ...,  0.00487771 -0.02856221\n",
      "   0.00628329]\n",
      " ..., \n",
      " [ 0.00704079  0.01217412  0.03864871 ...,  0.00415785 -0.02874432\n",
      "   0.0064466 ]\n",
      " [ 0.00694884  0.01263509  0.03987265 ...,  0.00454965 -0.02902665\n",
      "   0.00690718]\n",
      " [ 0.00726278  0.0138747   0.04217817 ...,  0.00481526 -0.03078251\n",
      "   0.00706562]]\n"
     ]
    }
   ],
   "source": [
    "\n",
    "%time\n",
    "# MEAN AGGREGATION\n",
    "tvecs = np.array([np.array([w2vM[t] if t in w2vM\n",
    "                                else np.zeros((100,))\n",
    "                            for t in twt]).mean(axis=0)\n",
    "                 for twt in sentDf[\"SentimentText\"][:Ns]])\n",
    "# SUM AGGREGATION\n",
    "# tvecs = np.array([np.array([w2vM[t] if t in w2vM\n",
    "#                                 else np.zeros((100,))\n",
    "#                             for t in twt]).sum(axis=0)\n",
    "#                  for twt in sentDf[\"SentimentText\"][:Ns]])\n",
    "\n",
    "print(tvecs[:N])\n",
    "print(\"prediction vecs...\")\n",
    "\n",
    "tvecs_predict = np.array([np.array([w2vM_tweets[t] if t in w2vM_tweets\n",
    "                                else np.zeros((100,))\n",
    "                            for t in twt]).mean(axis=0)\n",
    "                 for twt in tweets[:Ns]])\n",
    "\n",
    "print(tvecs_predict[:N])"
   ]
  },
  {
   "cell_type": "code",
   "execution_count": 66,
   "metadata": {
    "collapsed": true
   },
   "outputs": [],
   "source": [
    "# number of samples to train on\n",
    "N = int(1e5)\n",
    "X = tvecs[:N]\n",
    "y = sentDf[\"Sentiment\"][:N].values\n",
    "# inverse classifier\n",
    "# y = 1 - y"
   ]
  },
  {
   "cell_type": "code",
   "execution_count": 67,
   "metadata": {
    "collapsed": true
   },
   "outputs": [],
   "source": [
    "# generate test/train split\n",
    "ratio = 0.8\n",
    "tidx = np.random.rand(N) < ratio\n",
    "pidx = ~tidx"
   ]
  },
  {
   "cell_type": "code",
   "execution_count": 68,
   "metadata": {
    "collapsed": true
   },
   "outputs": [],
   "source": [
    "import sklearn\n",
    "from sklearn import ensemble,svm,neural_network,discriminant_analysis\n",
    "from sklearn.metrics import roc_curve,auc,precision_recall_curve\n",
    "\n",
    "from matplotlib import pyplot as plt\n",
    "% matplotlib inline"
   ]
  },
  {
   "cell_type": "code",
   "execution_count": 69,
   "metadata": {
    "collapsed": true
   },
   "outputs": [],
   "source": [
    "def roc_auc(clf,X,y):\n",
    "    probs = clf.predict_proba(X[pidx])\n",
    "    fpr, tpr, thresholds = roc_curve(y[pidx], probs[:, 1])\n",
    "    roc_auc = auc(fpr, tpr)\n",
    "    roc_str = 'ROC (AUC Gain = %0.2f)' % (roc_auc - 0.5)\n",
    "    plt.plot(fpr, tpr, lw=1,label=roc_str)\n",
    "    plt.plot([0,1],[0,1],label=\"RAN CLF\")\n",
    "    plt.title(roc_str)\n",
    "    plt.show()"
   ]
  },
  {
   "cell_type": "code",
   "execution_count": 70,
   "metadata": {
    "collapsed": true
   },
   "outputs": [],
   "source": [
    "def prrc_auc(clf,X,y):\n",
    "    probs = clf.predict_proba(X)\n",
    "    pr, rc, thresholds = precision_recall_curve(y, probs[:, 1])\n",
    "    roc_auc = auc(rc, pr)\n",
    "    roc_str = 'Prec vs Recall (AUC Gain = %0.2f)' % (roc_auc - np.mean(y))\n",
    "    plt.plot(rc,pr, lw=1,label=roc_str)\n",
    "    plt.plot([0,1],[np.mean(y),np.mean(y)],label=\"RAN CLF\")\n",
    "    plt.axis([0,1,0,1])\n",
    "    plt.title(roc_str)\n",
    "    plt.show()"
   ]
  },
  {
   "cell_type": "code",
   "execution_count": 71,
   "metadata": {
    "collapsed": true
   },
   "outputs": [],
   "source": [
    "def evaluate(clf,X,y):\n",
    "    yhat = clf.predict(X)\n",
    "    accu = np.mean(yhat == y)\n",
    "    prec = np.mean(y[yhat == 1])\n",
    "    recl = np.mean(yhat[y == 1])\n",
    "    f1 = 2 * prec * recl / (prec + recl)\n",
    "    print(\"Accuracy\",accu,\"Precision\",prec,\"Recall\",recl,\"F1\",f1)"
   ]
  },
  {
   "cell_type": "code",
   "execution_count": 114,
   "metadata": {},
   "outputs": [
    {
     "name": "stdout",
     "output_type": "stream",
     "text": [
      "CPU times: user 3.56 s, sys: 69.3 ms, total: 3.63 s\n",
      "Wall time: 3.7 s\n",
      "TEST\n",
      "('Accuracy', 0.66843953838434522, 'Precision', 0.66637980493402182, 'Recall', 0.82610241820768138, 'F1', 0.73769450619244215)\n",
      "CPU times: user 26.8 ms, sys: 11.8 ms, total: 38.6 ms\n",
      "Wall time: 36.7 ms\n",
      "TRAIN\n",
      "('Accuracy', 0.67564630947920568, 'Precision', 0.67213525360050097, 'Recall', 0.83091520325562884, 'F1', 0.7431385930035902)\n",
      "CPU times: user 98.5 ms, sys: 23.1 ms, total: 122 ms\n",
      "Wall time: 117 ms\n",
      "ROC AUC\n"
     ]
    },
    {
     "data": {
      "image/png": "[encoded data removed]",
      "text/plain": [
       "<matplotlib.figure.Figure at 0x138d40750>"
      ]
     },
     "metadata": {},
     "output_type": "display_data"
    },
    {
     "name": "stdout",
     "output_type": "stream",
     "text": [
      "CPU times: user 214 ms, sys: 16.2 ms, total: 230 ms\n",
      "Wall time: 236 ms\n",
      "PRECISION/RECALL AUC\n"
     ]
    },
    {
     "data": {
      "image/png": "[encoded data removed]",
      "text/plain": [
       "<matplotlib.figure.Figure at 0x14c292310>"
      ]
     },
     "metadata": {},
     "output_type": "display_data"
    },
    {
     "name": "stdout",
     "output_type": "stream",
     "text": [
      "CPU times: user 377 ms, sys: 42.7 ms, total: 420 ms\n",
      "Wall time: 425 ms\n"
     ]
    }
   ],
   "source": [
    "rf = sklearn.ensemble.RandomForestClassifier()\n",
    "rf.max_depth = 5\n",
    "#clf = rf\n",
    "%time rf.fit(X[tidx],y[tidx])\n",
    "\n",
    "print(\"TEST\")\n",
    "%time evaluate(rf,X[pidx],y[pidx])\n",
    "\n",
    "print(\"TRAIN\")\n",
    "%time evaluate(rf,X[tidx],y[tidx])\n",
    "\n",
    "print(\"ROC AUC\")\n",
    "%time roc_auc(rf,X,y)\n",
    "\n",
    "print(\"PRECISION/RECALL AUC\")\n",
    "%time prrc_auc(rf,X,y)"
   ]
  },
  {
   "cell_type": "code",
   "execution_count": 73,
   "metadata": {},
   "outputs": [
    {
     "name": "stdout",
     "output_type": "stream",
     "text": [
      "CPU times: user 1min 30s, sys: 3.32 s, total: 1min 33s\n",
      "Wall time: 52.7 s\n",
      "TEST\n",
      "('Accuracy', 0.74004014049172107, 'Precision', 0.77909651301867699, 'Recall', 0.75284495021337128, 'F1', 0.76574580639327217)\n",
      "CPU times: user 36.8 ms, sys: 16.9 ms, total: 53.6 ms\n",
      "Wall time: 35.3 ms\n",
      "TRAIN\n",
      "('Accuracy', 0.81651055326589239, 'Precision', 0.85168456468636222, 'Recall', 0.81740168974211524, 'F1', 0.83419104369808594)\n",
      "CPU times: user 250 ms, sys: 56.1 ms, total: 306 ms\n",
      "Wall time: 202 ms\n",
      "ROC AUC\n"
     ]
    },
    {
     "data": {
      "image/png": "[encoded data removed]",
      "text/plain": [
       "<matplotlib.figure.Figure at 0x138cef950>"
      ]
     },
     "metadata": {},
     "output_type": "display_data"
    },
    {
     "name": "stdout",
     "output_type": "stream",
     "text": [
      "CPU times: user 193 ms, sys: 42.3 ms, total: 235 ms\n",
      "Wall time: 216 ms\n",
      "PRECISION/RECALL AUC\n"
     ]
    },
    {
     "data": {
      "image/png": "[encoded data removed]",
      "text/plain": [
       "<matplotlib.figure.Figure at 0x1144363d0>"
      ]
     },
     "metadata": {},
     "output_type": "display_data"
    },
    {
     "name": "stdout",
     "output_type": "stream",
     "text": [
      "CPU times: user 449 ms, sys: 66.2 ms, total: 515 ms\n",
      "Wall time: 400 ms\n"
     ]
    }
   ],
   "source": [
    "mlp = sklearn.neural_network.MLPClassifier()\n",
    "clf_nn = mlp\n",
    "%time clf_nn.fit(X[tidx],y[tidx])\n",
    "\n",
    "print(\"TEST\")\n",
    "%time evaluate(clf_nn,X[pidx],y[pidx])\n",
    "\n",
    "print(\"TRAIN\")\n",
    "%time evaluate(clf_nn,X[tidx],y[tidx])\n",
    "\n",
    "print(\"ROC AUC\")\n",
    "%time roc_auc(clf_nn,X,y)\n",
    "\n",
    "print(\"PRECISION/RECALL AUC\")\n",
    "%time prrc_auc(clf_nn,X,y)"
   ]
  },
  {
   "cell_type": "code",
   "execution_count": 17,
   "metadata": {},
   "outputs": [
    {
     "name": "stdout",
     "output_type": "stream",
     "text": [
      "CPU times: user 2.59 s, sys: 219 ms, total: 2.81 s\n",
      "Wall time: 2.33 s\n",
      "TEST\n",
      "Accuracy 0.71173456698 Precision 0.760003838403 Recall 0.706260032103 F1 0.732146984054\n",
      "CPU times: user 118 ms, sys: 90.6 ms, total: 209 ms\n",
      "Wall time: 216 ms\n",
      "TRAIN\n",
      "Accuracy 0.719376196853 Precision 0.769485042382 Recall 0.720252828854 F1 0.744055433157\n",
      "CPU times: user 437 ms, sys: 250 ms, total: 687 ms\n",
      "Wall time: 693 ms\n",
      "ROC AUC\n"
     ]
    },
    {
     "data": {
      "image/png": "[encoded data removed]",
      "text/plain": [
       "<matplotlib.figure.Figure at 0x15c0b8908>"
      ]
     },
     "metadata": {},
     "output_type": "display_data"
    },
    {
     "name": "stdout",
     "output_type": "stream",
     "text": [
      "CPU times: user 345 ms, sys: 101 ms, total: 446 ms\n",
      "Wall time: 469 ms\n",
      "PRECISION/RECALL AUC\n"
     ]
    },
    {
     "data": {
      "image/png": "[encoded data removed]",
      "text/plain": [
       "<matplotlib.figure.Figure at 0x15c0b8f60>"
      ]
     },
     "metadata": {},
     "output_type": "display_data"
    },
    {
     "name": "stdout",
     "output_type": "stream",
     "text": [
      "CPU times: user 752 ms, sys: 282 ms, total: 1.03 s\n",
      "Wall time: 827 ms\n"
     ]
    }
   ],
   "source": [
    "qda = sklearn.discriminant_analysis.QuadraticDiscriminantAnalysis()\n",
    "clf = qda\n",
    "%time clf.fit(X[tidx],y[tidx])\n",
    "\n",
    "print(\"TEST\")\n",
    "%time evaluate(clf,X[pidx],y[pidx])\n",
    "\n",
    "print(\"TRAIN\")\n",
    "%time evaluate(clf,X[tidx],y[tidx])\n",
    "\n",
    "print(\"ROC AUC\")\n",
    "%time roc_auc(clf,X,y)\n",
    "\n",
    "print(\"PRECISION/RECALL AUC\")\n",
    "%time prrc_auc(clf,X,y)"
   ]
  },
  {
   "cell_type": "code",
   "execution_count": 138,
   "metadata": {},
   "outputs": [
    {
     "name": "stdout",
     "output_type": "stream",
     "text": [
      "CPU times: user 853 µs, sys: 200 µs, total: 1.05 ms\n",
      "Wall time: 556 µs\n",
      "1.0\n",
      "done\n"
     ]
    }
   ],
   "source": [
    "\n",
    "#X = tweets\n",
    "%time prediction = clf_nn.predict(tvecs_predict[:N])\n",
    "\n",
    "mean = reduce(lambda x,y: (x+y), prediction)/float(len(prediction))\n",
    "\n",
    "print(mean)\n",
    "print(\"done\")"
   ]
  },
  {
   "cell_type": "code",
   "execution_count": null,
   "metadata": {
    "collapsed": true
   },
   "outputs": [],
   "source": []
  }
 ],
 "metadata": {
  "anaconda-cloud": {},
  "kernelspec": {
   "display_name": "Python 2",
   "language": "python",
   "name": "python2"
  },
  "language_info": {
   "codemirror_mode": {
    "name": "ipython",
    "version": 2
   },
   "file_extension": ".py",
   "mimetype": "text/x-python",
   "name": "python",
   "nbconvert_exporter": "python",
   "pygments_lexer": "ipython2",
   "version": "2.7.13"
  }
 },
 "nbformat": 4,
 "nbformat_minor": 1
}
