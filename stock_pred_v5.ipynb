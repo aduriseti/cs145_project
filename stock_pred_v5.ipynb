{
 "cells": [
  {
   "cell_type": "code",
   "execution_count": 1,
   "metadata": {
    "collapsed": true
   },
   "outputs": [],
   "source": [
    "import pandas as pd\n",
    "import numpy as np\n",
    "import os\n",
    "from datetime import datetime"
   ]
  },
  {
   "cell_type": "code",
   "execution_count": 2,
   "metadata": {
    "collapsed": true
   },
   "outputs": [],
   "source": [
    "datadirs = [\"Jan07-Jan10\",\"Jan10-onward\"]"
   ]
  },
  {
   "cell_type": "code",
   "execution_count": 3,
   "metadata": {
    "collapsed": false
   },
   "outputs": [
    {
     "name": "stdout",
     "output_type": "stream",
     "text": [
      "(408127, 9)\n",
      "(408127, 9)\n",
      "CPU times: user 12.5 s, sys: 1.15 s, total: 13.6 s\n",
      "Wall time: 19 s\n"
     ]
    }
   ],
   "source": [
    "%%time\n",
    "dfs = []\n",
    "for datadir in datadirs:\n",
    "    for root,dirs,files in os.walk(datadir):\n",
    "        for file in files:\n",
    "            name = file.split(\"_\")[0]\n",
    "            df = pd.read_csv(root+\"/\"+file,header=None)\n",
    "            df.columns = [\"datestr\",\"twt\",\"open\",\"high\",\"low\",\"close\",\"adjclose\"]\n",
    "            df[\"name\"] = [name]*df.shape[0]\n",
    "            dfs.append(df)\n",
    "\n",
    "df = pd.concat(dfs,axis=0)\n",
    "df[\"twt\"] = df[\"twt\"].astype(str)\n",
    "df[\"twtarr\"] = df[\"twt\"].apply(lambda text: text.lower().split())\n",
    "\n",
    "print(df.shape)\n",
    "df = df[df[\"datestr\"] != \"\"]\n",
    "print(df.shape)\n",
    "df[\"date\"] = df[\"datestr\"].apply( \\\n",
    "    lambda date: datetime.strptime(date,\"%Y-%m-%d\"))"
   ]
  },
  {
   "cell_type": "markdown",
   "metadata": {},
   "source": [
    "Open, High, Low, Close, Adj Close"
   ]
  },
  {
   "cell_type": "code",
   "execution_count": 12,
   "metadata": {
    "collapsed": false
   },
   "outputs": [
    {
     "name": "stdout",
     "output_type": "stream",
     "text": [
      "CPU times: user 1min 53s, sys: 1.84 s, total: 1min 55s\n",
      "Wall time: 1min\n"
     ]
    }
   ],
   "source": [
    "import gensim\n",
    "%time w2vM = gensim.models.Word2Vec(df[\"twtarr\"])"
   ]
  },
  {
   "cell_type": "code",
   "execution_count": 13,
   "metadata": {
    "collapsed": true
   },
   "outputs": [],
   "source": [
    "# number of samples to aggregate\n",
    "Ns = int(1e6)"
   ]
  },
  {
   "cell_type": "code",
   "execution_count": 15,
   "metadata": {
    "collapsed": false
   },
   "outputs": [
    {
     "name": "stderr",
     "output_type": "stream",
     "text": [
      "/Users/aduriseti/anaconda/lib/python3.5/site-packages/ipykernel/__main__.py:1: RuntimeWarning: Mean of empty slice.\n",
      "  if __name__ == '__main__':\n"
     ]
    },
    {
     "name": "stdout",
     "output_type": "stream",
     "text": [
      "CPU times: user 43.2 s, sys: 2.13 s, total: 45.4 s\n",
      "Wall time: 56.5 s\n",
      "CPU times: user 43.2 s, sys: 2.13 s, total: 45.4 s\n",
      "Wall time: 56.5 s\n"
     ]
    }
   ],
   "source": [
    "%%time\n",
    "# MEAN AGGREGATION\n",
    "# tvecs = np.array([np.array([w2vM[t] if t in w2vM\n",
    "#                                 else np.zeros((100,))\n",
    "#                             for t in twt]).mean(axis=0)\n",
    "#                  for twt in df[\"twtarr\"][:Ns]])\n",
    "# tvecs = np.array([np.array([w2vM[t]\n",
    "#                             for t in twt\n",
    "#                             if t in w2vM]).mean(axis=0)\n",
    "#                  for twt in df[\"twt\"][:Ns]])\n",
    "# SUM AGGREGATION\n",
    "# tvecs = np.array([np.array([w2vM[t] if t in w2vM\n",
    "#                                 else np.zeros((100,))\n",
    "#                             for t in twt]).sum(axis=0)\n",
    "#                  for twt in sentDf[\"SentimentText\"][:Ns]])\n",
    "# MEAN AGGREGATION\n",
    "# %time df[\"twtvecs\"] = df[\"twtarr\"][:Ns].apply(\\\n",
    "#     lambda twt: np.array([w2vM[t] \\\n",
    "#                          if t in w2vM else np.zeros((100,)) \\\n",
    "#                          for t in twt]).mean(axis=0))\n",
    "%time df[\"twtvecs\"] = df[\"twtarr\"][:Ns].apply(\\\n",
    "    lambda twt: np.array([w2vM[w] \\\n",
    "                          for w in twt\\\n",
    "                          if w in w2vM]).mean(axis=0))"
   ]
  },
  {
   "cell_type": "code",
   "execution_count": 16,
   "metadata": {
    "collapsed": false
   },
   "outputs": [
    {
     "name": "stdout",
     "output_type": "stream",
     "text": [
      "(408127, 11)\n",
      "CPU times: user 4.47 s, sys: 317 ms, total: 4.79 s\n",
      "Wall time: 5.69 s\n",
      "CPU times: user 59.9 ms, sys: 23.9 ms, total: 83.8 ms\n",
      "Wall time: 113 ms\n",
      "(403024, 11)\n"
     ]
    }
   ],
   "source": [
    "print(df.shape)\n",
    "%time veclens = df[\"twtvecs\"].apply(lambda vec: int(np.prod(vec.shape)))\n",
    "df_empty = df[veclens != 100]\n",
    "%time df = df[veclens == 100]\n",
    "print(df.shape)"
   ]
  },
  {
   "cell_type": "code",
   "execution_count": 51,
   "metadata": {
    "collapsed": false
   },
   "outputs": [
    {
     "name": "stdout",
     "output_type": "stream",
     "text": [
      "CPU times: user 1.97 s, sys: 1.1 s, total: 3.07 s\n",
      "Wall time: 4.45 s\n"
     ]
    }
   ],
   "source": [
    "%%time\n",
    "namedatedf = df[[\"date\",\"name\",\"open\"]].groupby([\"name\",\"date\"]).aggregate(lambda gp: tuple(set(gp))[0])\n",
    "# datedf = df[[\"date\",\"name\",\"open\"]].groupby([\"date\"]).aggregate(lambda gp: tuple(set(gp))[0])\n",
    "\n",
    "for name in namedatedf.index.levels[0]:\n",
    "    pval = namedatedf.loc[name,\"open\"].values.astype(float)\n",
    "    up = ((pval[1:] - pval[:-1]) > 0).astype(int)\n",
    "    up = list(up) + [0]\n",
    "    namedatedf.loc[name,\"openup\"] = up"
   ]
  },
  {
   "cell_type": "code",
   "execution_count": 52,
   "metadata": {
    "collapsed": false
   },
   "outputs": [
    {
     "name": "stdout",
     "output_type": "stream",
     "text": [
      "CPU times: user 8.81 s, sys: 537 ms, total: 9.35 s\n",
      "Wall time: 10.3 s\n"
     ]
    }
   ],
   "source": [
    "%%time\n",
    "namedategps = df[[\"date\",\"name\",\"twtvecs\"]].groupby([\"name\",\"date\"])\n",
    "# namedatekeys = [k for k,gp in namedategps]\n",
    "namedatevecs = [np.mean(gp.values[:,2],axis=0) for k,gp in namedategps]"
   ]
  },
  {
   "cell_type": "code",
   "execution_count": 53,
   "metadata": {
    "collapsed": false
   },
   "outputs": [
    {
     "name": "stdout",
     "output_type": "stream",
     "text": [
      "CPU times: user 1.59 ms, sys: 403 µs, total: 2 ms\n",
      "Wall time: 1.89 ms\n"
     ]
    }
   ],
   "source": [
    "%%time\n",
    "namedatedf[\"namedatevecs\"] = namedatevecs"
   ]
  },
  {
   "cell_type": "code",
   "execution_count": 63,
   "metadata": {
    "collapsed": false
   },
   "outputs": [
    {
     "name": "stdout",
     "output_type": "stream",
     "text": [
      "CPU times: user 4min 31s, sys: 7.37 s, total: 4min 38s\n",
      "Wall time: 6min 4s\n"
     ]
    }
   ],
   "source": [
    "%%time\n",
    "df[\"openup\"] = df[[\"name\",\"date\"]].apply(\\\n",
    "    lambda nd: namedatedf.loc[(nd[0],nd[1]),\"openup\"],\\\n",
    "    axis = 1)"
   ]
  },
  {
   "cell_type": "code",
   "execution_count": 56,
   "metadata": {
    "collapsed": false
   },
   "outputs": [],
   "source": [
    "import sklearn\n",
    "from sklearn import ensemble,svm,neural_network,discriminant_analysis\n",
    "from sklearn.metrics import roc_curve,auc,precision_recall_curve\n",
    "\n",
    "from matplotlib import pyplot as plt\n",
    "% matplotlib inline\n",
    "\n",
    "def roc_auc(clf,X,y):\n",
    "    probs = clf.predict_proba(X)\n",
    "    fpr, tpr, thresholds = roc_curve(y, probs[:, 1])\n",
    "    roc_auc = auc(fpr, tpr)\n",
    "    roc_str = 'ROC (AUC Gain = %0.2f)' % (roc_auc - 0.5)\n",
    "    plt.plot(fpr, tpr, lw=1,label=roc_str)\n",
    "    plt.plot([0,1],[0,1],label=\"RAN CLF\")\n",
    "    plt.title(roc_str)\n",
    "    plt.show()\n",
    "\n",
    "def prrc_auc(clf,X,y):\n",
    "    probs = clf.predict_proba(X)\n",
    "    pr, rc, thresholds = precision_recall_curve(y, probs[:, 1])\n",
    "    roc_auc = auc(rc, pr)\n",
    "    roc_str = 'Prec vs Recall (AUC Gain = %0.2f)' % (roc_auc - np.mean(y))\n",
    "    plt.plot(rc,pr, lw=1,label=roc_str)\n",
    "    plt.plot([0,1],[np.mean(y),np.mean(y)],label=\"RAN CLF\")\n",
    "    plt.axis([0,1,0,1])\n",
    "    plt.title(roc_str)\n",
    "    plt.show()\n",
    "\n",
    "def evaluate(clf,X,y):\n",
    "    yhat = clf.predict(X)\n",
    "    accu = np.mean(yhat == y)\n",
    "    prec = np.mean(y[yhat == 1])\n",
    "    recl = np.mean(yhat[y == 1])\n",
    "    f1 = 2 * prec * recl / (prec + recl)\n",
    "    print(\"Accuracy\",accu,\"Precision\",prec,\"Recall\",recl,\"F1\",f1)"
   ]
  },
  {
   "cell_type": "code",
   "execution_count": 73,
   "metadata": {
    "collapsed": false
   },
   "outputs": [
    {
     "data": {
      "text/html": [
       "<div>\n",
       "<table border=\"1\" class=\"dataframe\">\n",
       "  <thead>\n",
       "    <tr style=\"text-align: right;\">\n",
       "      <th></th>\n",
       "      <th></th>\n",
       "      <th>open</th>\n",
       "      <th>openup</th>\n",
       "      <th>namedatevecs</th>\n",
       "    </tr>\n",
       "    <tr>\n",
       "      <th>name</th>\n",
       "      <th>date</th>\n",
       "      <th></th>\n",
       "      <th></th>\n",
       "      <th></th>\n",
       "    </tr>\n",
       "  </thead>\n",
       "  <tbody>\n",
       "    <tr>\n",
       "      <th rowspan=\"5\" valign=\"top\">TXN</th>\n",
       "      <th>2017-05-02</th>\n",
       "      <td>79.160004</td>\n",
       "      <td>1.0</td>\n",
       "      <td>[0.0592978, -0.0283377, 0.223126, 0.125032, 0....</td>\n",
       "    </tr>\n",
       "    <tr>\n",
       "      <th>2017-05-24</th>\n",
       "      <td>80.300003</td>\n",
       "      <td>1.0</td>\n",
       "      <td>[0.644305, -0.211111, 0.0163964, 0.121538, 0.0...</td>\n",
       "    </tr>\n",
       "    <tr>\n",
       "      <th>2017-05-26</th>\n",
       "      <td>80.860001</td>\n",
       "      <td>1.0</td>\n",
       "      <td>[0.443938, -0.606893, -0.467474, 0.624851, -0....</td>\n",
       "    </tr>\n",
       "    <tr>\n",
       "      <th>2017-07-21</th>\n",
       "      <td>81.459999</td>\n",
       "      <td>1.0</td>\n",
       "      <td>[0.343834, -0.145501, -0.0450594, 0.0799796, 0...</td>\n",
       "    </tr>\n",
       "    <tr>\n",
       "      <th>2017-09-27</th>\n",
       "      <td>88.480003</td>\n",
       "      <td>0.0</td>\n",
       "      <td>[0.626472, -0.194325, 0.155123, 0.38399, 0.017...</td>\n",
       "    </tr>\n",
       "  </tbody>\n",
       "</table>\n",
       "</div>"
      ],
      "text/plain": [
       "                      open  openup  \\\n",
       "name date                            \n",
       "TXN  2017-05-02  79.160004     1.0   \n",
       "     2017-05-24  80.300003     1.0   \n",
       "     2017-05-26  80.860001     1.0   \n",
       "     2017-07-21  81.459999     1.0   \n",
       "     2017-09-27  88.480003     0.0   \n",
       "\n",
       "                                                      namedatevecs  \n",
       "name date                                                           \n",
       "TXN  2017-05-02  [0.0592978, -0.0283377, 0.223126, 0.125032, 0....  \n",
       "     2017-05-24  [0.644305, -0.211111, 0.0163964, 0.121538, 0.0...  \n",
       "     2017-05-26  [0.443938, -0.606893, -0.467474, 0.624851, -0....  \n",
       "     2017-07-21  [0.343834, -0.145501, -0.0450594, 0.0799796, 0...  \n",
       "     2017-09-27  [0.626472, -0.194325, 0.155123, 0.38399, 0.017...  "
      ]
     },
     "execution_count": 73,
     "metadata": {},
     "output_type": "execute_result"
    }
   ],
   "source": [
    "namedatedf.iloc[-5:]"
   ]
  },
  {
   "cell_type": "markdown",
   "metadata": {},
   "source": [
    "# Average of tweets in a day"
   ]
  },
  {
   "cell_type": "code",
   "execution_count": null,
   "metadata": {
    "collapsed": true
   },
   "outputs": [],
   "source": [
    "named"
   ]
  },
  {
   "cell_type": "code",
   "execution_count": null,
   "metadata": {
    "collapsed": true
   },
   "outputs": [],
   "source": [
    "X = np.array(name)"
   ]
  },
  {
   "cell_type": "code",
   "execution_count": 88,
   "metadata": {
    "collapsed": false
   },
   "outputs": [],
   "source": [
    "X = np.array([v for v in namedatedf[\"namedatevecs\"]])\n",
    "y = namedatedf[\"openup\"].values\n",
    "# inverse classifier\n",
    "# y = 1 - y"
   ]
  },
  {
   "cell_type": "code",
   "execution_count": null,
   "metadata": {
    "collapsed": true
   },
   "outputs": [],
   "source": []
  },
  {
   "cell_type": "code",
   "execution_count": 89,
   "metadata": {
    "collapsed": false
   },
   "outputs": [
    {
     "name": "stdout",
     "output_type": "stream",
     "text": [
      "(15926, 100) (15926,)\n"
     ]
    }
   ],
   "source": [
    "print(X.shape,y.shape)"
   ]
  },
  {
   "cell_type": "code",
   "execution_count": 90,
   "metadata": {
    "collapsed": false
   },
   "outputs": [],
   "source": [
    "# generate test/train split\n",
    "ratio = 0.8\n",
    "tidx = np.random.rand(X.shape[0]) < ratio\n",
    "pidx = ~tidx"
   ]
  },
  {
   "cell_type": "code",
   "execution_count": 91,
   "metadata": {
    "collapsed": false
   },
   "outputs": [
    {
     "name": "stdout",
     "output_type": "stream",
     "text": [
      "CPU times: user 803 ms, sys: 28.4 ms, total: 831 ms\n",
      "Wall time: 1.19 s\n"
     ]
    },
    {
     "data": {
      "text/plain": [
       "RandomForestClassifier(bootstrap=True, class_weight=None, criterion='gini',\n",
       "            max_depth=5, max_features='auto', max_leaf_nodes=None,\n",
       "            min_impurity_decrease=0.0, min_impurity_split=None,\n",
       "            min_samples_leaf=1, min_samples_split=2,\n",
       "            min_weight_fraction_leaf=0.0, n_estimators=10, n_jobs=1,\n",
       "            oob_score=False, random_state=None, verbose=0,\n",
       "            warm_start=False)"
      ]
     },
     "execution_count": 91,
     "metadata": {},
     "output_type": "execute_result"
    }
   ],
   "source": [
    "rf = sklearn.ensemble.RandomForestClassifier()\n",
    "rf.max_depth = 5\n",
    "clf = rf\n",
    "%time clf.fit(X[tidx],y[tidx])"
   ]
  },
  {
   "cell_type": "code",
   "execution_count": 92,
   "metadata": {
    "collapsed": false
   },
   "outputs": [
    {
     "name": "stdout",
     "output_type": "stream",
     "text": [
      "TEST\n",
      "Accuracy 0.519460138104 Precision 0.522625559423 Recall 0.647965474723 F1 0.578585191302\n",
      "CPU times: user 8.88 ms, sys: 3.63 ms, total: 12.5 ms\n",
      "Wall time: 10.7 ms\n",
      "TRAIN\n",
      "Accuracy 0.591130298273 Precision 0.580066773835 Recall 0.721248462485 F1 0.64299910904\n",
      "CPU times: user 21 ms, sys: 2.64 ms, total: 23.6 ms\n",
      "Wall time: 23.7 ms\n",
      "ROC AUC\n"
     ]
    },
    {
     "data": {
      "image/png": "[encoded data removed]",
      "text/plain": [
       "<matplotlib.figure.Figure at 0x155e6eb38>"
      ]
     },
     "metadata": {},
     "output_type": "display_data"
    },
    {
     "name": "stdout",
     "output_type": "stream",
     "text": [
      "CPU times: user 260 ms, sys: 33.7 ms, total: 294 ms\n",
      "Wall time: 331 ms\n",
      "PRECISION/RECALL AUC\n"
     ]
    },
    {
     "data": {
      "image/png": "[encoded data removed]",
      "text/plain": [
       "<matplotlib.figure.Figure at 0x158113940>"
      ]
     },
     "metadata": {},
     "output_type": "display_data"
    },
    {
     "name": "stdout",
     "output_type": "stream",
     "text": [
      "CPU times: user 280 ms, sys: 15.3 ms, total: 295 ms\n",
      "Wall time: 572 ms\n"
     ]
    }
   ],
   "source": [
    "print(\"TEST\")\n",
    "%time evaluate(clf,X[pidx],y[pidx])\n",
    "\n",
    "print(\"TRAIN\")\n",
    "%time evaluate(clf,X[tidx],y[tidx])\n",
    "\n",
    "print(\"ROC AUC\")\n",
    "%time roc_auc(clf,X[pidx],y[pidx])\n",
    "\n",
    "print(\"PRECISION/RECALL AUC\")\n",
    "%time prrc_auc(clf,X[pidx],y[pidx])"
   ]
  },
  {
   "cell_type": "code",
   "execution_count": 349,
   "metadata": {
    "collapsed": false
   },
   "outputs": [
    {
     "name": "stdout",
     "output_type": "stream",
     "text": [
      "CPU times: user 16.7 s, sys: 1.42 s, total: 18.1 s\n",
      "Wall time: 20.3 s\n",
      "TEST\n",
      "Accuracy 0.528307888041 Precision 0.547603833866 Recall 0.52512254902 F1 0.536127619643\n",
      "CPU times: user 10.4 ms, sys: 6.04 ms, total: 16.4 ms\n",
      "Wall time: 12.8 ms\n",
      "TRAIN\n",
      "Accuracy 0.691477716966 Precision 0.700881612091 Recall 0.68513388735 F1 0.692918287938\n",
      "CPU times: user 41.6 ms, sys: 18.7 ms, total: 60.3 ms\n",
      "Wall time: 38.8 ms\n",
      "ROC AUC\n"
     ]
    },
    {
     "data": {
      "image/png": "[encoded data removed]",
      "text/plain": [
       "<matplotlib.figure.Figure at 0x16c85bf28>"
      ]
     },
     "metadata": {},
     "output_type": "display_data"
    },
    {
     "name": "stdout",
     "output_type": "stream",
     "text": [
      "CPU times: user 973 ms, sys: 1.36 s, total: 2.33 s\n",
      "Wall time: 4.31 s\n",
      "PRECISION/RECALL AUC\n"
     ]
    },
    {
     "data": {
      "image/png": "[encoded data removed]",
      "text/plain": [
       "<matplotlib.figure.Figure at 0x162e0e9b0>"
      ]
     },
     "metadata": {},
     "output_type": "display_data"
    },
    {
     "name": "stdout",
     "output_type": "stream",
     "text": [
      "CPU times: user 310 ms, sys: 19.7 ms, total: 330 ms\n",
      "Wall time: 619 ms\n"
     ]
    }
   ],
   "source": [
    "mlp = sklearn.neural_network.MLPClassifier()\n",
    "clf = mlp\n",
    "%time clf.fit(X[tidx],y[tidx])\n",
    "\n",
    "print(\"TEST\")\n",
    "%time evaluate(clf,X[pidx],y[pidx])\n",
    "\n",
    "print(\"TRAIN\")\n",
    "%time evaluate(clf,X[tidx],y[tidx])\n",
    "\n",
    "print(\"ROC AUC\")\n",
    "%time roc_auc(clf,X[pidx],y[pidx])\n",
    "\n",
    "print(\"PRECISION/RECALL AUC\")\n",
    "%time prrc_auc(clf,X[pidx],y[pidx])"
   ]
  },
  {
   "cell_type": "code",
   "execution_count": 350,
   "metadata": {
    "collapsed": false
   },
   "outputs": [
    {
     "name": "stdout",
     "output_type": "stream",
     "text": [
      "CPU times: user 328 ms, sys: 60.5 ms, total: 389 ms\n",
      "Wall time: 734 ms\n",
      "TEST\n",
      "Accuracy 0.492684478372 Precision 0.523870967742 Recall 0.248774509804 F1 0.33734939759\n",
      "CPU times: user 19.2 ms, sys: 7.64 ms, total: 26.8 ms\n",
      "Wall time: 21.7 ms\n",
      "TRAIN\n",
      "Accuracy 0.563017982799 Precision 0.647612861319 Recall 0.306863650354 F1 0.416414325989\n",
      "CPU times: user 70.2 ms, sys: 40.2 ms, total: 110 ms\n",
      "Wall time: 134 ms\n",
      "ROC AUC\n"
     ]
    },
    {
     "data": {
      "image/png": "[encoded data removed]",
      "text/plain": [
       "<matplotlib.figure.Figure at 0x11f9aec18>"
      ]
     },
     "metadata": {},
     "output_type": "display_data"
    },
    {
     "name": "stdout",
     "output_type": "stream",
     "text": [
      "CPU times: user 319 ms, sys: 20.5 ms, total: 339 ms\n",
      "Wall time: 852 ms\n",
      "PRECISION/RECALL AUC\n"
     ]
    },
    {
     "data": {
      "image/png": "[encoded data removed]",
      "text/plain": [
       "<matplotlib.figure.Figure at 0x1375a5860>"
      ]
     },
     "metadata": {},
     "output_type": "display_data"
    },
    {
     "name": "stdout",
     "output_type": "stream",
     "text": [
      "CPU times: user 306 ms, sys: 16.3 ms, total: 322 ms\n",
      "Wall time: 600 ms\n"
     ]
    }
   ],
   "source": [
    "qda = sklearn.discriminant_analysis.QuadraticDiscriminantAnalysis()\n",
    "clf = qda\n",
    "%time clf.fit(X[tidx],y[tidx])\n",
    "\n",
    "print(\"TEST\")\n",
    "%time evaluate(clf,X[pidx],y[pidx])\n",
    "\n",
    "print(\"TRAIN\")\n",
    "%time evaluate(clf,X[tidx],y[tidx])\n",
    "\n",
    "print(\"ROC AUC\")\n",
    "%time roc_auc(clf,X[pidx],y[pidx])\n",
    "\n",
    "print(\"PRECISION/RECALL AUC\")\n",
    "%time prrc_auc(clf,X[pidx],y[pidx])"
   ]
  },
  {
   "cell_type": "markdown",
   "metadata": {},
   "source": [
    "# Single tweets"
   ]
  },
  {
   "cell_type": "code",
   "execution_count": 64,
   "metadata": {
    "collapsed": false
   },
   "outputs": [],
   "source": [
    "# number of samples to train on\n",
    "N = int(1e6)\n",
    "X = np.array([x.T for x in df[\"twtvecs\"][:N].values])\n",
    "y = df[\"openup\"][:N].values\n",
    "# inverse classifier\n",
    "# y = 1 - y"
   ]
  },
  {
   "cell_type": "code",
   "execution_count": 65,
   "metadata": {
    "collapsed": false
   },
   "outputs": [
    {
     "name": "stdout",
     "output_type": "stream",
     "text": [
      "(403024, 100) (403024,)\n"
     ]
    }
   ],
   "source": [
    "print(X.shape,y.shape)"
   ]
  },
  {
   "cell_type": "code",
   "execution_count": 66,
   "metadata": {
    "collapsed": false
   },
   "outputs": [
    {
     "data": {
      "text/plain": [
       "1000000"
      ]
     },
     "execution_count": 66,
     "metadata": {},
     "output_type": "execute_result"
    }
   ],
   "source": [
    "N"
   ]
  },
  {
   "cell_type": "code",
   "execution_count": 67,
   "metadata": {
    "collapsed": true
   },
   "outputs": [],
   "source": [
    "# generate test/train split\n",
    "ratio = 0.8\n",
    "tidx = np.random.rand(min(X.shape[0],N)) < ratio\n",
    "pidx = ~tidx"
   ]
  },
  {
   "cell_type": "code",
   "execution_count": 71,
   "metadata": {
    "collapsed": false
   },
   "outputs": [
    {
     "name": "stdout",
     "output_type": "stream",
     "text": [
      "CPU times: user 28.7 s, sys: 536 ms, total: 29.3 s\n",
      "Wall time: 33.5 s\n",
      "TEST\n",
      "Accuracy 0.515480830907 Precision 0.514173073132 Recall 0.944251375615 F1 0.665798810527\n",
      "CPU times: user 132 ms, sys: 32.1 ms, total: 164 ms\n",
      "Wall time: 168 ms\n",
      "TRAIN\n",
      "Accuracy 0.518216774963 Precision 0.514963402205 Recall 0.948019274231 F1 0.66739714513\n",
      "CPU times: user 392 ms, sys: 54.3 ms, total: 446 ms\n",
      "Wall time: 454 ms\n",
      "ROC AUC\n"
     ]
    },
    {
     "data": {
      "image/png": "[encoded data removed]",
      "text/plain": [
       "<matplotlib.figure.Figure at 0x155e713c8>"
      ]
     },
     "metadata": {},
     "output_type": "display_data"
    },
    {
     "name": "stdout",
     "output_type": "stream",
     "text": [
      "CPU times: user 349 ms, sys: 44.3 ms, total: 393 ms\n",
      "Wall time: 410 ms\n",
      "PRECISION/RECALL AUC\n"
     ]
    },
    {
     "data": {
      "image/png": "[encoded data removed]",
      "text/plain": [
       "<matplotlib.figure.Figure at 0x155e717f0>"
      ]
     },
     "metadata": {},
     "output_type": "display_data"
    },
    {
     "name": "stdout",
     "output_type": "stream",
     "text": [
      "CPU times: user 351 ms, sys: 23.6 ms, total: 375 ms\n",
      "Wall time: 384 ms\n"
     ]
    }
   ],
   "source": [
    "rf = sklearn.ensemble.RandomForestClassifier()\n",
    "rf.max_depth = 5\n",
    "clf = rf\n",
    "%time clf.fit(X[tidx],y[tidx])\n",
    "\n",
    "print(\"TEST\")\n",
    "%time evaluate(clf,X[pidx],y[pidx])\n",
    "\n",
    "print(\"TRAIN\")\n",
    "%time evaluate(clf,X[tidx],y[tidx])\n",
    "\n",
    "print(\"ROC AUC\")\n",
    "%time roc_auc(clf,X[pidx],y[pidx])\n",
    "\n",
    "print(\"PRECISION/RECALL AUC\")\n",
    "%time prrc_auc(clf,X[pidx],y[pidx])"
   ]
  },
  {
   "cell_type": "code",
   "execution_count": 381,
   "metadata": {
    "collapsed": false
   },
   "outputs": [
    {
     "name": "stdout",
     "output_type": "stream",
     "text": [
      "CPU times: user 12min 43s, sys: 53 s, total: 13min 36s\n",
      "Wall time: 14min 18s\n",
      "TEST\n",
      "Accuracy 0.550518008112 Precision 0.556436937147 Recall 0.572917917798 F1 0.56455717177\n",
      "CPU times: user 1.33 s, sys: 427 ms, total: 1.75 s\n",
      "Wall time: 1.65 s\n",
      "TRAIN\n",
      "Accuracy 0.598902766072 Precision 0.603597357044 Recall 0.622449347466 F1 0.612878415874\n",
      "CPU times: user 5.21 s, sys: 876 ms, total: 6.09 s\n",
      "Wall time: 6.22 s\n",
      "ROC AUC\n"
     ]
    },
    {
     "data": {
      "image/png": "[encoded data removed]",
      "text/plain": [
       "<matplotlib.figure.Figure at 0x123837c88>"
      ]
     },
     "metadata": {},
     "output_type": "display_data"
    },
    {
     "name": "stdout",
     "output_type": "stream",
     "text": [
      "CPU times: user 1.63 s, sys: 211 ms, total: 1.84 s\n",
      "Wall time: 1.74 s\n",
      "PRECISION/RECALL AUC\n"
     ]
    },
    {
     "data": {
      "image/png": "[encoded data removed]",
      "text/plain": [
       "<matplotlib.figure.Figure at 0x13759ee48>"
      ]
     },
     "metadata": {},
     "output_type": "display_data"
    },
    {
     "name": "stdout",
     "output_type": "stream",
     "text": [
      "CPU times: user 2.28 s, sys: 2.28 s, total: 4.56 s\n",
      "Wall time: 7.45 s\n"
     ]
    }
   ],
   "source": [
    "mlp = sklearn.neural_network.MLPClassifier()\n",
    "clf = mlp\n",
    "%time clf.fit(X[tidx],y[tidx])\n",
    "\n",
    "print(\"TEST\")\n",
    "%time evaluate(clf,X[pidx],y[pidx])\n",
    "\n",
    "print(\"TRAIN\")\n",
    "%time evaluate(clf,X[tidx],y[tidx])\n",
    "\n",
    "print(\"ROC AUC\")\n",
    "%time roc_auc(clf,X[pidx],y[pidx])\n",
    "\n",
    "print(\"PRECISION/RECALL AUC\")\n",
    "%time prrc_auc(clf,X[pidx],y[pidx])"
   ]
  },
  {
   "cell_type": "code",
   "execution_count": 382,
   "metadata": {
    "collapsed": false
   },
   "outputs": [
    {
     "name": "stdout",
     "output_type": "stream",
     "text": [
      "CPU times: user 12.1 s, sys: 1.49 s, total: 13.6 s\n",
      "Wall time: 21.2 s\n",
      "TEST\n",
      "Accuracy 0.522332991253 Precision 0.540507666208 Recall 0.405630690144 F1 0.463455468643\n",
      "CPU times: user 468 ms, sys: 364 ms, total: 832 ms\n",
      "Wall time: 927 ms\n",
      "TRAIN\n",
      "Accuracy 0.533019691978 Precision 0.556394052641 Recall 0.416870959214 F1 0.476631790109\n",
      "CPU times: user 2.2 s, sys: 2.01 s, total: 4.21 s\n",
      "Wall time: 6.05 s\n",
      "ROC AUC\n"
     ]
    },
    {
     "data": {
      "image/png": "[encoded data removed]",
      "text/plain": [
       "<matplotlib.figure.Figure at 0x11ddfb550>"
      ]
     },
     "metadata": {},
     "output_type": "display_data"
    },
    {
     "name": "stdout",
     "output_type": "stream",
     "text": [
      "CPU times: user 819 ms, sys: 307 ms, total: 1.13 s\n",
      "Wall time: 1.62 s\n",
      "PRECISION/RECALL AUC\n"
     ]
    },
    {
     "data": {
      "image/png": "[encoded data removed]",
      "text/plain": [
       "<matplotlib.figure.Figure at 0x115870cf8>"
      ]
     },
     "metadata": {},
     "output_type": "display_data"
    },
    {
     "name": "stdout",
     "output_type": "stream",
     "text": [
      "CPU times: user 849 ms, sys: 237 ms, total: 1.09 s\n",
      "Wall time: 1.51 s\n"
     ]
    }
   ],
   "source": [
    "qda = sklearn.discriminant_analysis.QuadraticDiscriminantAnalysis()\n",
    "clf = qda\n",
    "%time clf.fit(X[tidx],y[tidx])\n",
    "\n",
    "print(\"TEST\")\n",
    "%time evaluate(clf,X[pidx],y[pidx])\n",
    "\n",
    "print(\"TRAIN\")\n",
    "%time evaluate(clf,X[tidx],y[tidx])\n",
    "\n",
    "print(\"ROC AUC\")\n",
    "%time roc_auc(clf,X[pidx],y[pidx])\n",
    "\n",
    "print(\"PRECISION/RECALL AUC\")\n",
    "%time prrc_auc(clf,X[pidx],y[pidx])"
   ]
  }
 ],
 "metadata": {
  "anaconda-cloud": {},
  "kernelspec": {
   "display_name": "Python [default]",
   "language": "python",
   "name": "python3"
  },
  "language_info": {
   "codemirror_mode": {
    "name": "ipython",
    "version": 3
   },
   "file_extension": ".py",
   "mimetype": "text/x-python",
   "name": "python",
   "nbconvert_exporter": "python",
   "pygments_lexer": "ipython3",
   "version": "3.5.2"
  }
 },
 "nbformat": 4,
 "nbformat_minor": 1
}
