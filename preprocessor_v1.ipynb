{
 "cells": [
  {
   "cell_type": "code",
   "execution_count": 2,
   "metadata": {
    "collapsed": true
   },
   "outputs": [],
   "source": [
    "import tweepy\n",
    "from GetOldTweets import got\n",
    "\n",
    "consumer_key = \"51MI8RrYmzO4btCKG4Qb5uqAa\"\n",
    "consumer_secret = \"ajpPv3Ag0NvMEQLBIwiPyDyU78BbLZn8IS1gTba4x9ZOHNPMNM\"\n",
    "access_token = \"3004471069-VDbNpT9NO0QOtiqKZXkoH5Flv4MArCflIYImXjn\"\n",
    "access_token_secret = \"sP6KMjPZXxYAnaae8bOiauLjCVnx8bzWkBk4KU1iZBxdl\"\n",
    "\n",
    "# Creating the authentication object\n",
    "auth = tweepy.OAuthHandler(consumer_key, consumer_secret)\n",
    "# Setting your access token and secret\n",
    "auth.set_access_token(access_token, access_token_secret)\n",
    "# Creating the API object while passing in auth information\n",
    "api = tweepy.API(auth) \n",
    "\n"
   ]
  },
  {
   "cell_type": "code",
   "execution_count": 3,
   "metadata": {
    "collapsed": true
   },
   "outputs": [],
   "source": [
    "def printTweets(tweets):\n",
    "    print(\"# tweets is: \"+str(len(tweets)))\n",
    "    counter = 0\n",
    "    for tweet in tweets:\n",
    "        print(str(counter)+\": \" + tweet.text)\n",
    "\n",
    "\n",
    "        counter += 1"
   ]
  },
  {
   "cell_type": "code",
   "execution_count": 4,
   "metadata": {
    "collapsed": true
   },
   "outputs": [],
   "source": [
    "def printDateText(tweets):\n",
    "    print(\"# tweets is: \"+str(len(tweets)))\n",
    "    counter = 0\n",
    "    for tweet in tweets:\n",
    "        print(str(counter)+\": \" + str(tweet.date)+\"  ||  \" + tweet.text)\n",
    "\n",
    "\n",
    "\n",
    "        counter += 1"
   ]
  },
  {
   "cell_type": "code",
   "execution_count": 5,
   "metadata": {
    "collapsed": true
   },
   "outputs": [],
   "source": [
    "def getSortCriteria(tweet):\n",
    "    print(tweet)\n",
    "    return tweet.date\n",
    "\n"
   ]
  },
  {
   "cell_type": "code",
   "execution_count": 6,
   "metadata": {
    "collapsed": true
   },
   "outputs": [],
   "source": [
    "def writeToFile(path, tweets, language=None):\n",
    "    output = open(\"tweettext.txt\", \"wb\")\n",
    "    counter = 0\n",
    "\n",
    "    for tweet in new_tweets[:n]:\n",
    "        # printing the text stored inside the tweet object\n",
    "    #    print(tweet.user.screen_name,\"Tweeted:\",tweet.text)\n",
    "        if (language == None) or (language == tweet.lang):\n",
    "            adjusted_tweet = (tweet.text).encode('utf-8')\n",
    "\n",
    "            output.write(adjusted_tweet)\n",
    "            print(str(counter)+adjusted_tweet)\n",
    "            output.write(\"\\n\")\n",
    "\n",
    "            print(tweet.created_at)\n",
    "\n",
    "            counter += 1\n",
    "            \n",
    "  \n",
    "    output.close()"
   ]
  },
  {
   "cell_type": "code",
   "execution_count": 20,
   "metadata": {},
   "outputs": [],
   "source": [
    "import urllib2\n",
    "from bs4 import BeautifulSoup as bs\n",
    "\n",
    "def get_historical_data(name, number_of_days):\n",
    "    data = []\n",
    "    url = \"https://finance.yahoo.com/quote/\" + name + \"/history/\"\n",
    "    rows = bs(urllib2.urlopen(url).read()).findAll('table')[0].tbody.findAll('tr')\n",
    "\n",
    "    for each_row in rows:\n",
    "        divs = each_row.findAll('td')\n",
    "        if divs[1].span.text  != 'Dividend': #Ignore this row in the table\n",
    "            #I'm only interested in 'Open' price; For other values, play with divs[1 - 5]\n",
    "            data.append({'Date': divs[0].span.text, 'Open': float(divs[1].span.text.replace(',',''))})\n",
    "\n",
    "    return data[number_of_days:number_of_days+1]\n"
   ]
  },
  {
   "cell_type": "code",
   "execution_count": 21,
   "metadata": {},
   "outputs": [
    {
     "name": "stdout",
     "output_type": "stream",
     "text": [
      "printing old tweets\n",
      "size pre-filtering: 10\n",
      "filtered: 10\n",
      "<GetOldTweets.got.models.Tweet.Tweet instance at 0x1064dac20>\n",
      "<GetOldTweets.got.models.Tweet.Tweet instance at 0x1064da830>\n",
      "<GetOldTweets.got.models.Tweet.Tweet instance at 0x1064cbe60>\n",
      "<GetOldTweets.got.models.Tweet.Tweet instance at 0x106384a70>\n",
      "<GetOldTweets.got.models.Tweet.Tweet instance at 0x1064cb680>\n",
      "<GetOldTweets.got.models.Tweet.Tweet instance at 0x1063848c0>\n",
      "<GetOldTweets.got.models.Tweet.Tweet instance at 0x106384ef0>\n",
      "<GetOldTweets.got.models.Tweet.Tweet instance at 0x1064cbb00>\n",
      "<GetOldTweets.got.models.Tweet.Tweet instance at 0x1064cbf38>\n",
      "<GetOldTweets.got.models.Tweet.Tweet instance at 0x1064da3b0>\n",
      "[{'Date': u'Nov 13, 2017', 'Open': 1123.0}]\n",
      "10\n"
     ]
    },
    {
     "name": "stderr",
     "output_type": "stream",
     "text": [
      "/anaconda2/lib/python2.7/site-packages/bs4/__init__.py:181: UserWarning: No parser was explicitly specified, so I'm using the best available HTML parser for this system (\"lxml\"). This usually isn't a problem, but if you run this code on another system, or in a different virtual environment, it may use a different parser and behave differently.\n",
      "\n",
      "The code that caused this warning is on line 174 of the file /anaconda2/lib/python2.7/runpy.py. To get rid of this warning, change code that looks like this:\n",
      "\n",
      " BeautifulSoup(YOUR_MARKUP})\n",
      "\n",
      "to this:\n",
      "\n",
      " BeautifulSoup(YOUR_MARKUP, \"lxml\")\n",
      "\n",
      "  markup_type=markup_type))\n"
     ]
    }
   ],
   "source": [
    "from yahoo_finance import Share\n",
    "\n",
    "remove_duplicates = True\n",
    "query = \"Amazon\"\n",
    "stock_ticker = \"AMZN\"\n",
    "max_tweets = 10\n",
    "n = max_tweets\n",
    "\n",
    "start_date = \"2015-01-01\"\n",
    "end_date = \"2017-11-01\"\n",
    "\n",
    "#new_tweets = [tweet for tweet in tweepy.Cursor(api.search, \n",
    "                                   #        q=query).items(max_tweets)]\n",
    "\n",
    "#get old tweets\n",
    "tweetCriteria = got.manager.TweetCriteria().setQuerySearch(query).setSince(start_date).setUntil(end_date).setMaxTweets(max_tweets)\n",
    "old_tweets = got.manager.TweetManager.getTweets(tweetCriteria)#[0]\n",
    "\n",
    "#print(len(old_tweets))\n",
    "print(\"printing old tweets\")\n",
    "#printTweets(old_tweets)\n",
    "\n",
    "\n",
    "\n",
    "        \n",
    "combined_tweets = old_tweets #+ new_tweets\n",
    "if remove_duplicates: \n",
    "    combined_tweets = list(set(combined_tweets)) #remove duplicates\n",
    "    \n",
    "print(\"size pre-filtering: \" + str(len(combined_tweets)) )\n",
    "\n",
    "counter = 0\n",
    "for tweet in combined_tweets:\n",
    "#    print(counter)\n",
    "    try:\n",
    "        if tweet.date:\n",
    "            counter += 1\n",
    "            continue\n",
    "    except AttributeError:\n",
    "        print(\"exception on number: \" + str(counter))\n",
    "        print(tweet.text)\n",
    "       # combined_tweets.remove(tweet)\n",
    "        combined_tweets = list(filter(lambda twt: twt != tweet, combined_tweets))\n",
    "        \n",
    "        counter += 1\n",
    "        \n",
    "print(\"filtered: \" + str(counter) )      \n",
    "#printTweets(combined_tweets)\n",
    "\n",
    "#sort by date\n",
    "combined_tweets.sort(key=getSortCriteria)\n",
    "#printDateText(combined_tweets)\n",
    "    \n",
    "    \n",
    "#find associated stock prices\n",
    "#stock = Share( stock_ticker )\n",
    "#for tweet in combined_tweets:\n",
    "#    date = tweet.date\n",
    "#    print(stock.get_historical(date, date))\n",
    "    \n",
    "print(get_historical_data(stock_ticker, 10))\n",
    "    \n",
    "print(counter)    \n"
   ]
  },
  {
   "cell_type": "code",
   "execution_count": null,
   "metadata": {
    "collapsed": true
   },
   "outputs": [],
   "source": []
  },
  {
   "cell_type": "code",
   "execution_count": null,
   "metadata": {
    "collapsed": true
   },
   "outputs": [],
   "source": []
  }
 ],
 "metadata": {
  "kernelspec": {
   "display_name": "Python 2",
   "language": "python",
   "name": "python2"
  },
  "language_info": {
   "codemirror_mode": {
    "name": "ipython",
    "version": 2
   },
   "file_extension": ".py",
   "mimetype": "text/x-python",
   "name": "python",
   "nbconvert_exporter": "python",
   "pygments_lexer": "ipython2",
   "version": "2.7.14"
  }
 },
 "nbformat": 4,
 "nbformat_minor": 2
}
