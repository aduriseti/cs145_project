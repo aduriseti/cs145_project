{
 "cells": [
  {
   "cell_type": "code",
   "execution_count": 1,
   "metadata": {
    "collapsed": true
   },
   "outputs": [],
   "source": [
    "import pandas as pd\n",
    "import numpy as np\n",
    "import os\n",
    "from datetime import datetime"
   ]
  },
  {
   "cell_type": "code",
   "execution_count": 2,
   "metadata": {
    "collapsed": true
   },
   "outputs": [],
   "source": [
    "# datadirs = [\"Jan07-Jan10\",\"Jan10-onward\"]\n",
    "datadirs = [\"aapltwt\"]"
   ]
  },
  {
   "cell_type": "code",
   "execution_count": 3,
   "metadata": {
    "collapsed": false
   },
   "outputs": [
    {
     "name": "stdout",
     "output_type": "stream",
     "text": [
      "tweets aapltwt/tweets_AAPL.csv\n",
      "CPU times: user 1.77 s, sys: 217 ms, total: 1.99 s\n",
      "Wall time: 3.03 s\n"
     ]
    },
    {
     "name": "stderr",
     "output_type": "stream",
     "text": [
      "<string>:2: DtypeWarning: Columns (7) have mixed types. Specify dtype option on import or set low_memory=False.\n"
     ]
    }
   ],
   "source": [
    "%%time\n",
    "dfs = []\n",
    "for datadir in datadirs:\n",
    "    for root,dirs,files in os.walk(datadir):\n",
    "        for file in files:\n",
    "            if file == \".DS_Store\": continue\n",
    "            name = file.split(\"_\")[0]\n",
    "            print(name,root+\"/\"+file)\n",
    "            df = pd.read_csv(root+\"/\"+file)\n",
    "#             columns = df.columns\n",
    "#             columns[:7] = [\"datestr\",\"twt\",\"open\",\"high\",\"low\",\"close\",\"adjclose\"]\n",
    "#             df.columns = columns\n",
    "            df[\"name\"] = [name]*df.shape[0]\n",
    "            dfs.append(df)"
   ]
  },
  {
   "cell_type": "code",
   "execution_count": 4,
   "metadata": {
    "collapsed": true
   },
   "outputs": [],
   "source": [
    "df = pd.concat(dfs,axis=0)\n",
    "df[\"twt\"] = df[\"twt\"].astype(str)\n",
    "df[\"twtarr\"] = df[\"twt\"].apply(lambda text: text.lower().split())"
   ]
  },
  {
   "cell_type": "code",
   "execution_count": 8,
   "metadata": {
    "collapsed": false
   },
   "outputs": [
    {
     "name": "stdout",
     "output_type": "stream",
     "text": [
      "(221345, 10)\n",
      "(221343, 10)\n"
     ]
    }
   ],
   "source": [
    "print(df.shape)\n",
    "df = df[df[\"datestr\"].notnull()]\n",
    "print(df.shape)"
   ]
  },
  {
   "cell_type": "code",
   "execution_count": 9,
   "metadata": {
    "collapsed": false
   },
   "outputs": [
    {
     "name": "stdout",
     "output_type": "stream",
     "text": [
      "(221343, 10)\n",
      "(221343, 10)\n"
     ]
    }
   ],
   "source": [
    "df[\"datestr\"] = df[\"datestr\"].astype(str)\n",
    "print(df.shape)\n",
    "df = df[df[\"datestr\"] != \"\"]\n",
    "print(df.shape)"
   ]
  },
  {
   "cell_type": "code",
   "execution_count": 10,
   "metadata": {
    "collapsed": false
   },
   "outputs": [],
   "source": [
    "df[\"date\"] = df[\"datestr\"].apply( \\\n",
    "    lambda date: datetime.strptime(date,\"%m/%d/%y\"))"
   ]
  },
  {
   "cell_type": "markdown",
   "metadata": {},
   "source": [
    "Open, High, Low, Close, Adj Close"
   ]
  },
  {
   "cell_type": "code",
   "execution_count": 11,
   "metadata": {
    "collapsed": false
   },
   "outputs": [
    {
     "name": "stdout",
     "output_type": "stream",
     "text": [
      "CPU times: user 57.1 s, sys: 971 ms, total: 58.1 s\n",
      "Wall time: 34.2 s\n"
     ]
    }
   ],
   "source": [
    "import gensim\n",
    "%time w2vM = gensim.models.Word2Vec(df[\"twtarr\"])"
   ]
  },
  {
   "cell_type": "code",
   "execution_count": 12,
   "metadata": {
    "collapsed": true
   },
   "outputs": [],
   "source": [
    "# number of samples to aggregate\n",
    "Ns = int(1e6)"
   ]
  },
  {
   "cell_type": "code",
   "execution_count": 13,
   "metadata": {
    "collapsed": false
   },
   "outputs": [
    {
     "name": "stderr",
     "output_type": "stream",
     "text": [
      "/Users/aduriseti/anaconda/lib/python3.5/site-packages/ipykernel/__main__.py:1: RuntimeWarning: Mean of empty slice.\n",
      "  if __name__ == '__main__':\n"
     ]
    },
    {
     "name": "stdout",
     "output_type": "stream",
     "text": [
      "CPU times: user 26.2 s, sys: 961 ms, total: 27.1 s\n",
      "Wall time: 40.3 s\n",
      "CPU times: user 26.2 s, sys: 963 ms, total: 27.2 s\n",
      "Wall time: 40.3 s\n"
     ]
    }
   ],
   "source": [
    "%%time\n",
    "# MEAN AGGREGATION\n",
    "# tvecs = np.array([np.array([w2vM[t] if t in w2vM\n",
    "#                                 else np.zeros((100,))\n",
    "#                             for t in twt]).mean(axis=0)\n",
    "#                  for twt in df[\"twtarr\"][:Ns]])\n",
    "# tvecs = np.array([np.array([w2vM[t]\n",
    "#                             for t in twt\n",
    "#                             if t in w2vM]).mean(axis=0)\n",
    "#                  for twt in df[\"twt\"][:Ns]])\n",
    "# SUM AGGREGATION\n",
    "# tvecs = np.array([np.array([w2vM[t] if t in w2vM\n",
    "#                                 else np.zeros((100,))\n",
    "#                             for t in twt]).sum(axis=0)\n",
    "#                  for twt in sentDf[\"SentimentText\"][:Ns]])\n",
    "# MEAN AGGREGATION\n",
    "# %time df[\"twtvecs\"] = df[\"twtarr\"][:Ns].apply(\\\n",
    "#     lambda twt: np.array([w2vM[t] \\\n",
    "#                          if t in w2vM else np.zeros((100,)) \\\n",
    "#                          for t in twt]).mean(axis=0))\n",
    "%time df[\"twtvecs\"] = df[\"twtarr\"][:Ns].apply(\\\n",
    "    lambda twt: np.array([w2vM[w] \\\n",
    "                          for w in twt\\\n",
    "                          if w in w2vM]).mean(axis=0))"
   ]
  },
  {
   "cell_type": "code",
   "execution_count": 14,
   "metadata": {
    "collapsed": false
   },
   "outputs": [
    {
     "name": "stdout",
     "output_type": "stream",
     "text": [
      "(221343, 12)\n",
      "CPU times: user 2.65 s, sys: 141 ms, total: 2.79 s\n",
      "Wall time: 3.57 s\n",
      "CPU times: user 49.8 ms, sys: 22.3 ms, total: 72.1 ms\n",
      "Wall time: 141 ms\n",
      "(221288, 12)\n"
     ]
    }
   ],
   "source": [
    "print(df.shape)\n",
    "%time veclens = df[\"twtvecs\"].apply(lambda vec: int(np.prod(vec.shape)))\n",
    "df_empty = df[veclens != 100]\n",
    "%time df = df[veclens == 100]\n",
    "print(df.shape)"
   ]
  },
  {
   "cell_type": "code",
   "execution_count": 15,
   "metadata": {
    "collapsed": false
   },
   "outputs": [
    {
     "name": "stdout",
     "output_type": "stream",
     "text": [
      "CPU times: user 106 ms, sys: 23.9 ms, total: 130 ms\n",
      "Wall time: 185 ms\n"
     ]
    }
   ],
   "source": [
    "%%time\n",
    "namedatedf = df[[\"date\",\"name\",\"open\"]].groupby([\"name\",\"date\"]).aggregate(lambda gp: tuple(set(gp))[0])\n",
    "# datedf = df[[\"date\",\"name\",\"open\"]].groupby([\"date\"]).aggregate(lambda gp: tuple(set(gp))[0])\n",
    "\n",
    "for name in namedatedf.index.levels[0]:\n",
    "    pval = namedatedf.loc[name,\"open\"].values.astype(float)\n",
    "    up = ((pval[1:] - pval[:-1]) > 0).astype(int)\n",
    "    up = list(up) + [0]\n",
    "    namedatedf.loc[name,\"openup\"] = up"
   ]
  },
  {
   "cell_type": "code",
   "execution_count": 16,
   "metadata": {
    "collapsed": false
   },
   "outputs": [
    {
     "name": "stdout",
     "output_type": "stream",
     "text": [
      "CPU times: user 1.32 s, sys: 46.3 ms, total: 1.36 s\n",
      "Wall time: 1.75 s\n"
     ]
    }
   ],
   "source": [
    "%%time\n",
    "namedategps = df[[\"date\",\"name\",\"twtvecs\"]].groupby([\"name\",\"date\"])\n",
    "# namedatekeys = [k for k,gp in namedategps]\n",
    "namedatevecs = [np.mean(gp.values[:,2],axis=0) for k,gp in namedategps]"
   ]
  },
  {
   "cell_type": "code",
   "execution_count": 17,
   "metadata": {
    "collapsed": false
   },
   "outputs": [
    {
     "name": "stdout",
     "output_type": "stream",
     "text": [
      "CPU times: user 1.36 ms, sys: 67 µs, total: 1.43 ms\n",
      "Wall time: 2.04 ms\n"
     ]
    }
   ],
   "source": [
    "%%time\n",
    "namedatedf[\"namedatevecs\"] = namedatevecs"
   ]
  },
  {
   "cell_type": "code",
   "execution_count": 18,
   "metadata": {
    "collapsed": false
   },
   "outputs": [
    {
     "name": "stdout",
     "output_type": "stream",
     "text": [
      "CPU times: user 2min 31s, sys: 4.52 s, total: 2min 35s\n",
      "Wall time: 3min 24s\n"
     ]
    }
   ],
   "source": [
    "%%time\n",
    "df[\"openup\"] = df[[\"name\",\"date\"]].apply(\\\n",
    "    lambda nd: namedatedf.loc[(nd[0],nd[1]),\"openup\"],\\\n",
    "    axis = 1)"
   ]
  },
  {
   "cell_type": "code",
   "execution_count": 19,
   "metadata": {
    "collapsed": false
   },
   "outputs": [],
   "source": [
    "import sklearn\n",
    "from sklearn import ensemble,svm,neural_network,discriminant_analysis\n",
    "from sklearn.metrics import roc_curve,auc,precision_recall_curve\n",
    "\n",
    "from matplotlib import pyplot as plt\n",
    "% matplotlib inline\n",
    "\n",
    "def roc_auc(clf,X,y):\n",
    "    probs = clf.predict_proba(X)\n",
    "    fpr, tpr, thresholds = roc_curve(y, probs[:, 1])\n",
    "    roc_auc = auc(fpr, tpr)\n",
    "    roc_str = 'ROC (AUC Gain = %0.2f)' % (roc_auc - 0.5)\n",
    "    plt.plot(fpr, tpr, lw=1,label=roc_str)\n",
    "    plt.plot([0,1],[0,1],label=\"RAN CLF\")\n",
    "    plt.title(roc_str)\n",
    "    plt.show()\n",
    "\n",
    "def prrc_auc(clf,X,y):\n",
    "    probs = clf.predict_proba(X)\n",
    "    pr, rc, thresholds = precision_recall_curve(y, probs[:, 1])\n",
    "    roc_auc = auc(rc, pr)\n",
    "    roc_str = 'Prec vs Recall (AUC Gain = %0.2f)' % (roc_auc - np.mean(y))\n",
    "    plt.plot(rc,pr, lw=1,label=roc_str)\n",
    "    plt.plot([0,1],[np.mean(y),np.mean(y)],label=\"RAN CLF\")\n",
    "    plt.axis([0,1,0,1])\n",
    "    plt.title(roc_str)\n",
    "    plt.show()\n",
    "\n",
    "def evaluate(clf,X,y):\n",
    "    yhat = clf.predict(X)\n",
    "    accu = np.mean(yhat == y)\n",
    "    prec = np.mean(y[yhat == 1])\n",
    "    recl = np.mean(yhat[y == 1])\n",
    "    f1 = 2 * prec * recl / (prec + recl)\n",
    "    print(\"Accuracy\",accu,\"Precision\",prec,\"Recall\",recl,\"F1\",f1)"
   ]
  },
  {
   "cell_type": "code",
   "execution_count": 20,
   "metadata": {
    "collapsed": false
   },
   "outputs": [
    {
     "data": {
      "text/html": [
       "<div>\n",
       "<table border=\"1\" class=\"dataframe\">\n",
       "  <thead>\n",
       "    <tr style=\"text-align: right;\">\n",
       "      <th></th>\n",
       "      <th></th>\n",
       "      <th>open</th>\n",
       "      <th>openup</th>\n",
       "      <th>namedatevecs</th>\n",
       "    </tr>\n",
       "    <tr>\n",
       "      <th>name</th>\n",
       "      <th>date</th>\n",
       "      <th></th>\n",
       "      <th></th>\n",
       "      <th></th>\n",
       "    </tr>\n",
       "  </thead>\n",
       "  <tbody>\n",
       "    <tr>\n",
       "      <th rowspan=\"5\" valign=\"top\">tweets</th>\n",
       "      <th>2011-04-25</th>\n",
       "      <td>50.048573</td>\n",
       "      <td>1</td>\n",
       "      <td>[-0.0687514, 0.338717, -0.104983, 0.719003, 0....</td>\n",
       "    </tr>\n",
       "    <tr>\n",
       "      <th>2011-04-26</th>\n",
       "      <td>50.517143</td>\n",
       "      <td>0</td>\n",
       "      <td>[-0.0638973, 0.228119, -0.0612518, 0.61137, 0....</td>\n",
       "    </tr>\n",
       "    <tr>\n",
       "      <th>2011-04-27</th>\n",
       "      <td>50.320000</td>\n",
       "      <td>0</td>\n",
       "      <td>[-0.0596417, 0.442134, -0.0878261, 0.961118, 0...</td>\n",
       "    </tr>\n",
       "    <tr>\n",
       "      <th>2011-04-28</th>\n",
       "      <td>49.455715</td>\n",
       "      <td>1</td>\n",
       "      <td>[-0.133262, 0.422511, -0.159304, 0.778825, 0.4...</td>\n",
       "    </tr>\n",
       "    <tr>\n",
       "      <th>2011-04-29</th>\n",
       "      <td>49.540001</td>\n",
       "      <td>0</td>\n",
       "      <td>[-0.144797, 0.274585, -0.100934, 0.702119, 0.5...</td>\n",
       "    </tr>\n",
       "  </tbody>\n",
       "</table>\n",
       "</div>"
      ],
      "text/plain": [
       "                        open  openup  \\\n",
       "name   date                            \n",
       "tweets 2011-04-25  50.048573       1   \n",
       "       2011-04-26  50.517143       0   \n",
       "       2011-04-27  50.320000       0   \n",
       "       2011-04-28  49.455715       1   \n",
       "       2011-04-29  49.540001       0   \n",
       "\n",
       "                                                        namedatevecs  \n",
       "name   date                                                           \n",
       "tweets 2011-04-25  [-0.0687514, 0.338717, -0.104983, 0.719003, 0....  \n",
       "       2011-04-26  [-0.0638973, 0.228119, -0.0612518, 0.61137, 0....  \n",
       "       2011-04-27  [-0.0596417, 0.442134, -0.0878261, 0.961118, 0...  \n",
       "       2011-04-28  [-0.133262, 0.422511, -0.159304, 0.778825, 0.4...  \n",
       "       2011-04-29  [-0.144797, 0.274585, -0.100934, 0.702119, 0.5...  "
      ]
     },
     "execution_count": 20,
     "metadata": {},
     "output_type": "execute_result"
    }
   ],
   "source": [
    "namedatedf.iloc[-5:]"
   ]
  },
  {
   "cell_type": "markdown",
   "metadata": {},
   "source": [
    "# Average of tweets in a day"
   ]
  },
  {
   "cell_type": "code",
   "execution_count": 24,
   "metadata": {
    "collapsed": false
   },
   "outputs": [],
   "source": [
    "X = np.array([v for v in namedatedf[\"namedatevecs\"]])\n",
    "y = namedatedf[\"openup\"].values\n",
    "# inverse classifier\n",
    "# y = 1 - y"
   ]
  },
  {
   "cell_type": "code",
   "execution_count": null,
   "metadata": {
    "collapsed": true
   },
   "outputs": [],
   "source": []
  },
  {
   "cell_type": "code",
   "execution_count": 25,
   "metadata": {
    "collapsed": false
   },
   "outputs": [
    {
     "name": "stdout",
     "output_type": "stream",
     "text": [
      "(237, 100) (237,)\n"
     ]
    }
   ],
   "source": [
    "print(X.shape,y.shape)"
   ]
  },
  {
   "cell_type": "code",
   "execution_count": 26,
   "metadata": {
    "collapsed": false
   },
   "outputs": [],
   "source": [
    "# generate test/train split\n",
    "ratio = 0.8\n",
    "tidx = np.random.rand(X.shape[0]) < ratio\n",
    "pidx = ~tidx"
   ]
  },
  {
   "cell_type": "code",
   "execution_count": 27,
   "metadata": {
    "collapsed": false
   },
   "outputs": [
    {
     "name": "stdout",
     "output_type": "stream",
     "text": [
      "CPU times: user 34.1 ms, sys: 8.92 ms, total: 43 ms\n",
      "Wall time: 45.8 ms\n"
     ]
    },
    {
     "data": {
      "text/plain": [
       "RandomForestClassifier(bootstrap=True, class_weight=None, criterion='gini',\n",
       "            max_depth=5, max_features='auto', max_leaf_nodes=None,\n",
       "            min_impurity_decrease=0.0, min_impurity_split=None,\n",
       "            min_samples_leaf=1, min_samples_split=2,\n",
       "            min_weight_fraction_leaf=0.0, n_estimators=10, n_jobs=1,\n",
       "            oob_score=False, random_state=None, verbose=0,\n",
       "            warm_start=False)"
      ]
     },
     "execution_count": 27,
     "metadata": {},
     "output_type": "execute_result"
    }
   ],
   "source": [
    "rf = sklearn.ensemble.RandomForestClassifier()\n",
    "rf.max_depth = 5\n",
    "clf = rf\n",
    "%time clf.fit(X[tidx],y[tidx])"
   ]
  },
  {
   "cell_type": "code",
   "execution_count": 28,
   "metadata": {
    "collapsed": false
   },
   "outputs": [
    {
     "name": "stdout",
     "output_type": "stream",
     "text": [
      "TEST\n",
      "Accuracy 0.54347826087 Precision 0.633333333333 Recall 0.655172413793 F1 0.64406779661\n",
      "CPU times: user 4.48 ms, sys: 1.64 ms, total: 6.11 ms\n",
      "Wall time: 5.89 ms\n",
      "TRAIN\n",
      "Accuracy 0.926701570681 Precision 0.902654867257 Recall 0.971428571429 F1 0.935779816514\n",
      "CPU times: user 5.02 ms, sys: 965 µs, total: 5.99 ms\n",
      "Wall time: 7.02 ms\n",
      "ROC AUC\n"
     ]
    },
    {
     "data": {
      "image/png": "[encoded data removed]",
      "text/plain": [
       "<matplotlib.figure.Figure at 0x13d89feb8>"
      ]
     },
     "metadata": {},
     "output_type": "display_data"
    },
    {
     "name": "stdout",
     "output_type": "stream",
     "text": [
      "CPU times: user 268 ms, sys: 38.4 ms, total: 306 ms\n",
      "Wall time: 601 ms\n",
      "PRECISION/RECALL AUC\n"
     ]
    },
    {
     "data": {
      "image/png": "[encoded data removed]",
      "text/plain": [
       "<matplotlib.figure.Figure at 0x13d89fd30>"
      ]
     },
     "metadata": {},
     "output_type": "display_data"
    },
    {
     "name": "stdout",
     "output_type": "stream",
     "text": [
      "CPU times: user 325 ms, sys: 16.7 ms, total: 342 ms\n",
      "Wall time: 664 ms\n"
     ]
    }
   ],
   "source": [
    "print(\"TEST\")\n",
    "%time evaluate(clf,X[pidx],y[pidx])\n",
    "\n",
    "print(\"TRAIN\")\n",
    "%time evaluate(clf,X[tidx],y[tidx])\n",
    "\n",
    "print(\"ROC AUC\")\n",
    "%time roc_auc(clf,X[pidx],y[pidx])\n",
    "\n",
    "print(\"PRECISION/RECALL AUC\")\n",
    "%time prrc_auc(clf,X[pidx],y[pidx])"
   ]
  },
  {
   "cell_type": "code",
   "execution_count": 29,
   "metadata": {
    "collapsed": false
   },
   "outputs": [
    {
     "name": "stdout",
     "output_type": "stream",
     "text": [
      "CPU times: user 21.9 ms, sys: 9.23 ms, total: 31.2 ms\n",
      "Wall time: 40.1 ms\n",
      "TEST\n",
      "Accuracy 0.630434782609 Precision 0.630434782609 Recall 1.0 F1 0.773333333333\n",
      "CPU times: user 1.03 ms, sys: 200 µs, total: 1.23 ms\n",
      "Wall time: 1.22 ms\n",
      "TRAIN\n",
      "Accuracy 0.549738219895 Precision 0.549738219895 Recall 1.0 F1 0.709459459459\n",
      "CPU times: user 2.11 ms, sys: 311 µs, total: 2.42 ms\n",
      "Wall time: 2.7 ms\n",
      "ROC AUC\n"
     ]
    },
    {
     "data": {
      "image/png": "[encoded data removed]",
      "text/plain": [
       "<matplotlib.figure.Figure at 0x13d89fcf8>"
      ]
     },
     "metadata": {},
     "output_type": "display_data"
    },
    {
     "name": "stdout",
     "output_type": "stream",
     "text": [
      "CPU times: user 257 ms, sys: 18.8 ms, total: 276 ms\n",
      "Wall time: 290 ms\n",
      "PRECISION/RECALL AUC\n"
     ]
    },
    {
     "data": {
      "image/png": "[encoded data removed]",
      "text/plain": [
       "<matplotlib.figure.Figure at 0x13d9d4eb8>"
      ]
     },
     "metadata": {},
     "output_type": "display_data"
    },
    {
     "name": "stdout",
     "output_type": "stream",
     "text": [
      "CPU times: user 240 ms, sys: 12.2 ms, total: 252 ms\n",
      "Wall time: 281 ms\n"
     ]
    }
   ],
   "source": [
    "mlp = sklearn.neural_network.MLPClassifier()\n",
    "clf = mlp\n",
    "%time clf.fit(X[tidx],y[tidx])\n",
    "\n",
    "print(\"TEST\")\n",
    "%time evaluate(clf,X[pidx],y[pidx])\n",
    "\n",
    "print(\"TRAIN\")\n",
    "%time evaluate(clf,X[tidx],y[tidx])\n",
    "\n",
    "print(\"ROC AUC\")\n",
    "%time roc_auc(clf,X[pidx],y[pidx])\n",
    "\n",
    "print(\"PRECISION/RECALL AUC\")\n",
    "%time prrc_auc(clf,X[pidx],y[pidx])"
   ]
  },
  {
   "cell_type": "code",
   "execution_count": 30,
   "metadata": {
    "collapsed": false
   },
   "outputs": [
    {
     "name": "stderr",
     "output_type": "stream",
     "text": [
      "/Users/aduriseti/anaconda/lib/python3.5/site-packages/sklearn/discriminant_analysis.py:682: UserWarning: Variables are collinear\n",
      "  warnings.warn(\"Variables are collinear\")\n"
     ]
    },
    {
     "name": "stdout",
     "output_type": "stream",
     "text": [
      "CPU times: user 12.8 ms, sys: 5.56 ms, total: 18.3 ms\n",
      "Wall time: 19.1 ms\n",
      "TEST\n",
      "Accuracy 0.630434782609 Precision 0.630434782609 Recall 1.0 F1 0.773333333333\n",
      "CPU times: user 2.81 ms, sys: 1.46 ms, total: 4.27 ms\n",
      "Wall time: 4.67 ms\n",
      "TRAIN\n",
      "Accuracy 1.0 Precision 1.0 Recall 1.0 F1 1.0\n",
      "CPU times: user 2.16 ms, sys: 432 µs, total: 2.59 ms\n",
      "Wall time: 2.58 ms\n",
      "ROC AUC\n"
     ]
    },
    {
     "data": {
      "image/png": "[encoded data removed]",
      "text/plain": [
       "<matplotlib.figure.Figure at 0x13e192128>"
      ]
     },
     "metadata": {},
     "output_type": "display_data"
    },
    {
     "name": "stdout",
     "output_type": "stream",
     "text": [
      "CPU times: user 237 ms, sys: 9.39 ms, total: 247 ms\n",
      "Wall time: 250 ms\n",
      "PRECISION/RECALL AUC\n"
     ]
    },
    {
     "data": {
      "image/png": "[encoded data removed]",
      "text/plain": [
       "<matplotlib.figure.Figure at 0x13e5c1748>"
      ]
     },
     "metadata": {},
     "output_type": "display_data"
    },
    {
     "name": "stdout",
     "output_type": "stream",
     "text": [
      "CPU times: user 284 ms, sys: 11 ms, total: 295 ms\n",
      "Wall time: 375 ms\n"
     ]
    }
   ],
   "source": [
    "qda = sklearn.discriminant_analysis.QuadraticDiscriminantAnalysis()\n",
    "clf = qda\n",
    "%time clf.fit(X[tidx],y[tidx])\n",
    "\n",
    "print(\"TEST\")\n",
    "%time evaluate(clf,X[pidx],y[pidx])\n",
    "\n",
    "print(\"TRAIN\")\n",
    "%time evaluate(clf,X[tidx],y[tidx])\n",
    "\n",
    "print(\"ROC AUC\")\n",
    "%time roc_auc(clf,X[pidx],y[pidx])\n",
    "\n",
    "print(\"PRECISION/RECALL AUC\")\n",
    "%time prrc_auc(clf,X[pidx],y[pidx])"
   ]
  },
  {
   "cell_type": "markdown",
   "metadata": {},
   "source": [
    "# Single tweets"
   ]
  },
  {
   "cell_type": "code",
   "execution_count": 31,
   "metadata": {
    "collapsed": false
   },
   "outputs": [],
   "source": [
    "# number of samples to train on\n",
    "N = int(1e6)\n",
    "X = np.array([x.T for x in df[\"twtvecs\"][:N].values])\n",
    "y = df[\"openup\"][:N].values\n",
    "# inverse classifier\n",
    "# y = 1 - y"
   ]
  },
  {
   "cell_type": "code",
   "execution_count": 32,
   "metadata": {
    "collapsed": false
   },
   "outputs": [
    {
     "name": "stdout",
     "output_type": "stream",
     "text": [
      "(221288, 100) (221288,)\n"
     ]
    }
   ],
   "source": [
    "print(X.shape,y.shape)"
   ]
  },
  {
   "cell_type": "code",
   "execution_count": 33,
   "metadata": {
    "collapsed": false
   },
   "outputs": [
    {
     "data": {
      "text/plain": [
       "1000000"
      ]
     },
     "execution_count": 33,
     "metadata": {},
     "output_type": "execute_result"
    }
   ],
   "source": [
    "N"
   ]
  },
  {
   "cell_type": "code",
   "execution_count": 34,
   "metadata": {
    "collapsed": true
   },
   "outputs": [],
   "source": [
    "# generate test/train split\n",
    "ratio = 0.8\n",
    "tidx = np.random.rand(min(X.shape[0],N)) < ratio\n",
    "pidx = ~tidx"
   ]
  },
  {
   "cell_type": "code",
   "execution_count": 35,
   "metadata": {
    "collapsed": false
   },
   "outputs": [
    {
     "name": "stdout",
     "output_type": "stream",
     "text": [
      "CPU times: user 15.7 s, sys: 423 ms, total: 16.2 s\n",
      "Wall time: 31.4 s\n",
      "TEST\n",
      "Accuracy 0.574834167214 Precision 0.570328755722 Recall 0.992157335907 F1 0.724301946622\n",
      "CPU times: user 104 ms, sys: 98.2 ms, total: 203 ms\n",
      "Wall time: 595 ms\n",
      "TRAIN\n",
      "Accuracy 0.578069863424 Precision 0.572730473327 Recall 0.992985370344 F1 0.72645746476\n",
      "CPU times: user 265 ms, sys: 48.5 ms, total: 314 ms\n",
      "Wall time: 505 ms\n",
      "ROC AUC\n"
     ]
    },
    {
     "data": {
      "image/png": "[encoded data removed]",
      "text/plain": [
       "<matplotlib.figure.Figure at 0x13e5986a0>"
      ]
     },
     "metadata": {},
     "output_type": "display_data"
    },
    {
     "name": "stdout",
     "output_type": "stream",
     "text": [
      "CPU times: user 352 ms, sys: 48.2 ms, total: 400 ms\n",
      "Wall time: 569 ms\n",
      "PRECISION/RECALL AUC\n"
     ]
    },
    {
     "data": {
      "image/png": "[encoded data removed]",
      "text/plain": [
       "<matplotlib.figure.Figure at 0x13eceadd8>"
      ]
     },
     "metadata": {},
     "output_type": "display_data"
    },
    {
     "name": "stdout",
     "output_type": "stream",
     "text": [
      "CPU times: user 383 ms, sys: 18.8 ms, total: 402 ms\n",
      "Wall time: 639 ms\n"
     ]
    }
   ],
   "source": [
    "rf = sklearn.ensemble.RandomForestClassifier()\n",
    "rf.max_depth = 5\n",
    "clf = rf\n",
    "%time clf.fit(X[tidx],y[tidx])\n",
    "\n",
    "print(\"TEST\")\n",
    "%time evaluate(clf,X[pidx],y[pidx])\n",
    "\n",
    "print(\"TRAIN\")\n",
    "%time evaluate(clf,X[tidx],y[tidx])\n",
    "\n",
    "print(\"ROC AUC\")\n",
    "%time roc_auc(clf,X[pidx],y[pidx])\n",
    "\n",
    "print(\"PRECISION/RECALL AUC\")\n",
    "%time prrc_auc(clf,X[pidx],y[pidx])"
   ]
  },
  {
   "cell_type": "code",
   "execution_count": 36,
   "metadata": {
    "collapsed": false
   },
   "outputs": [
    {
     "name": "stdout",
     "output_type": "stream",
     "text": [
      "CPU times: user 2min 21s, sys: 11.3 s, total: 2min 33s\n",
      "Wall time: 3min 6s\n",
      "TEST\n",
      "Accuracy 0.700097348939 Precision 0.710155939072 Recall 0.789414414414 F1 0.747690608156\n",
      "CPU times: user 174 ms, sys: 160 ms, total: 334 ms\n",
      "Wall time: 419 ms\n",
      "TRAIN\n",
      "Accuracy 0.745783860386 Precision 0.748061875418 Recall 0.828456781476 F1 0.786209450733\n",
      "CPU times: user 613 ms, sys: 504 ms, total: 1.12 s\n",
      "Wall time: 2.17 s\n",
      "ROC AUC\n"
     ]
    },
    {
     "data": {
      "image/png": "[encoded data removed]",
      "text/plain": [
       "<matplotlib.figure.Figure at 0x13d89fd68>"
      ]
     },
     "metadata": {},
     "output_type": "display_data"
    },
    {
     "name": "stdout",
     "output_type": "stream",
     "text": [
      "CPU times: user 396 ms, sys: 124 ms, total: 520 ms\n",
      "Wall time: 559 ms\n",
      "PRECISION/RECALL AUC\n"
     ]
    },
    {
     "data": {
      "image/png": "[encoded data removed]",
      "text/plain": [
       "<matplotlib.figure.Figure at 0x13fdce0f0>"
      ]
     },
     "metadata": {},
     "output_type": "display_data"
    },
    {
     "name": "stdout",
     "output_type": "stream",
     "text": [
      "CPU times: user 389 ms, sys: 56 ms, total: 445 ms\n",
      "Wall time: 584 ms\n"
     ]
    }
   ],
   "source": [
    "mlp = sklearn.neural_network.MLPClassifier()\n",
    "clf = mlp\n",
    "%time clf.fit(X[tidx],y[tidx])\n",
    "\n",
    "print(\"TEST\")\n",
    "%time evaluate(clf,X[pidx],y[pidx])\n",
    "\n",
    "print(\"TRAIN\")\n",
    "%time evaluate(clf,X[tidx],y[tidx])\n",
    "\n",
    "print(\"ROC AUC\")\n",
    "%time roc_auc(clf,X[pidx],y[pidx])\n",
    "\n",
    "print(\"PRECISION/RECALL AUC\")\n",
    "%time prrc_auc(clf,X[pidx],y[pidx])"
   ]
  },
  {
   "cell_type": "code",
   "execution_count": 37,
   "metadata": {
    "collapsed": false
   },
   "outputs": [
    {
     "name": "stdout",
     "output_type": "stream",
     "text": [
      "CPU times: user 5.87 s, sys: 591 ms, total: 6.46 s\n",
      "Wall time: 7.57 s\n",
      "TEST\n",
      "Accuracy 0.603337031084 Precision 0.659470963819 Recall 0.610641891892 F1 0.634117819032\n",
      "CPU times: user 232 ms, sys: 177 ms, total: 409 ms\n",
      "Wall time: 550 ms\n",
      "TRAIN\n",
      "Accuracy 0.61347019202 Precision 0.671490687968 Recall 0.616586947385 F1 0.642868693824\n",
      "CPU times: user 1.1 s, sys: 829 ms, total: 1.93 s\n",
      "Wall time: 2.76 s\n",
      "ROC AUC\n"
     ]
    },
    {
     "data": {
      "image/png": "[encoded data removed]",
      "text/plain": [
       "<matplotlib.figure.Figure at 0x13ddd40b8>"
      ]
     },
     "metadata": {},
     "output_type": "display_data"
    },
    {
     "name": "stdout",
     "output_type": "stream",
     "text": [
      "CPU times: user 527 ms, sys: 199 ms, total: 726 ms\n",
      "Wall time: 964 ms\n",
      "PRECISION/RECALL AUC\n"
     ]
    },
    {
     "data": {
      "image/png": "[encoded data removed]",
      "text/plain": [
       "<matplotlib.figure.Figure at 0x13f906588>"
      ]
     },
     "metadata": {},
     "output_type": "display_data"
    },
    {
     "name": "stdout",
     "output_type": "stream",
     "text": [
      "CPU times: user 508 ms, sys: 122 ms, total: 629 ms\n",
      "Wall time: 814 ms\n"
     ]
    }
   ],
   "source": [
    "qda = sklearn.discriminant_analysis.QuadraticDiscriminantAnalysis()\n",
    "clf = qda\n",
    "%time clf.fit(X[tidx],y[tidx])\n",
    "\n",
    "print(\"TEST\")\n",
    "%time evaluate(clf,X[pidx],y[pidx])\n",
    "\n",
    "print(\"TRAIN\")\n",
    "%time evaluate(clf,X[tidx],y[tidx])\n",
    "\n",
    "print(\"ROC AUC\")\n",
    "%time roc_auc(clf,X[pidx],y[pidx])\n",
    "\n",
    "print(\"PRECISION/RECALL AUC\")\n",
    "%time prrc_auc(clf,X[pidx],y[pidx])"
   ]
  },
  {
   "cell_type": "code",
   "execution_count": null,
   "metadata": {
    "collapsed": true
   },
   "outputs": [],
   "source": []
  }
 ],
 "metadata": {
  "anaconda-cloud": {},
  "kernelspec": {
   "display_name": "Python [default]",
   "language": "python",
   "name": "python3"
  },
  "language_info": {
   "codemirror_mode": {
    "name": "ipython",
    "version": 3
   },
   "file_extension": ".py",
   "mimetype": "text/x-python",
   "name": "python",
   "nbconvert_exporter": "python",
   "pygments_lexer": "ipython3",
   "version": "3.5.2"
  }
 },
 "nbformat": 4,
 "nbformat_minor": 1
}
