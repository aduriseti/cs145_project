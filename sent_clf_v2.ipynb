{
 "cells": [
  {
   "cell_type": "code",
   "execution_count": 50,
   "metadata": {
    "collapsed": true
   },
   "outputs": [],
   "source": [
    "import pandas as pd\n",
    "import numpy as np\n",
    "import os"
   ]
  },
  {
   "cell_type": "code",
   "execution_count": 51,
   "metadata": {
    "collapsed": true
   },
   "outputs": [],
   "source": [
    "with open(\"sent_corpus.csv\", \"r\") as sent_file:\n",
    "    lines = sent_file.read().split(\"\\n\")"
   ]
  },
  {
   "cell_type": "code",
   "execution_count": 52,
   "metadata": {
    "collapsed": false
   },
   "outputs": [
    {
     "name": "stdout",
     "output_type": "stream",
     "text": [
      "CPU times: user 5.26 s, sys: 5.65 s, total: 10.9 s\n",
      "Wall time: 13.5 s\n",
      "CPU times: user 5.42 s, sys: 1.43 s, total: 6.85 s\n",
      "Wall time: 8.01 s\n",
      "CPU times: user 419 ms, sys: 96.3 ms, total: 516 ms\n",
      "Wall time: 696 ms\n",
      "['ItemID' 'Sentiment' 'SentimentSource' 'SentimentText']\n",
      "CPU times: user 9.26 s, sys: 1.98 s, total: 11.2 s\n",
      "Wall time: 12.4 s\n"
     ]
    }
   ],
   "source": [
    "%time rows = [line.split(\",\") for line in lines if line]\n",
    "%time rows = [row[:3] + [\",\".join(row[3:])] for row in rows]\n",
    "# remove document start character \n",
    "rows[0][0] = rows[0][0][1:]\n",
    "\n",
    "sentDf_cols = ['ItemID', 'Sentiment', 'SentimentSource', 'SentimentText']\n",
    "\n",
    "\n",
    "%time sentDf = pd.DataFrame(rows[1:],columns=sentDf_cols)\n",
    "\n",
    "print(sentDf.columns.values)\n",
    "\n",
    "sentDf[[\"ItemID\",\"Sentiment\"]] = sentDf[[\"ItemID\",\"Sentiment\"]].astype(int)\n",
    "%time sentDf[\"SentimentText\"] = sentDf[\"SentimentText\"].apply(lambda text: text.split())"
   ]
  },
  {
   "cell_type": "code",
   "execution_count": 53,
   "metadata": {
    "collapsed": false
   },
   "outputs": [
    {
     "name": "stdout",
     "output_type": "stream",
     "text": [
      "/Users/aduriseti/Documents/2017fall/cs145/project/crawler_v1/code/tweettext.txt\n",
      "CPU times: user 4 µs, sys: 2 µs, total: 6 µs\n",
      "Wall time: 11 µs\n",
      "['I hate it when someone posts really inspiring art or something and all people comment is \\xe2\\x80\\x9cdeep\\xe2\\x80\\x9d... like... that\\xe2\\x80\\x99s a\\xe2\\x80\\xa6 https://t.co/7pdNLhZaOw\\n', 'I hate it when some dumb broad starts whining about men who nut too fast....\\n', '\"It was a race... You lost, bitch!\"\\n', 'I hate people on twitter who complain about what girls do, but they are the same people who complain about other pe\\xe2\\x80\\xa6 https://t.co/Jtajyid1Fw\\n', ' Haters don\\xe2\\x80\\x99t hate us, they hate themselves. \\n', 'Because we are a reflection of what they wish to be.\\n', \" I fuckin hate it when people call Harry a womanizer yall know how much he hates it he even said he doesn't like to be ca\\xe2\\x80\\xa6\\n\", ' When people get hurt, they learn to hate.\\n', '#ALDUBHeartsNeverApart\\n', ' Do the 2016 Hate Crime statistics include the hoaxes? https://t.co/e9MJvmIMyw https://t.co/jzCt9tYFT4\\n', ' Tryna figure out why y\\xe2\\x80\\x99all hate yellow. That shit smack https://t.co/XfwFxz4HUk\\n', \"j'ai plus de h\\xc3\\xa2te de plus jamais revoir la gueule de ce mec plut\\xc3\\xb4t que d'avoir mon permis\\n\", ' I hate to be on here crying over a puppy but I\\xef\\xb8\\x8fm really hurt yo ..... I can\\xe2\\x80\\x99t believe somebody would do some bs like that. I\\xe2\\x80\\x99\\xe2\\x80\\xa6\\n']\n",
      "done\n"
     ]
    }
   ],
   "source": [
    "## -*- coding: utf-8 -*-\n",
    "\n",
    "curdir = os.getcwd()\n",
    "tweet_path = curdir + \"/crawler_v1/code/tweettext.txt\"\n",
    "print(tweet_path)\n",
    "\n",
    "tweets = []\n",
    "tweet_file = open(tweet_path, \"rb\")\n",
    "%time \n",
    "for line in tweet_file:\n",
    "#    print(line)\n",
    "#    line = line_pre.decode('utf-8')\n",
    "    tweet = \"\"\n",
    "    if(line[:2] == \"RT\"):\n",
    "        char_loc = 0\n",
    "        for char in line:\n",
    "            char_loc += 1\n",
    "            if(char==\":\"):\n",
    "                break\n",
    "\n",
    "        tweet = line[-(len(line)-char_loc):]\n",
    "    else:\n",
    "        tweet = line\n",
    "    tweets.append(tweet)\n",
    "\n",
    "#[tweet.decode('utf-8') for tweet in tweets]\n",
    "print(tweets)\n",
    "\n",
    "print(\"done\")"
   ]
  },
  {
   "cell_type": "code",
   "execution_count": 54,
   "metadata": {
    "collapsed": false
   },
   "outputs": [
    {
     "name": "stdout",
     "output_type": "stream",
     "text": [
      "CPU times: user 6min 33s, sys: 8.94 s, total: 6min 42s\n",
      "Wall time: 3min\n"
     ]
    }
   ],
   "source": [
    "import gensim\n",
    "%time w2vM = gensim.models.Word2Vec(sentDf[\"SentimentText\"])\n",
    "# %time w2vM_google = gensim.models.KeyedVectors.load_word2vec_format('GoogleNews-vectors-negative300.bin', binary=True)"
   ]
  },
  {
   "cell_type": "code",
   "execution_count": 55,
   "metadata": {
    "collapsed": true
   },
   "outputs": [],
   "source": [
    "# number of samples to aggregate\n",
    "Ns = int(1e5)"
   ]
  },
  {
   "cell_type": "code",
   "execution_count": 56,
   "metadata": {
    "collapsed": false
   },
   "outputs": [
    {
     "name": "stdout",
     "output_type": "stream",
     "text": [
      "prediction vecs...\n",
      "CPU times: user 8.35 s, sys: 214 ms, total: 8.56 s\n",
      "Wall time: 8.74 s\n"
     ]
    }
   ],
   "source": [
    "%%time\n",
    "# MEAN AGGREGATION\n",
    "tvecs = np.array([np.array([w2vM[t] if t in w2vM\n",
    "                                else np.zeros((100,))\n",
    "                            for t in twt]).mean(axis=0)\n",
    "                 for twt in sentDf[\"SentimentText\"][:Ns]])\n",
    "# SUM AGGREGATION\n",
    "# tvecs = np.array([np.array([w2vM[t] if t in w2vM\n",
    "#                                 else np.zeros((100,))\n",
    "#                             for t in twt]).sum(axis=0)\n",
    "#                  for twt in sentDf[\"SentimentText\"][:Ns]])\n",
    "\n",
    "# print(tvecs[:5])\n",
    "print(\"prediction vecs...\")\n",
    "\n",
    "tvecs_predict = np.array([np.array([w2vM[t] if t in w2vM\n",
    "                                else np.zeros((100,))\n",
    "                            for t in twt]).mean(axis=0)\n",
    "                 for twt in tweets[:Ns]])\n",
    "\n",
    "# print(tvecs_predict[:5])"
   ]
  },
  {
   "cell_type": "code",
   "execution_count": 57,
   "metadata": {
    "collapsed": true
   },
   "outputs": [],
   "source": [
    "# number of samples to train on\n",
    "N = int(1e5)\n",
    "X = tvecs[:N]\n",
    "y = sentDf[\"Sentiment\"][:N].values\n",
    "# inverse classifier\n",
    "# y = 1 - y"
   ]
  },
  {
   "cell_type": "code",
   "execution_count": 58,
   "metadata": {
    "collapsed": true
   },
   "outputs": [],
   "source": [
    "# generate test/train split\n",
    "ratio = 0.8\n",
    "tidx = np.random.rand(N) < ratio\n",
    "pidx = ~tidx"
   ]
  },
  {
   "cell_type": "code",
   "execution_count": 59,
   "metadata": {
    "collapsed": false
   },
   "outputs": [],
   "source": [
    "import sklearn\n",
    "from sklearn import ensemble,svm,neural_network,discriminant_analysis\n",
    "from sklearn.metrics import roc_curve,auc,precision_recall_curve\n",
    "\n",
    "from matplotlib import pyplot as plt\n",
    "% matplotlib inline"
   ]
  },
  {
   "cell_type": "code",
   "execution_count": 60,
   "metadata": {
    "collapsed": true
   },
   "outputs": [],
   "source": [
    "def roc_auc(clf,X,y):\n",
    "    probs = clf.predict_proba(X[pidx])\n",
    "    fpr, tpr, thresholds = roc_curve(y[pidx], probs[:, 1])\n",
    "    roc_auc = auc(fpr, tpr)\n",
    "    roc_str = 'ROC (AUC Gain = %0.2f)' % (roc_auc - 0.5)\n",
    "    plt.plot(fpr, tpr, lw=1,label=roc_str)\n",
    "    plt.plot([0,1],[0,1],label=\"RAN CLF\")\n",
    "    plt.title(roc_str)\n",
    "    plt.show()"
   ]
  },
  {
   "cell_type": "code",
   "execution_count": 61,
   "metadata": {
    "collapsed": true
   },
   "outputs": [],
   "source": [
    "def prrc_auc(clf,X,y):\n",
    "    probs = clf.predict_proba(X)\n",
    "    pr, rc, thresholds = precision_recall_curve(y, probs[:, 1])\n",
    "    roc_auc = auc(rc, pr)\n",
    "    roc_str = 'Prec vs Recall (AUC Gain = %0.2f)' % (roc_auc - np.mean(y))\n",
    "    plt.plot(rc,pr, lw=1,label=roc_str)\n",
    "    plt.plot([0,1],[np.mean(y),np.mean(y)],label=\"RAN CLF\")\n",
    "    plt.axis([0,1,0,1])\n",
    "    plt.title(roc_str)\n",
    "    plt.show()"
   ]
  },
  {
   "cell_type": "code",
   "execution_count": 62,
   "metadata": {
    "collapsed": true
   },
   "outputs": [],
   "source": [
    "def evaluate(clf,X,y):\n",
    "    yhat = clf.predict(X)\n",
    "    accu = np.mean(yhat == y)\n",
    "    prec = np.mean(y[yhat == 1])\n",
    "    recl = np.mean(yhat[y == 1])\n",
    "    f1 = 2 * prec * recl / (prec + recl)\n",
    "    print(\"Accuracy\",accu,\"Precision\",prec,\"Recall\",recl,\"F1\",f1)"
   ]
  },
  {
   "cell_type": "code",
   "execution_count": 63,
   "metadata": {
    "collapsed": false
   },
   "outputs": [
    {
     "name": "stdout",
     "output_type": "stream",
     "text": [
      "CPU times: user 5.38 s, sys: 104 ms, total: 5.49 s\n",
      "Wall time: 5.57 s\n",
      "TEST\n",
      "('Accuracy', 0.67323630483121089, 'Precision', 0.66791018007030634, 'Recall', 0.83520229658204004, 'F1', 0.74224667145021139)\n",
      "CPU times: user 52 ms, sys: 23.7 ms, total: 75.7 ms\n",
      "Wall time: 78.3 ms\n",
      "TRAIN\n",
      "('Accuracy', 0.67907545005734804, 'Precision', 0.67432001567481881, 'Recall', 0.83541873551804036, 'F1', 0.7462742469642013)\n",
      "CPU times: user 151 ms, sys: 47.3 ms, total: 198 ms\n",
      "Wall time: 205 ms\n",
      "ROC AUC\n"
     ]
    },
    {
     "data": {
      "image/png": "[encoded data removed]",
      "text/plain": [
       "<matplotlib.figure.Figure at 0x13c2c9950>"
      ]
     },
     "metadata": {},
     "output_type": "display_data"
    },
    {
     "name": "stdout",
     "output_type": "stream",
     "text": [
      "CPU times: user 285 ms, sys: 55.3 ms, total: 341 ms\n",
      "Wall time: 349 ms\n",
      "PRECISION/RECALL AUC\n"
     ]
    },
    {
     "data": {
      "image/png": "[encoded data removed]",
      "text/plain": [
       "<matplotlib.figure.Figure at 0x13b821510>"
      ]
     },
     "metadata": {},
     "output_type": "display_data"
    },
    {
     "name": "stdout",
     "output_type": "stream",
     "text": [
      "CPU times: user 409 ms, sys: 54.5 ms, total: 463 ms\n",
      "Wall time: 466 ms\n"
     ]
    }
   ],
   "source": [
    "rf = sklearn.ensemble.RandomForestClassifier()\n",
    "rf.max_depth = 5\n",
    "%time rf.fit(X[tidx],y[tidx])\n",
    "\n",
    "print(\"TEST\")\n",
    "%time evaluate(rf,X[pidx],y[pidx])\n",
    "\n",
    "print(\"TRAIN\")\n",
    "%time evaluate(rf,X[tidx],y[tidx])\n",
    "\n",
    "print(\"ROC AUC\")\n",
    "%time roc_auc(rf,X,y)\n",
    "\n",
    "print(\"PRECISION/RECALL AUC\")\n",
    "%time prrc_auc(rf,X,y)"
   ]
  },
  {
   "cell_type": "code",
   "execution_count": 64,
   "metadata": {
    "collapsed": false
   },
   "outputs": [
    {
     "name": "stdout",
     "output_type": "stream",
     "text": [
      "CPU times: user 1min 28s, sys: 3.1 s, total: 1min 31s\n",
      "Wall time: 56.6 s\n",
      "TEST\n",
      "('Accuracy', 0.73948857893672937, 'Precision', 0.78719325153374231, 'Recall', 0.73670045752220326, 'F1', 0.76111033875527123)\n",
      "CPU times: user 82.2 ms, sys: 28.5 ms, total: 111 ms\n",
      "Wall time: 93.8 ms\n",
      "TRAIN\n",
      "('Accuracy', 0.80767216875280512, 'Precision', 0.85236972412166945, 'Recall', 0.7977270219574093, 'F1', 0.82414363066400687)\n",
      "CPU times: user 231 ms, sys: 47.6 ms, total: 279 ms\n",
      "Wall time: 203 ms\n",
      "ROC AUC\n"
     ]
    },
    {
     "data": {
      "image/png": "[encoded data removed]",
      "text/plain": [
       "<matplotlib.figure.Figure at 0x139fc3ad0>"
      ]
     },
     "metadata": {},
     "output_type": "display_data"
    },
    {
     "name": "stdout",
     "output_type": "stream",
     "text": [
      "CPU times: user 344 ms, sys: 50 ms, total: 394 ms\n",
      "Wall time: 364 ms\n",
      "PRECISION/RECALL AUC\n"
     ]
    },
    {
     "data": {
      "image/png": "[encoded data removed]",
      "text/plain": [
       "<matplotlib.figure.Figure at 0x13c6e5b50>"
      ]
     },
     "metadata": {},
     "output_type": "display_data"
    },
    {
     "name": "stdout",
     "output_type": "stream",
     "text": [
      "CPU times: user 534 ms, sys: 76.9 ms, total: 611 ms\n",
      "Wall time: 539 ms\n"
     ]
    }
   ],
   "source": [
    "mlp = sklearn.neural_network.MLPClassifier()\n",
    "%time mlp.fit(X[tidx],y[tidx])\n",
    "\n",
    "print(\"TEST\")\n",
    "%time evaluate(mlp,X[pidx],y[pidx])\n",
    "\n",
    "print(\"TRAIN\")\n",
    "%time evaluate(mlp,X[tidx],y[tidx])\n",
    "\n",
    "print(\"ROC AUC\")\n",
    "%time roc_auc(mlp,X,y)\n",
    "\n",
    "print(\"PRECISION/RECALL AUC\")\n",
    "%time prrc_auc(mlp,X,y)\n",
    "\n",
    "# qda = sklearn.discriminant_analysis.QuadraticDiscriminantAnalysis()\n",
    "# clf = qda\n",
    "# %time clf.fit(X[tidx],y[tidx])\n",
    "\n",
    "# print(\"TEST\")\n",
    "# %time evaluate(clf,X[pidx],y[pidx])\n",
    "\n",
    "# print(\"TRAIN\")\n",
    "# %time evaluate(clf,X[tidx],y[tidx])\n",
    "\n",
    "# # print(\"ROC AUC\")\n",
    "# # %time roc_auc(clf,X,y)\n",
    "\n",
    "# # print(\"PRECISION/RECALL AUC\")\n",
    "# # %time prrc_auc(clf,X,y)"
   ]
  },
  {
   "cell_type": "code",
   "execution_count": null,
   "metadata": {
    "collapsed": true
   },
   "outputs": [],
   "source": []
  },
  {
   "cell_type": "code",
   "execution_count": 67,
   "metadata": {
    "collapsed": false
   },
   "outputs": [
    {
     "data": {
      "text/plain": [
       "0.076923076923076927"
      ]
     },
     "execution_count": 67,
     "metadata": {},
     "output_type": "execute_result"
    }
   ],
   "source": [
    "sent_pred = mlp.predict(tvecs_predict[:N])\n",
    "\n",
    "np.mean(sent_pred)"
   ]
  },
  {
   "cell_type": "code",
   "execution_count": 68,
   "metadata": {
    "collapsed": false
   },
   "outputs": [
    {
     "data": {
      "text/plain": [
       "array([0, 0, 1, 0, 0, 0, 0, 0, 0, 0, 0, 0, 0])"
      ]
     },
     "execution_count": 68,
     "metadata": {},
     "output_type": "execute_result"
    }
   ],
   "source": [
    "sent_pred"
   ]
  },
  {
   "cell_type": "code",
   "execution_count": null,
   "metadata": {
    "collapsed": true
   },
   "outputs": [],
   "source": []
  }
 ],
 "metadata": {
  "anaconda-cloud": {},
  "kernelspec": {
   "display_name": "Python [conda env:cs145]",
   "language": "python",
   "name": "conda-env-cs145-py"
  },
  "language_info": {
   "codemirror_mode": {
    "name": "ipython",
    "version": 2
   },
   "file_extension": ".py",
   "mimetype": "text/x-python",
   "name": "python",
   "nbconvert_exporter": "python",
   "pygments_lexer": "ipython2",
   "version": "2.7.13"
  }
 },
 "nbformat": 4,
 "nbformat_minor": 1
}
