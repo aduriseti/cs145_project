{
 "cells": [
  {
   "cell_type": "code",
   "execution_count": 50,
   "metadata": {
    "collapsed": true
   },
   "outputs": [],
   "source": [
    "import pandas as pd\n",
    "import numpy as np\n",
    "import os"
   ]
  },
  {
   "cell_type": "code",
   "execution_count": 51,
   "metadata": {
    "collapsed": true
   },
   "outputs": [],
   "source": [
    "with open(\"sent_corpus.csv\", \"r\") as sent_file:\n",
    "    lines = sent_file.read().split(\"\\n\")"
   ]
  },
  {
   "cell_type": "code",
   "execution_count": 83,
   "metadata": {},
   "outputs": [
    {
     "name": "stdout",
     "output_type": "stream",
     "text": [
      "CPU times: user 3.38 s, sys: 298 ms, total: 3.68 s\n",
      "Wall time: 3.73 s\n",
      "CPU times: user 4.41 s, sys: 146 ms, total: 4.56 s\n",
      "Wall time: 4.74 s\n",
      "CPU times: user 292 ms, sys: 38.3 ms, total: 330 ms\n",
      "Wall time: 330 ms\n",
      "['ItemID' 'Sentiment' 'SentimentSource' 'SentimentText']\n",
      "CPU times: user 4.21 s, sys: 342 ms, total: 4.56 s\n",
      "Wall time: 4.7 s\n"
     ]
    }
   ],
   "source": [
    "%time rows = [line.split(\",\") for line in lines if line]\n",
    "%time rows = [row[:3] + [\",\".join(row[3:])] for row in rows]\n",
    "# remove document start character \n",
    "rows[0][0] = rows[0][0][1:]\n",
    "\n",
    "sentDf_cols = ['ItemID', 'Sentiment', 'SentimentSource', 'SentimentText']\n",
    "\n",
    "\n",
    "%time sentDf = pd.DataFrame(rows[1:],columns=sentDf_cols)\n",
    "\n",
    "print(sentDf.columns.values)\n",
    "\n",
    "sentDf[[\"ItemID\",\"Sentiment\"]] = sentDf[[\"ItemID\",\"Sentiment\"]].astype(int)\n",
    "%time sentDf[\"SentimentText\"] = sentDf[\"SentimentText\"].apply(lambda text: text.split())"
   ]
  },
  {
   "cell_type": "code",
   "execution_count": 88,
   "metadata": {},
   "outputs": [
    {
     "name": "stdout",
     "output_type": "stream",
     "text": [
      "/Users/Jonny/Documents/UCLA/CS145/cs145_project/crawler_v1/code/tweettext.txt\n",
      "CPU times: user 4 µs, sys: 4 µs, total: 8 µs\n",
      "Wall time: 9.06 µs\n",
      "[' @markdeleon77 This is just one of our undying support &amp; love for these two wonderful personality who we dearly love because\\xe2\\x80\\xa6\\n', ' #WATCH the 50th Episode of #KalingaBandhu today at 5 PM on #KalingaTV \\n', 'Thanking the viewers for all the support and love\\xe2\\x80\\xa6\\n', 'There are no words to describe how lucky I am to be celebrating 8 years together in New York with @TheRealCarla. Sh\\xe2\\x80\\xa6 https://t.co/fUts8IsCTk\\n', '@kamisige__LOVE (  \\xcb\\x99\\xe2\\x97\\x8a\\xcb\\x99  )\\xef\\xbe\\x8e\\xef\\xbd\\xb4?\\n', '@Oo10__Sz \\n', '\\xe3\\x81\\xad\\xe3\\x81\\x87\\xe3\\x81\\x84\\xe3\\x81\\xa4\\xe3\\x82\\x84\\xe3\\x82\\x81\\xe3\\x82\\x8b\\xe3\\x81\\xae\\xef\\xbc\\x9f\\n', '\\xe3\\x82\\xa4\\xe3\\x83\\xb3\\xe3\\x82\\xb9\\xe3\\x82\\xbf\\xe7\\xb9\\x8b\\xe3\\x81\\x8c\\xe3\\x82\\x8a\\xe3\\x81\\x9f\\xe3\\x81\\x84\\xe2\\x80\\xa6\\n', 'I just love romantic animes \\xf0\\x9f\\x98\\xad\\xf0\\x9f\\x92\\x96\\n', ' Thank you to any and everyone who has taken a listen or shared it or streamed it or added to a playlist I love you\\xe2\\x9c\\xa8 htt\\xe2\\x80\\xa6\\n', '\\xf0\\x9f\\x92\\x9eWhite Love\\n', '\\n', '\\xf0\\x9f\\x92\\x9eSPEED\\n', '\\n', 'https://t.co/u2pkEsmzuC https://t.co/leT7qfEB2z\\n', '\\xe3\\x83\\x90\\xe3\\x82\\xab\\xe3\\x81\\x98\\xe3\\x82\\x83\\xe3\\x81\\xaa\\xe3\\x81\\x84\\xe3\\x81\\xae\\xef\\xbc\\x9f https://t.co/KFFd2Gs3Ms\\n', ' @PTX_Scomiche17 @ptxfortier @TinaTinasae @Piedra_sama @hoyiingrassii @SUP3RFRUIT @mitchgrassi @scotthoying @kirstin @KOlusol\\xe2\\x80\\xa6\\n', ' \\xe5\\x86\\xac\\xe3\\x81\\xaf\\xe3\\x83\\x9b\\xe3\\x83\\x83\\xe3\\x83\\x88\\xe3\\x82\\xb3\\xe3\\x82\\xb3\\xe3\\x82\\xa2\\xe3\\x81\\xa7\\xe6\\xb1\\xba\\xe3\\x81\\xbe\\xe3\\x82\\x8a #\\xe7\\xbe\\x8e\\xe5\\x91\\xb3\\xe3\\x81\\x97\\xe3\\x81\\x84 #\\xe3\\x82\\xb9\\xe3\\x82\\xbf\\xe3\\x83\\x90 #\\xe3\\x81\\x8b\\xe3\\x82\\x8f\\xe3\\x81\\x84\\xe3\\x81\\x84\\n', '\\n', 'P.S.\\n', '\\xe3\\x82\\xa4\\xe3\\x83\\xb3\\xe3\\x82\\xb9\\xe3\\x82\\xbf\\xe3\\x82\\xb0\\xe3\\x83\\xa9\\xe3\\x83\\xa0\\xe3\\x81\\xa3\\xe3\\x81\\xbd\\xe3\\x81\\x8f\\xe6\\x92\\xae\\xe3\\x82\\x8c\\xe3\\x81\\x9f\\xe3\\x81\\x8b\\xe3\\x82\\x89\\xe6\\x96\\x87\\xe7\\xab\\xa0\\xe3\\x82\\x82\\xe3\\x81\\x9d\\xe3\\x82\\x8c\\xe3\\x81\\xa3\\xe3\\x81\\xbd\\xe3\\x81\\x8f\\xe3\\x81\\x97\\xe3\\x81\\xbe\\xe3\\x81\\x97\\xe3\\x81\\x9f https://t.co/bhYZZBBCtG\\n', ' Guys can you follow me please? Let\\xe2\\x80\\x99s spread the love for Rachel! #MissUniverse #Philippines https://t.co/8kRiXXM6a6\\n', ' Love, strength and solidarity to the beautiful people of Zimbabwe! May this be a turning point and not a fleeting moment. \\xe2\\x9c\\x8a\\xf0\\x9f\\x8f\\xbd\\xe2\\x80\\xa6\\n', '@kiritancan @nacs_love_CUE @tenoyomi \\xe3\\x81\\x84\\xe3\\x82\\x8f\\xe3\\x82\\x86\\xe3\\x82\\x8b\\xe8\\x85\\x90\\xe5\\xa5\\xb3\\xe5\\xad\\x90\\xe3\\x81\\xa3\\xe3\\x81\\xa6\\xe3\\x82\\x84\\xe3\\x81\\xa4\\xe3\\x81\\xa0\\xe3\\x81\\xadw\\n', '@lili_love_v \\xe3\\x81\\x84\\xe3\\x81\\x88\\xe3\\x81\\x84\\xe3\\x81\\x88\\xef\\xbc\\x81\\xef\\xbc\\x81\\xe5\\xac\\x89\\xe3\\x81\\x97\\xe3\\x81\\x84\\xe3\\x81\\xa7\\xe3\\x81\\x99\\xf0\\x9f\\x98\\xad\\xe2\\x9c\\xa8\\n', ' iTunes WW:\\n', '#20 Red Velvet - Perfect Velvet [-9]\\n', '#41 Super Junior - Play [-3]\\n', \"#71 BTS - LOVE YOURSELF \\xe6\\x89\\xbf 'Her' [+37]\\n\", '#146\\xe2\\x80\\xa6\\n', '@Iuhanliar You know I hate love you. \\xf0\\x9f\\x98\\x8b\\xf0\\x9f\\x98\\x8b\\n', ' #\\xec\\x98\\xb9\\xec\\x84\\xb1\\xec\\x9a\\xb0 / \\xec\\x9a\\x94\\xec\\xb2\\xad \\n', 'https://t.co/BCJSxn1RVt https://t.co/oa8aiwgacy\\n', ' me: hi\\n', '\\n', '18-22yr old 12.5% italian american girl: ok i ALWAYS talk with my hands i can\\xe2\\x80\\x99t help it i\\xe2\\x80\\x99m ITALIAN.  REAL PARMESE\\xe2\\x80\\xa6\\n', ' love is love https://t.co/jQ6oZRE0jx\\n', ' In case anyone has forgotten:\\n', '\\n', 'Child abuse is a sin.  \\n', 'Sexual abuse is a sin.  \\n', 'Sexual harassment is a sin.  \\n', 'Racism, an\\xe2\\x80\\xa6\\n', 'The Dead Weather \"I Feel Love\" - Live on The Late Show https://t.co/sHVne1c8hZ @YouTube\\xe3\\x81\\x95\\xe3\\x82\\x93\\xe3\\x81\\x8b\\xe3\\x82\\x89\\n', ' \\xe6\\x98\\x8e\\xe6\\x97\\xa5\\xe3\\x81\\xaf\\xe6\\x96\\xb0\\xe6\\x9b\\xb2MV\\xe8\\xa7\\xa3\\xe7\\xa6\\x81\\xe2\\x9c\\xa8\\n', '\\n', '\\xe3\\x81\\x8a\\xe6\\xa5\\xbd\\xe3\\x81\\x97\\xe3\\x81\\xbf\\xe3\\x81\\xab\\xe2\\x9d\\x84\\xef\\xb8\\x8f\\n', ' \\xf0\\x9f\\x8e\\x80\\xe3\\x81\\x86\\xe3\\x81\\xa1\\xe3\\x82\\x8f\\xe5\\x8f\\x8e\\xe7\\xb4\\x8d\\xe3\\x83\\x9c\\xe3\\x83\\x83\\xe3\\x82\\xaf\\xe3\\x82\\xb9\\n', '\\xe5\\x85\\xa8\\xe9\\x83\\xa8\\xe3\\x81\\xa718\\xe6\\x9e\\x9a\\xe3\\x81\\xaf\\xe7\\x84\\xa1\\xe7\\x90\\x86\\xe3\\x81\\xaa\\xe3\\x81\\x8f\\xe5\\x85\\xa5\\xe3\\x82\\x8a\\xe3\\x81\\xbe\\xe3\\x81\\x99\\xe0\\xad\\xa8\\xe0\\xad\\xa7\\xe2\\x91\\x85*\\n', '\\xe8\\xa2\\x8b\\xe3\\x81\\xae\\xe3\\x81\\xbe\\xe3\\x81\\xbe\\xe3\\x82\\xad\\xe3\\x83\\xac\\xe3\\x82\\xa4\\xe3\\x81\\xab\\xe4\\xbf\\x9d\\xe7\\xae\\xa1\\xe3\\x81\\xa7\\xe3\\x81\\x8d\\xe3\\x81\\x9d\\xe3\\x81\\x86\\xef\\xbc\\x81\\n', '\\n', '\\xf0\\x9f\\x8e\\x80\\xe3\\x82\\xaf\\xe3\\x83\\xaa\\xe3\\x82\\xa2\\xe3\\x83\\x95\\xe3\\x82\\xa1\\xe3\\x82\\xa4\\xe3\\x83\\xab\\xe3\\x83\\x95\\xe3\\x82\\xa9\\xe3\\x83\\xab\\xe3\\x83\\x80\\xe3\\x83\\xbc\\n', '\\xe8\\xa1\\xa8\\xe7\\xb4\\x99\\xe3\\x82\\x82\\xe5\\x85\\xa5\\xe3\\x82\\x8c\\xe3\\x82\\x8c\\xe3\\x81\\xa6\\xe4\\xb8\\xa1\\xe9\\x9d\\xa2\\xe3\\x81\\xa0\\xe3\\x81\\xa832\\xe6\\x9e\\x9a\\xe5\\x85\\xa5\\xe3\\x82\\x8b\\xe2\\x98\\xba\\xef\\xb8\\x8e\\n', '\\xe3\\x81\\x93\\xe3\\x81\\xa1\\xe3\\x82\\x89\\xe3\\x82\\x82\\xe8\\xa2\\x8b\\xe3\\x81\\xae\\xe3\\x81\\xbe\\xe3\\x81\\xbe\\xe3\\x81\\xb4\\xe3\\x81\\xa3\\xe3\\x81\\x9f\\xe3\\x82\\x8a\\xe5\\x85\\xa5\\xe3\\x82\\x8a\\xe3\\x81\\xbe\\xe3\\x81\\x99\\xef\\xbc\\x81\\n', '\\n', '\\xe3\\x81\\xa9\\xe3\\x81\\xa3\\xe3\\x81\\xa1\\xe3\\x82\\x82\\xe5\\xae\\x89\\xe5\\xae\\x9a\\xe3\\x81\\xae3COINS\\xe3\\x81\\xa7\\xe3\\x81\\x99\\xe2\\x99\\xa1\\xc2\\xb4\\xe2\\x80\\xa2\\xe1\\xb4\\x97\\xe2\\x80\\xa2`\\xe2\\x99\\xa1\\xe2\\x80\\xa6\\n', 'I found love on a 2 way street \\xf0\\x9f\\x92\\x95  https://t.co/j2vgb0Q9gu\\n', '@tahsin_chowder You to a T (gotta love the pun)\\n', \"Ride on time! Don't be late! (Love at First Sight)\\n\", 'HAPPY BIRTHDAY TO MY BABY LOVE HAILEY BALDWIN \\xf0\\x9f\\x92\\x99 LA PUTA MADREEEE COMO CRECIO MI BEBE https://t.co/d2Z8tW4o6u\\n', ' \\xe5\\xa3\\x8a\\xe3\\x82\\x8c\\xe3\\x82\\x8b\\xe3\\x81\\xbb\\xe3\\x81\\xa9\\xe6\\x84\\x9b\\xe3\\x81\\x97\\xe3\\x81\\xa6\\xe3\\x82\\x82\\xe3\\x80\\x801/3\\xe3\\x82\\x82\\xe4\\xbc\\x9d\\xe3\\x82\\x8f\\xe3\\x82\\x89\\xe3\\x81\\xaa\\xe3\\x81\\x84\\n', '\\xe7\\xb4\\x94\\xe6\\x83\\x85\\xe3\\x81\\xaa\\xe6\\x84\\x9f\\xe6\\x83\\x85\\xe3\\x81\\xaf\\xe7\\xa9\\xba\\xe5\\x9b\\x9e\\xe3\\x82\\x8a\\n', 'I Love You\\xe3\\x81\\x95\\xe3\\x81\\x88\\xe8\\xa8\\x80\\xe3\\x81\\x88\\xe3\\x81\\xaa\\xe3\\x81\\x84\\xe3\\x81\\xa7\\xe3\\x81\\x84\\xe3\\x82\\x8b\\xe3\\x81\\x9e\\xe6\\xa3\\xae\\xe4\\xb9\\x85\\xe4\\xbf\\x9d\\xe3\\x82\\xa9\\xef\\xbc\\x81\\xef\\xbc\\x81 https://t.co/xBLllTqBQ7\\n', '@realDonaldTrump For the love of the universe please jump off a bridge somewhere.\\n', '@SG_LOVE__ \\xec\\x8a\\x99\\xec\\x88\\xa9\\xec\\x9d\\xb4\\xeb\\xb3\\xb4\\xea\\xb3\\xa0\\xec\\x8b\\xb6\\xeb\\x8b\\xa4\\xe3\\x85\\xa0\\xe3\\x85\\xa0\\xe3\\x85\\xa0\\n', ' But I\\xe2\\x80\\x99m just a potato standing in front of a french fry, asking him to love her.\\n', ' He who finds True Love\\xf0\\x9f\\x92\\x97 has found a wife\\xf0\\x9f\\x91\\xb0 indeed, go download @dannyjayofficia \"Agape Love\"\\xf0\\x9f\\x92\\x8f\\xf0\\x9f\\x92\\x91 https://t.co/c3Qz8XsGbg\\xe2\\x80\\xa6\\n', '@karanjohar Super Duper \\n', '\\n', 'Love u salMan\\n', ' \\xe0\\xb8\\x82\\xe0\\xb8\\x99\\xe0\\xb8\\x99\\xe0\\xb8\\x99\\xe0\\xb8\\x99\\xe0\\xb8\\x94\\xe0\\xb8\\x81\\xe0\\xb9\\x84\\xe0\\xb8\\x9b\\xe0\\xb9\\x84\\xe0\\xb8\\xab\\xe0\\xb8\\x99 \\xe0\\xb8\\xad\\xe0\\xb8\\xb7\\xe0\\xb8\\xad\\xe0\\xb8\\xad\\xe0\\xb8\\xad\\xe0\\xb8\\xab\\xe0\\xb8\\xb7\\xe0\\xb8\\xad\\xe0\\xb8\\xad\\n', '\\n', 'ig : weeradon https://t.co/g2FxcyFtlA\\n', 'https://t.co/CIWMGL2sR7 Japanese Cute Girl Kawaii Maid\\n', 'CosumeSex MaidSex Akihabara Anime Love her clitorises\\n', ' \\xe0\\xb8\\x81\\xe0\\xb8\\xa3\\xe0\\xb8\\xb0\\xe0\\xb8\\x97\\xe0\\xb8\\xb9\\xe0\\xb9\\x89\\xe0\\xb9\\x80\\xe0\\xb8\\xa3\\xe0\\xb8\\xb7\\xe0\\xb9\\x88\\xe0\\xb8\\xad\\xe0\\xb8\\x87\\xe0\\xb8\\x99\\xe0\\xb9\\x89\\xe0\\xb8\\xad\\xe0\\xb8\\x87\\xe0\\xb8\\x84\\xe0\\xb8\\xb4\\xe0\\xb8\\xa1\\xe0\\xb8\\xa2\\xe0\\xb8\\x87\\xe0\\xb8\\x81\\xe0\\xb8\\xb8\\xe0\\xb8\\x81 JBJ \\xe0\\xb9\\x80\\xe0\\xb8\\x9b\\xe0\\xb9\\x87\\xe0\\xb8\\x99\\xe0\\xb8\\xad\\xe0\\xb8\\xb4\\xe0\\xb8\\x99\\xe0\\xb8\\x8b\\xe0\\xb8\\xad?\\n', '\\n', 'Fan : \\xe0\\xb8\\x89\\xe0\\xb8\\xb1\\xe0\\xb8\\x99\\xe0\\xb8\\x82\\xe0\\xb8\\xad\\xe0\\xb9\\x83\\xe0\\xb8\\xab\\xe0\\xb9\\x89\\xe0\\xb8\\xa2\\xe0\\xb8\\x87\\xe0\\xb8\\x81\\xe0\\xb8\\xb8\\xe0\\xb8\\x81\\xe0\\xb8\\xad\\xe0\\xb8\\x9b\\xe0\\xb8\\x9b\\xe0\\xb9\\x89\\xe0\\xb8\\xb2\\xe0\\xb9\\x81\\xe0\\xb8\\x99\\xe0\\xb8\\xb0\\xe0\\xb8\\x99\\xe0\\xb8\\xb3\\xe0\\xb9\\x80\\xe0\\xb8\\x9e\\xe0\\xb8\\xa5\\xe0\\xb8\\x87\\xe0\\xb8\\x97\\xe0\\xb8\\xb5\\xe0\\xb9\\x88 BGM \\xe0\\xb9\\x80\\xe0\\xb8\\x9e\\xe0\\xb8\\xa3\\xe0\\xb8\\xb2\\xe0\\xb8\\xb0\\xe0\\xb9\\x86 \\xe0\\xb9\\x80\\xe0\\xb8\\x82\\xe0\\xb8\\xb2\\xe0\\xb8\\x95\\xe0\\xb8\\xad\\xe0\\xb8\\x9a\\xe0\\xb8\\xad\\xe0\\xb8\\xa2\\xe0\\xb9\\x88\\xe0\\xb8\\xb2\\xe0\\xb8\\x87\\xe0\\xb9\\x84\\xe0\\xb8\\xa1\\xe0\\xb9\\x88\\xe0\\xb8\\xa5\\xe0\\xb8\\xb1\\xe0\\xb8\\x87\\xe0\\xb9\\x80\\xe0\\xb8\\xa5\\xe0\\xb9\\x80\\xe0\\xb8\\xa5\\xe0\\xb8\\xa2\\xe0\\xb8\\xa7\\xe0\\xb9\\x88\\xe0\\xb8\\xb2...\\n', '\\xf0\\x9f\\xa7\\x91\\xf0\\x9f\\x8f\\xbb : LO\\xe2\\x80\\xa6\\n', 'LIVE\\xef\\xbc\\x86BAR SPACE FATE @love_fate_1101 https://t.co/QOxEQMazuc\\n', 'I love this fandom... definitely not perfect but the imperfections make us who we are. We may not always agree but\\xe2\\x80\\xa6 https://t.co/Aj4Pmduiki\\n', '@BlushTribe I love it!\\xf0\\x9f\\x98\\x8d\\n', ' And hey, people complaining that they follow me just for astronomy and I should stick to it: I\\xe2\\x80\\x99d *love* to just talk sci\\xe2\\x80\\xa6\\n', 'Thankfulness is the language of love! Being thankful enables us to communicate with our LORD! He is our refuge and strength! #JesusCalling\\n', '\\xe3\\x81\\xa4\\xe3\\x81\\xb9\\xe3\\x83\\xa9\\xe3\\x82\\xa4\\xe3\\x83\\x96\\xe7\\xb5\\x82\\xe3\\x82\\x8f\\xe3\\x81\\xa3\\xe3\\x81\\x9f\\xe3\\x81\\xae\\xe3\\x81\\xa7\\xe3\\x80\\x81WINTERDELICS.EP\\xe3\\x82\\x92\\xe8\\x81\\xb4\\xe3\\x81\\x8f\\xe4\\xbd\\x9c\\xe6\\xa5\\xad\\xe3\\x81\\xab\\xe6\\x88\\xbb\\xe3\\x81\\xa3\\xe3\\x81\\xa6\\xe3\\x82\\x8b\\xe3\\x82\\x93\\xe3\\x81\\xa0\\xe3\\x81\\x91\\xe3\\x81\\xa9\\xe3\\x80\\x81Satellite of love\\xe3\\x81\\xae\\xe5\\x86\\x8d\\xe9\\x8c\\xb2\\xe3\\x83\\x90\\xe3\\x83\\xbc\\xe3\\x82\\xb8\\xe3\\x83\\xa7\\xe3\\x83\\xb3\\xe3\\x81\\x93\\xe3\\x82\\x8c\\xe3\\x83\\xa4\\xe3\\x83\\x90\\xe3\\x81\\x8f\\xe3\\x81\\xaa\\xe3\\x81\\x84\\xe3\\x81\\xa7\\xe3\\x81\\x99\\xe3\\x81\\x8b\\xe2\\x80\\xa6\\xe2\\x80\\xa6\\xe3\\x80\\x82\\xe5\\x85\\x83\\xe3\\x80\\x85\\xe7\\xa5\\x9e\\xe6\\x9b\\xb2\\xe3\\x81\\xa0\\xe3\\x81\\x91\\xe3\\x81\\xa9\\xe3\\x83\\x9c\\xe3\\x83\\xbc\\xe3\\x82\\xab\\xe3\\x83\\xab\\xe9\\x8c\\xb2\\xe3\\x82\\x8a\\xe7\\x9b\\xb4\\xe3\\x81\\x97\\xe3\\x81\\x9f\\xe3\\x81\\xa0\\xe3\\x81\\x91\\xe3\\x81\\xa7\\xe3\\x81\\x93\\xe3\\x82\\x93\\xe3\\x81\\xaa\\xe6\\x9b\\xb4\\xe3\\x81\\xab\\xe3\\x83\\xac\\xe3\\x83\\x99\\xe3\\x83\\xab\\xe3\\x82\\xa2\\xe3\\x83\\x83\\xe3\\x83\\x97\\xe3\\x81\\x97\\xe3\\x81\\xa8\\xe3\\x82\\x8b\\xe3\\x82\\x84\\xe3\\x81\\xa3\\xe3\\x81\\xb0\\xe3\\x81\\x84\\xe3\\x82\\x88\\xe3\\x81\\xa0\\xe3\\x82\\x8c\\xe5\\x87\\xba\\xe3\\x82\\x8b\\n', 'im proud of u \\xec\\x86\\x94\\xeb\\xb9\\x88\\xed\\x98\\x95. \\n', 'i love you\\xf0\\x9f\\x92\\x95\\n', 'solbindog https://t.co/IH4peeytWF\\n', ' \\xe8\\xb3\\x87\\xe9\\x87\\x91\\xe3\\x81\\x8c\\xe3\\x82\\xb7\\xe3\\x83\\xa7\\xe3\\x83\\xbc\\xe3\\x83\\x88\\xe3\\x81\\x99\\xe3\\x82\\x8b\\xe5\\x8d\\xb1\\xe9\\x99\\xba\\xe6\\x80\\xa7\\xe3\\x81\\xa8\\xe3\\x81\\x8b\\xe5\\xb8\\x82\\xe5\\xa0\\xb4\\xe3\\x81\\xae\\xe3\\x83\\x8b\\xe3\\x83\\xbc\\xe3\\x82\\xba\\xe3\\x81\\xa8\\xe3\\x81\\x8b\\xe3\\x81\\xaa\\xe3\\x82\\x8a\\xe3\\x81\\xb5\\xe3\\x82\\x8a\\xe6\\xa7\\x8b\\xe3\\x82\\x8f\\xe3\\x81\\x9a\\xe5\\x85\\xa8\\xe5\\x8a\\x9b\\xe3\\x81\\xa7\\xe7\\xaa\\x81\\xe3\\x81\\xa3\\xe8\\xbe\\xbc\\xe3\\x82\\x80\\xe3\\x82\\xb9\\xe3\\x82\\xbf\\xe3\\x83\\xbc\\xe3\\x83\\x88\\xe3\\x82\\xa2\\xe3\\x83\\x83\\xe3\\x83\\x97\\xe3\\x81\\xaf\\xe5\\xb0\\x91\\xe3\\x81\\xaa\\xe3\\x81\\x8f\\xe3\\x81\\xa8\\xe3\\x82\\x82\\xe6\\x97\\xa5\\xe6\\x9c\\xac\\xe3\\x81\\xab\\xe3\\x81\\xaf\\xe5\\xb0\\x91\\xe3\\x81\\xaa\\xe3\\x81\\x84\\xe6\\xb0\\x97\\xe3\\x81\\xaf\\xe3\\x81\\x99\\xe3\\x82\\x8b\\xe3\\x80\\x82\\n', '\\xe3\\x82\\xad\\xe3\\x83\\xa3\\xe3\\x83\\x83\\xe3\\x82\\xb7\\xe3\\x83\\xa5\\xe3\\x81\\x8c\\xe6\\xbd\\xa4\\xe6\\xb2\\xa2\\xe3\\x81\\xab\\xe3\\x81\\x82\\xe3\\x82\\x8b\\xe3\\x83\\xa1\\xe3\\x82\\xac\\xe3\\x83\\x99\\xe3\\x83\\xb3\\xe3\\x83\\x81\\xe3\\x83\\xa3\\xe3\\x83\\xbc\\xe3\\x81\\xae\\xe6\\x96\\xb9\\xe3\\x81\\x8c\\xe3\\x82\\xac\\xe3\\x83\\xb3\\xe3\\x82\\xac\\xe3\\x83\\xb3\\xe5\\x8b\\x9d\\xe8\\xb2\\xa0\\xe3\\x81\\xa7\\xe3\\x81\\x8d\\xe3\\x82\\x8b\\xe3\\x82\\x82\\xe3\\x81\\xae\\xe3\\x81\\xaa\\xe3\\x81\\xae\\xe3\\x81\\x8b\\xe3\\x81\\xaa\\xe3\\x81\\xa8\\xe3\\x80\\x82\\n', ' I saw this and indeed! The photo will speak for itself! We love and support our Rachel Peters!\\n', '\\n', '#MissUniverse\\n', '#Philippine\\xe2\\x80\\xa6\\n', ' I HOPE EVERYONE HAS A TERRIFIC THANKSGIVING REALLY HOPE YOU FIND JOY WITH YOUR LOVED ONES\\n', '\\n', 'AND RECOGNIZE IT MAY NOT BE SO\\xe2\\x80\\xa6\\n', '@haru_kinu_love \\xe3\\x81\\x86\\xe3\\x82\\x93\\xef\\xbc\\x81\\xef\\xbc\\x81\\xef\\xbc\\x81\\xef\\xbc\\x81\\n', ' i love him https://t.co/uVbZO7iBKb\\n', 'If you love someone, do not make her cry even though only a few minutes\\n']\n",
      "done\n"
     ]
    }
   ],
   "source": [
    "## -*- coding: utf-8 -*-\n",
    "\n",
    "curdir = os.getcwd()\n",
    "tweet_path = curdir + \"/crawler_v1/code/tweettext.txt\"\n",
    "print(tweet_path)\n",
    "\n",
    "tweets = []\n",
    "tweet_file = open(tweet_path, \"rb\")\n",
    "%time \n",
    "for line in tweet_file:\n",
    "#    print(line)\n",
    "#    line = line_pre.decode('utf-8')\n",
    "    tweet = \"\"\n",
    "    if(line[:2] == \"RT\"):\n",
    "        char_loc = 0\n",
    "        for char in line:\n",
    "            char_loc += 1\n",
    "            if(char==\":\"):\n",
    "                break\n",
    "\n",
    "        tweet = line[-(len(line)-char_loc):]\n",
    "    else:\n",
    "        tweet = line\n",
    "    tweets.append(tweet)\n",
    "\n",
    "#[tweet.decode('utf-8') for tweet in tweets]\n",
    "print(tweets)\n",
    "\n",
    "print(\"done\")"
   ]
  },
  {
   "cell_type": "code",
   "execution_count": 54,
   "metadata": {},
   "outputs": [
    {
     "name": "stdout",
     "output_type": "stream",
     "text": [
      "CPU times: user 5min 23s, sys: 7.96 s, total: 5min 31s\n",
      "Wall time: 2min 18s\n"
     ]
    }
   ],
   "source": [
    "import gensim\n",
    "%time w2vM = gensim.models.Word2Vec(sentDf[\"SentimentText\"])\n",
    "# %time w2vM_google = gensim.models.KeyedVectors.load_word2vec_format('GoogleNews-vectors-negative300.bin', binary=True)"
   ]
  },
  {
   "cell_type": "code",
   "execution_count": 55,
   "metadata": {
    "collapsed": true
   },
   "outputs": [],
   "source": [
    "# number of samples to aggregate\n",
    "Ns = int(1e5)"
   ]
  },
  {
   "cell_type": "code",
   "execution_count": 89,
   "metadata": {},
   "outputs": [
    {
     "name": "stdout",
     "output_type": "stream",
     "text": [
      "prediction vecs...\n",
      "CPU times: user 8.1 s, sys: 122 ms, total: 8.22 s\n",
      "Wall time: 8.57 s\n"
     ]
    }
   ],
   "source": [
    "%%time\n",
    "# MEAN AGGREGATION\n",
    "tvecs = np.array([np.array([w2vM[t] if t in w2vM\n",
    "                                else np.zeros((100,))\n",
    "                            for t in twt]).mean(axis=0)\n",
    "                 for twt in sentDf[\"SentimentText\"][:Ns]])\n",
    "# SUM AGGREGATION\n",
    "# tvecs = np.array([np.array([w2vM[t] if t in w2vM\n",
    "#                                 else np.zeros((100,))\n",
    "#                             for t in twt]).sum(axis=0)\n",
    "#                  for twt in sentDf[\"SentimentText\"][:Ns]])\n",
    "\n",
    "# print(tvecs[:5])\n",
    "print(\"prediction vecs...\")\n",
    "\n",
    "tvecs_predict = np.array([np.array([w2vM[t] if t in w2vM\n",
    "                                else np.zeros((100,))\n",
    "                            for t in twt]).mean(axis=0)\n",
    "                 for twt in tweets[:Ns]])\n",
    "\n",
    "# print(tvecs_predict[:5])"
   ]
  },
  {
   "cell_type": "code",
   "execution_count": 57,
   "metadata": {
    "collapsed": true
   },
   "outputs": [],
   "source": [
    "# number of samples to train on\n",
    "N = int(1e5)\n",
    "X = tvecs[:N]\n",
    "y = sentDf[\"Sentiment\"][:N].values\n",
    "# inverse classifier\n",
    "# y = 1 - y"
   ]
  },
  {
   "cell_type": "code",
   "execution_count": 58,
   "metadata": {
    "collapsed": true
   },
   "outputs": [],
   "source": [
    "# generate test/train split\n",
    "ratio = 0.8\n",
    "tidx = np.random.rand(N) < ratio\n",
    "pidx = ~tidx"
   ]
  },
  {
   "cell_type": "code",
   "execution_count": 59,
   "metadata": {
    "collapsed": true
   },
   "outputs": [],
   "source": [
    "import sklearn\n",
    "from sklearn import ensemble,svm,neural_network,discriminant_analysis\n",
    "from sklearn.metrics import roc_curve,auc,precision_recall_curve\n",
    "\n",
    "from matplotlib import pyplot as plt\n",
    "% matplotlib inline"
   ]
  },
  {
   "cell_type": "code",
   "execution_count": 60,
   "metadata": {
    "collapsed": true
   },
   "outputs": [],
   "source": [
    "def roc_auc(clf,X,y):\n",
    "    probs = clf.predict_proba(X[pidx])\n",
    "    fpr, tpr, thresholds = roc_curve(y[pidx], probs[:, 1])\n",
    "    roc_auc = auc(fpr, tpr)\n",
    "    roc_str = 'ROC (AUC Gain = %0.2f)' % (roc_auc - 0.5)\n",
    "    plt.plot(fpr, tpr, lw=1,label=roc_str)\n",
    "    plt.plot([0,1],[0,1],label=\"RAN CLF\")\n",
    "    plt.title(roc_str)\n",
    "    plt.show()"
   ]
  },
  {
   "cell_type": "code",
   "execution_count": 61,
   "metadata": {
    "collapsed": true
   },
   "outputs": [],
   "source": [
    "def prrc_auc(clf,X,y):\n",
    "    probs = clf.predict_proba(X)\n",
    "    pr, rc, thresholds = precision_recall_curve(y, probs[:, 1])\n",
    "    roc_auc = auc(rc, pr)\n",
    "    roc_str = 'Prec vs Recall (AUC Gain = %0.2f)' % (roc_auc - np.mean(y))\n",
    "    plt.plot(rc,pr, lw=1,label=roc_str)\n",
    "    plt.plot([0,1],[np.mean(y),np.mean(y)],label=\"RAN CLF\")\n",
    "    plt.axis([0,1,0,1])\n",
    "    plt.title(roc_str)\n",
    "    plt.show()"
   ]
  },
  {
   "cell_type": "code",
   "execution_count": 62,
   "metadata": {
    "collapsed": true
   },
   "outputs": [],
   "source": [
    "def evaluate(clf,X,y):\n",
    "    yhat = clf.predict(X)\n",
    "    accu = np.mean(yhat == y)\n",
    "    prec = np.mean(y[yhat == 1])\n",
    "    recl = np.mean(yhat[y == 1])\n",
    "    f1 = 2 * prec * recl / (prec + recl)\n",
    "    print(\"Accuracy\",accu,\"Precision\",prec,\"Recall\",recl,\"F1\",f1)"
   ]
  },
  {
   "cell_type": "code",
   "execution_count": 63,
   "metadata": {},
   "outputs": [
    {
     "name": "stdout",
     "output_type": "stream",
     "text": [
      "CPU times: user 4.16 s, sys: 111 ms, total: 4.27 s\n",
      "Wall time: 4.65 s\n",
      "TEST\n",
      "('Accuracy', 0.66608443956482688, 'Precision', 0.66868878818886124, 'Recall', 0.8091447775714159, 'F1', 0.73224218656208728)\n",
      "CPU times: user 27.1 ms, sys: 8.93 ms, total: 36 ms\n",
      "Wall time: 33.6 ms\n",
      "TRAIN\n",
      "('Accuracy', 0.67852229809159348, 'Precision', 0.67708921384735854, 'Recall', 0.82340826043627502, 'F1', 0.74311468201622899)\n",
      "CPU times: user 97.4 ms, sys: 20 ms, total: 117 ms\n",
      "Wall time: 115 ms\n",
      "ROC AUC\n"
     ]
    },
    {
     "data": {
      "image/png": "[encoded data removed]",
      "text/plain": [
       "<matplotlib.figure.Figure at 0x130801090>"
      ]
     },
     "metadata": {},
     "output_type": "display_data"
    },
    {
     "name": "stdout",
     "output_type": "stream",
     "text": [
      "CPU times: user 184 ms, sys: 11.5 ms, total: 195 ms\n",
      "Wall time: 196 ms\n",
      "PRECISION/RECALL AUC\n"
     ]
    },
    {
     "data": {
      "image/png": "[encoded data removed]",
      "text/plain": [
       "<matplotlib.figure.Figure at 0x130801410>"
      ]
     },
     "metadata": {},
     "output_type": "display_data"
    },
    {
     "name": "stdout",
     "output_type": "stream",
     "text": [
      "CPU times: user 275 ms, sys: 26.5 ms, total: 301 ms\n",
      "Wall time: 297 ms\n"
     ]
    }
   ],
   "source": [
    "rf = sklearn.ensemble.RandomForestClassifier()\n",
    "rf.max_depth = 5\n",
    "%time rf.fit(X[tidx],y[tidx])\n",
    "\n",
    "print(\"TEST\")\n",
    "%time evaluate(rf,X[pidx],y[pidx])\n",
    "\n",
    "print(\"TRAIN\")\n",
    "%time evaluate(rf,X[tidx],y[tidx])\n",
    "\n",
    "print(\"ROC AUC\")\n",
    "%time roc_auc(rf,X,y)\n",
    "\n",
    "print(\"PRECISION/RECALL AUC\")\n",
    "%time prrc_auc(rf,X,y)"
   ]
  },
  {
   "cell_type": "code",
   "execution_count": 64,
   "metadata": {
    "collapsed": true
   },
   "outputs": [],
   "source": [
    "mlp = sklearn.neural_network.MLPClassifier()\n",
    "%time mlp.fit(X[tidx],y[tidx])\n",
    "\n",
    "print(\"TEST\")\n",
    "%time evaluate(mlp,X[pidx],y[pidx])\n",
    "\n",
    "print(\"TRAIN\")\n",
    "%time evaluate(mlp,X[tidx],y[tidx])\n",
    "\n",
    "print(\"ROC AUC\")\n",
    "%time roc_auc(mlp,X,y)\n",
    "\n",
    "print(\"PRECISION/RECALL AUC\")\n",
    "%time prrc_auc(mlp,X,y)\n",
    "\n",
    "# qda = sklearn.discriminant_analysis.QuadraticDiscriminantAnalysis()\n",
    "# clf = qda\n",
    "# %time clf.fit(X[tidx],y[tidx])\n",
    "\n",
    "# print(\"TEST\")\n",
    "# %time evaluate(clf,X[pidx],y[pidx])\n",
    "\n",
    "# print(\"TRAIN\")\n",
    "# %time evaluate(clf,X[tidx],y[tidx])\n",
    "\n",
    "# # print(\"ROC AUC\")\n",
    "# # %time roc_auc(clf,X,y)\n",
    "\n",
    "# # print(\"PRECISION/RECALL AUC\")\n",
    "# # %time prrc_auc(clf,X,y)"
   ]
  },
  {
   "cell_type": "code",
   "execution_count": 90,
   "metadata": {},
   "outputs": [
    {
     "name": "stdout",
     "output_type": "stream",
     "text": [
      "CPU times: user 771 µs, sys: 884 µs, total: 1.65 ms\n",
      "Wall time: 709 µs\n"
     ]
    }
   ],
   "source": [
    "%time sent_pred = mlp.predict(tvecs_predict[:N])\n",
    "\n",
    "np.mean(sent_pred)\n",
    "\n",
    "aggregated_val = 0.0\n",
    "for val in sent_pred:\n",
    "    aggregated_val += float(val)\n",
    "\n",
    "aggregated_val /= len(sent_pred)\n"
   ]
  },
  {
   "cell_type": "code",
   "execution_count": 91,
   "metadata": {},
   "outputs": [
    {
     "name": "stdout",
     "output_type": "stream",
     "text": [
      "[1 1 1 0 1 0 1 1 1 1 1 1 1 1 1 1 1 1 1 0 1 1 1 1 1 1 0 1 0 0 1 1 1 0 1 0 1\n",
      " 1 1 0 1 1 0 1 1 1 1 1 1 1 1 1 1 1 1 1 1 1 1 0 1 1 1 0 1 1 1 1 1 1 1 1 1 1\n",
      " 1 1 1 1 1 0 1 0 1 1 1 1 1 1 1 1 1 1 0 0 1 1 1 1 0 1]\n",
      "0.83\n"
     ]
    }
   ],
   "source": [
    "print(sent_pred)\n",
    "print(aggregated_val)"
   ]
  },
  {
   "cell_type": "code",
   "execution_count": null,
   "metadata": {
    "collapsed": true
   },
   "outputs": [],
   "source": []
  }
 ],
 "metadata": {
  "anaconda-cloud": {},
  "kernelspec": {
   "display_name": "Python 2",
   "language": "python",
   "name": "python2"
  },
  "language_info": {
   "codemirror_mode": {
    "name": "ipython",
    "version": 2
   },
   "file_extension": ".py",
   "mimetype": "text/x-python",
   "name": "python",
   "nbconvert_exporter": "python",
   "pygments_lexer": "ipython2",
   "version": "2.7.14"
  }
 },
 "nbformat": 4,
 "nbformat_minor": 1
}
