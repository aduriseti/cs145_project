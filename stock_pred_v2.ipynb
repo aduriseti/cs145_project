{
 "cells": [
  {
   "cell_type": "code",
   "execution_count": 281,
   "metadata": {
    "collapsed": true
   },
   "outputs": [],
   "source": [
    "import pandas as pd\n",
    "import numpy as np\n",
    "import os\n",
    "from datetime import datetime"
   ]
  },
  {
   "cell_type": "code",
   "execution_count": 282,
   "metadata": {
    "collapsed": true
   },
   "outputs": [],
   "source": [
    "datadirs = [\"Jan07-Jan10\",\"Jan10-onward\"]"
   ]
  },
  {
   "cell_type": "code",
   "execution_count": 336,
   "metadata": {
    "collapsed": false
   },
   "outputs": [
    {
     "name": "stdout",
     "output_type": "stream",
     "text": [
      "(408127, 9)\n",
      "(408127, 9)\n",
      "CPU times: user 7.22 s, sys: 177 ms, total: 7.39 s\n",
      "Wall time: 9.13 s\n",
      "CPU times: user 11.3 s, sys: 1.72 s, total: 13 s\n",
      "Wall time: 16.3 s\n"
     ]
    }
   ],
   "source": [
    "%%time\n",
    "dfs = []\n",
    "for datadir in datadirs:\n",
    "    for root,dirs,files in os.walk(datadir):\n",
    "        for file in files:\n",
    "            name = file.split(\"_\")[0]\n",
    "            df = pd.read_csv(root+\"/\"+file,header=None)\n",
    "            df.columns = [\"datestr\",\"twt\",\"open\",\"high\",\"low\",\"close\",\"adjclose\"]\n",
    "            df[\"name\"] = [name]*df.shape[0]\n",
    "            dfs.append(df)\n",
    "\n",
    "df = pd.concat(dfs,axis=0)\n",
    "df[\"twt\"] = df[\"twt\"].astype(str)\n",
    "df[\"twtarr\"] = df[\"twt\"].apply(lambda text: text.lower().split())\n",
    "\n",
    "print(df.shape)\n",
    "df = df[df[\"datestr\"] != \"\"]\n",
    "print(df.shape)\n",
    "df[\"date\"] = df[\"datestr\"].apply( \\\n",
    "    lambda date: datetime.strptime(date,\"%Y-%m-%d\"))"
   ]
  },
  {
   "cell_type": "markdown",
   "metadata": {},
   "source": [
    "Open, High, Low, Close, Adj Close"
   ]
  },
  {
   "cell_type": "code",
   "execution_count": 145,
   "metadata": {
    "collapsed": true
   },
   "outputs": [],
   "source": [
    "# %%time\n",
    "# with open(\"tweets_AAPL.csv\",'rb') as dfile:\n",
    "#     dstr = str(dfile.read())[2:]\n",
    "# darr = dstr.split('\\\\r')\n",
    "# dmat = [rs.split(\",\") for rs in darr]\n",
    "# dmat = [r[:1] + [\",\".join(r[1:-5])] + r[-5:] for r in dmat]\n",
    "# dmat = [r for r in dmat if len(r) == 7]\n",
    "# df = pd.DataFrame(dmat)\n",
    "# df.columns = [\"datestr\",\"twt\",\"open\",\"high\",\"low\",\"close\",\"adjclose\"]"
   ]
  },
  {
   "cell_type": "code",
   "execution_count": 194,
   "metadata": {
    "collapsed": true
   },
   "outputs": [],
   "source": [
    "namedatedf = df[[\"date\",\"name\",\"open\"]].groupby([\"name\",\"date\"]).aggregate(lambda gp: tuple(set(gp))[0])\n",
    "datedf = df[[\"date\",\"name\",\"open\"]].groupby([\"date\"]).aggregate(lambda gp: tuple(set(gp))[0])"
   ]
  },
  {
   "cell_type": "code",
   "execution_count": 276,
   "metadata": {
    "collapsed": false
   },
   "outputs": [],
   "source": [
    "for name in namedatedf.index.levels[0]:\n",
    "    pval = namedatedf.loc[name,\"open\"].values.astype(float)\n",
    "    up = ((pval[1:] - pval[:-1]) > 0).astype(int)\n",
    "    up = list(up) + [0]\n",
    "    namedatedf.loc[name,\"openup\"] = up"
   ]
  },
  {
   "cell_type": "code",
   "execution_count": 237,
   "metadata": {
    "collapsed": false
   },
   "outputs": [
    {
     "name": "stdout",
     "output_type": "stream",
     "text": [
      "CPU times: user 5.23 s, sys: 374 ms, total: 5.6 s\n",
      "Wall time: 8.08 s\n"
     ]
    }
   ],
   "source": [
    "# datedf = df[[\"date\",\"name\",\"open\"]].groupby(\"date\").aggregate(lambda gp: tuple(set(gp))[0])\n",
    "# pval = datedf.values.astype(float)\n",
    "# up = ((pval[1:] - pval[:-1]) > 0).astype(int)\n",
    "# datedf[\"openup\"] = list(up.T[0]) + [0]"
   ]
  },
  {
   "cell_type": "code",
   "execution_count": 331,
   "metadata": {
    "collapsed": false
   },
   "outputs": [
    {
     "name": "stdout",
     "output_type": "stream",
     "text": [
      "CPU times: user 3.29 s, sys: 149 ms, total: 3.44 s\n",
      "Wall time: 4.22 s\n"
     ]
    }
   ],
   "source": [
    "# %%time\n",
    "# for n,d in namedatedf.index[:100]:\n",
    "#     nidx = df[\"name\"] == n\n",
    "#     didx = df[\"date\"] == d\n",
    "# #     [namedatedf.loc[(n,d)]] * sum(nidx & didx)\n",
    "# #     df.loc[(nidx & didx)] = [namedatedf.loc[(n,d)]] * sum(nidx & didx)\n",
    "#     df.loc[(nidx & didx),\"openup\"] = namedatedf.loc[(n,d),\"openup\"]"
   ]
  },
  {
   "cell_type": "code",
   "execution_count": 94,
   "metadata": {
    "collapsed": false
   },
   "outputs": [
    {
     "name": "stdout",
     "output_type": "stream",
     "text": [
      "CPU times: user 1min 50s, sys: 2.1 s, total: 1min 52s\n",
      "Wall time: 53.4 s\n"
     ]
    }
   ],
   "source": [
    "import gensim\n",
    "%time w2vM = gensim.models.Word2Vec(df[\"twtarr\"])"
   ]
  },
  {
   "cell_type": "code",
   "execution_count": 95,
   "metadata": {
    "collapsed": true
   },
   "outputs": [],
   "source": [
    "# number of samples to aggregate\n",
    "Ns = int(1e6)"
   ]
  },
  {
   "cell_type": "code",
   "execution_count": 337,
   "metadata": {
    "collapsed": false
   },
   "outputs": [
    {
     "name": "stdout",
     "output_type": "stream",
     "text": [
      "CPU times: user 47.3 s, sys: 2.55 s, total: 49.9 s\n",
      "Wall time: 1min\n",
      "CPU times: user 47.3 s, sys: 2.56 s, total: 49.9 s\n",
      "Wall time: 1min\n"
     ]
    }
   ],
   "source": [
    "%%time\n",
    "# MEAN AGGREGATION\n",
    "# tvecs = np.array([np.array([w2vM[t] if t in w2vM\n",
    "#                                 else np.zeros((100,))\n",
    "#                             for t in twt]).mean(axis=0)\n",
    "#                  for twt in df[\"twtarr\"][:Ns]])\n",
    "# tvecs = np.array([np.array([w2vM[t]\n",
    "#                             for t in twt\n",
    "#                             if t in w2vM]).mean(axis=0)\n",
    "#                  for twt in df[\"twt\"][:Ns]])\n",
    "# SUM AGGREGATION\n",
    "# tvecs = np.array([np.array([w2vM[t] if t in w2vM\n",
    "#                                 else np.zeros((100,))\n",
    "#                             for t in twt]).sum(axis=0)\n",
    "#                  for twt in sentDf[\"SentimentText\"][:Ns]])\n",
    "# MEAN AGGREGATION\n",
    "%time df[\"twtvecs\"] = df[\"twtarr\"][:Ns].apply(\\\n",
    "    lambda twt: np.array([w2vM[t] \\\n",
    "                         if t in w2vM else np.zeros((100,)) \\\n",
    "                         for t in twt]).mean(axis=0))"
   ]
  },
  {
   "cell_type": "code",
   "execution_count": 338,
   "metadata": {
    "collapsed": false
   },
   "outputs": [
    {
     "name": "stdout",
     "output_type": "stream",
     "text": [
      "(408127, 11)\n",
      "CPU times: user 4.7 s, sys: 277 ms, total: 4.97 s\n",
      "Wall time: 5.79 s\n",
      "CPU times: user 85.1 ms, sys: 46.9 ms, total: 132 ms\n",
      "Wall time: 235 ms\n",
      "(408127, 11)\n"
     ]
    }
   ],
   "source": [
    "print(df.shape)\n",
    "%time veclens = df[\"twtvecs\"].apply(lambda vec: int(np.prod(vec.shape)))\n",
    "df_empty = df[veclens != 100]\n",
    "%time df = df[veclens == 100]\n",
    "print(df.shape)"
   ]
  },
  {
   "cell_type": "code",
   "execution_count": 370,
   "metadata": {
    "collapsed": false
   },
   "outputs": [
    {
     "name": "stdout",
     "output_type": "stream",
     "text": [
      "CPU times: user 9.42 s, sys: 846 ms, total: 10.3 s\n",
      "Wall time: 11.8 s\n"
     ]
    }
   ],
   "source": [
    "%%time\n",
    "namedategps = df[[\"date\",\"name\",\"twtvecs\"]].groupby([\"name\",\"date\"])\n",
    "namedatevecs = [np.mean(gp.values[:,2],axis=0) for k,gp in datenamegps]\n",
    "# datedf[\"datevecs\"] = datevecs\n",
    "namedatedf[\"namedatevecs\"] = namedatevecs"
   ]
  },
  {
   "cell_type": "code",
   "execution_count": 368,
   "metadata": {
    "collapsed": false
   },
   "outputs": [
    {
     "name": "stdout",
     "output_type": "stream",
     "text": [
      "CPU times: user 3min 51s, sys: 3.29 s, total: 3min 54s\n",
      "Wall time: 4min 20s\n"
     ]
    }
   ],
   "source": [
    "%%time\n",
    "df[\"openup\"] = df[[\"name\",\"date\"]].apply(\\\n",
    "    lambda nd: namedatedf.loc[(nd[0],nd[1]),\"openup\"],\\\n",
    "    axis = 1)"
   ]
  },
  {
   "cell_type": "code",
   "execution_count": 340,
   "metadata": {
    "collapsed": true
   },
   "outputs": [],
   "source": [
    "# dategps = df[[\"date\",\"twtvecs\"]].groupby(\"date\")\n",
    "# datevecs = [np.mean(gp.values[:,1], axis=0) for k,gp in dategps]\n",
    "# datedf[\"datevecs\"] = datevecs"
   ]
  },
  {
   "cell_type": "code",
   "execution_count": 341,
   "metadata": {
    "collapsed": false
   },
   "outputs": [],
   "source": [
    "import sklearn\n",
    "from sklearn import ensemble,svm,neural_network,discriminant_analysis\n",
    "from sklearn.metrics import roc_curve,auc,precision_recall_curve\n",
    "\n",
    "from matplotlib import pyplot as plt\n",
    "% matplotlib inline\n",
    "\n",
    "def roc_auc(clf,X,y):\n",
    "    probs = clf.predict_proba(X)\n",
    "    fpr, tpr, thresholds = roc_curve(y, probs[:, 1])\n",
    "    roc_auc = auc(fpr, tpr)\n",
    "    roc_str = 'ROC (AUC Gain = %0.2f)' % (roc_auc - 0.5)\n",
    "    plt.plot(fpr, tpr, lw=1,label=roc_str)\n",
    "    plt.plot([0,1],[0,1],label=\"RAN CLF\")\n",
    "    plt.title(roc_str)\n",
    "    plt.show()\n",
    "\n",
    "def prrc_auc(clf,X,y):\n",
    "    probs = clf.predict_proba(X)\n",
    "    pr, rc, thresholds = precision_recall_curve(y, probs[:, 1])\n",
    "    roc_auc = auc(rc, pr)\n",
    "    roc_str = 'Prec vs Recall (AUC Gain = %0.2f)' % (roc_auc - np.mean(y))\n",
    "    plt.plot(rc,pr, lw=1,label=roc_str)\n",
    "    plt.plot([0,1],[np.mean(y),np.mean(y)],label=\"RAN CLF\")\n",
    "    plt.axis([0,1,0,1])\n",
    "    plt.title(roc_str)\n",
    "    plt.show()\n",
    "\n",
    "def evaluate(clf,X,y):\n",
    "    yhat = clf.predict(X)\n",
    "    accu = np.mean(yhat == y)\n",
    "    prec = np.mean(y[yhat == 1])\n",
    "    recl = np.mean(yhat[y == 1])\n",
    "    f1 = 2 * prec * recl / (prec + recl)\n",
    "    print(\"Accuracy\",accu,\"Precision\",prec,\"Recall\",recl,\"F1\",f1)"
   ]
  },
  {
   "cell_type": "markdown",
   "metadata": {},
   "source": [
    "# Average of tweets in a day"
   ]
  },
  {
   "cell_type": "code",
   "execution_count": 344,
   "metadata": {
    "collapsed": false
   },
   "outputs": [],
   "source": [
    "# dvecs = np.array([vec.T for vec in avgvecs[\"vecs\"].values])\n",
    "# X = np.array([vec.T for vec in datedf[\"datevecs\"].values])\n",
    "X = np.array(datenamevecs)\n",
    "y = namedatedf[\"openup\"].values\n",
    "# inverse classifier\n",
    "# y = 1 - y"
   ]
  },
  {
   "cell_type": "code",
   "execution_count": null,
   "metadata": {
    "collapsed": true
   },
   "outputs": [],
   "source": []
  },
  {
   "cell_type": "code",
   "execution_count": 345,
   "metadata": {
    "collapsed": false
   },
   "outputs": [
    {
     "name": "stdout",
     "output_type": "stream",
     "text": [
      "(15934, 100) (15934,)\n"
     ]
    }
   ],
   "source": [
    "print(X.shape,y.shape)"
   ]
  },
  {
   "cell_type": "code",
   "execution_count": 346,
   "metadata": {
    "collapsed": true
   },
   "outputs": [],
   "source": [
    "# generate test/train split\n",
    "ratio = 0.8\n",
    "tidx = np.random.rand(X.shape[0]) < ratio\n",
    "pidx = ~tidx"
   ]
  },
  {
   "cell_type": "code",
   "execution_count": 347,
   "metadata": {
    "collapsed": false
   },
   "outputs": [
    {
     "name": "stdout",
     "output_type": "stream",
     "text": [
      "CPU times: user 819 ms, sys: 30.4 ms, total: 850 ms\n",
      "Wall time: 1.11 s\n"
     ]
    },
    {
     "data": {
      "text/plain": [
       "RandomForestClassifier(bootstrap=True, class_weight=None, criterion='gini',\n",
       "            max_depth=5, max_features='auto', max_leaf_nodes=None,\n",
       "            min_impurity_decrease=0.0, min_impurity_split=None,\n",
       "            min_samples_leaf=1, min_samples_split=2,\n",
       "            min_weight_fraction_leaf=0.0, n_estimators=10, n_jobs=1,\n",
       "            oob_score=False, random_state=None, verbose=0,\n",
       "            warm_start=False)"
      ]
     },
     "execution_count": 347,
     "metadata": {},
     "output_type": "execute_result"
    }
   ],
   "source": [
    "rf = sklearn.ensemble.RandomForestClassifier()\n",
    "rf.max_depth = 5\n",
    "clf = rf\n",
    "%time clf.fit(X[tidx],y[tidx])"
   ]
  },
  {
   "cell_type": "code",
   "execution_count": 348,
   "metadata": {
    "collapsed": false
   },
   "outputs": [
    {
     "name": "stdout",
     "output_type": "stream",
     "text": [
      "TEST\n",
      "Accuracy 0.509223918575 Precision 0.528914879792 Recall 0.498774509804 F1 0.513402712078\n",
      "CPU times: user 8.67 ms, sys: 2.78 ms, total: 11.4 ms\n",
      "Wall time: 10.2 ms\n",
      "TRAIN\n",
      "Accuracy 0.581860828772 Precision 0.591240875912 Recall 0.573407202216 F1 0.5821875\n",
      "CPU times: user 24.7 ms, sys: 4.74 ms, total: 29.5 ms\n",
      "Wall time: 27.3 ms\n",
      "ROC AUC\n"
     ]
    },
    {
     "data": {
      "image/png": "[encoded data removed]",
      "text/plain": [
       "<matplotlib.figure.Figure at 0x13758cbe0>"
      ]
     },
     "metadata": {},
     "output_type": "display_data"
    },
    {
     "name": "stdout",
     "output_type": "stream",
     "text": [
      "CPU times: user 241 ms, sys: 29.6 ms, total: 270 ms\n",
      "Wall time: 343 ms\n",
      "PRECISION/RECALL AUC\n"
     ]
    },
    {
     "data": {
      "image/png": "[encoded data removed]",
      "text/plain": [
       "<matplotlib.figure.Figure at 0x13758c240>"
      ]
     },
     "metadata": {},
     "output_type": "display_data"
    },
    {
     "name": "stdout",
     "output_type": "stream",
     "text": [
      "CPU times: user 308 ms, sys: 15.4 ms, total: 324 ms\n",
      "Wall time: 666 ms\n"
     ]
    }
   ],
   "source": [
    "print(\"TEST\")\n",
    "%time evaluate(clf,X[pidx],y[pidx])\n",
    "\n",
    "print(\"TRAIN\")\n",
    "%time evaluate(clf,X[tidx],y[tidx])\n",
    "\n",
    "print(\"ROC AUC\")\n",
    "%time roc_auc(clf,X[pidx],y[pidx])\n",
    "\n",
    "print(\"PRECISION/RECALL AUC\")\n",
    "%time prrc_auc(clf,X[pidx],y[pidx])"
   ]
  },
  {
   "cell_type": "code",
   "execution_count": 349,
   "metadata": {
    "collapsed": false
   },
   "outputs": [
    {
     "name": "stdout",
     "output_type": "stream",
     "text": [
      "CPU times: user 16.7 s, sys: 1.42 s, total: 18.1 s\n",
      "Wall time: 20.3 s\n",
      "TEST\n",
      "Accuracy 0.528307888041 Precision 0.547603833866 Recall 0.52512254902 F1 0.536127619643\n",
      "CPU times: user 10.4 ms, sys: 6.04 ms, total: 16.4 ms\n",
      "Wall time: 12.8 ms\n",
      "TRAIN\n",
      "Accuracy 0.691477716966 Precision 0.700881612091 Recall 0.68513388735 F1 0.692918287938\n",
      "CPU times: user 41.6 ms, sys: 18.7 ms, total: 60.3 ms\n",
      "Wall time: 38.8 ms\n",
      "ROC AUC\n"
     ]
    },
    {
     "data": {
      "image/png": "[encoded data removed]",
      "text/plain": [
       "<matplotlib.figure.Figure at 0x16c85bf28>"
      ]
     },
     "metadata": {},
     "output_type": "display_data"
    },
    {
     "name": "stdout",
     "output_type": "stream",
     "text": [
      "CPU times: user 973 ms, sys: 1.36 s, total: 2.33 s\n",
      "Wall time: 4.31 s\n",
      "PRECISION/RECALL AUC\n"
     ]
    },
    {
     "data": {
      "image/png": "[encoded data removed]",
      "text/plain": [
       "<matplotlib.figure.Figure at 0x162e0e9b0>"
      ]
     },
     "metadata": {},
     "output_type": "display_data"
    },
    {
     "name": "stdout",
     "output_type": "stream",
     "text": [
      "CPU times: user 310 ms, sys: 19.7 ms, total: 330 ms\n",
      "Wall time: 619 ms\n"
     ]
    }
   ],
   "source": [
    "mlp = sklearn.neural_network.MLPClassifier()\n",
    "clf = mlp\n",
    "%time clf.fit(X[tidx],y[tidx])\n",
    "\n",
    "print(\"TEST\")\n",
    "%time evaluate(clf,X[pidx],y[pidx])\n",
    "\n",
    "print(\"TRAIN\")\n",
    "%time evaluate(clf,X[tidx],y[tidx])\n",
    "\n",
    "print(\"ROC AUC\")\n",
    "%time roc_auc(clf,X[pidx],y[pidx])\n",
    "\n",
    "print(\"PRECISION/RECALL AUC\")\n",
    "%time prrc_auc(clf,X[pidx],y[pidx])"
   ]
  },
  {
   "cell_type": "code",
   "execution_count": 350,
   "metadata": {
    "collapsed": false
   },
   "outputs": [
    {
     "name": "stdout",
     "output_type": "stream",
     "text": [
      "CPU times: user 328 ms, sys: 60.5 ms, total: 389 ms\n",
      "Wall time: 734 ms\n",
      "TEST\n",
      "Accuracy 0.492684478372 Precision 0.523870967742 Recall 0.248774509804 F1 0.33734939759\n",
      "CPU times: user 19.2 ms, sys: 7.64 ms, total: 26.8 ms\n",
      "Wall time: 21.7 ms\n",
      "TRAIN\n",
      "Accuracy 0.563017982799 Precision 0.647612861319 Recall 0.306863650354 F1 0.416414325989\n",
      "CPU times: user 70.2 ms, sys: 40.2 ms, total: 110 ms\n",
      "Wall time: 134 ms\n",
      "ROC AUC\n"
     ]
    },
    {
     "data": {
      "image/png": "[encoded data removed]",
      "text/plain": [
       "<matplotlib.figure.Figure at 0x11f9aec18>"
      ]
     },
     "metadata": {},
     "output_type": "display_data"
    },
    {
     "name": "stdout",
     "output_type": "stream",
     "text": [
      "CPU times: user 319 ms, sys: 20.5 ms, total: 339 ms\n",
      "Wall time: 852 ms\n",
      "PRECISION/RECALL AUC\n"
     ]
    },
    {
     "data": {
      "image/png": "[encoded data removed]",
      "text/plain": [
       "<matplotlib.figure.Figure at 0x1375a5860>"
      ]
     },
     "metadata": {},
     "output_type": "display_data"
    },
    {
     "name": "stdout",
     "output_type": "stream",
     "text": [
      "CPU times: user 306 ms, sys: 16.3 ms, total: 322 ms\n",
      "Wall time: 600 ms\n"
     ]
    }
   ],
   "source": [
    "qda = sklearn.discriminant_analysis.QuadraticDiscriminantAnalysis()\n",
    "clf = qda\n",
    "%time clf.fit(X[tidx],y[tidx])\n",
    "\n",
    "print(\"TEST\")\n",
    "%time evaluate(clf,X[pidx],y[pidx])\n",
    "\n",
    "print(\"TRAIN\")\n",
    "%time evaluate(clf,X[tidx],y[tidx])\n",
    "\n",
    "print(\"ROC AUC\")\n",
    "%time roc_auc(clf,X[pidx],y[pidx])\n",
    "\n",
    "print(\"PRECISION/RECALL AUC\")\n",
    "%time prrc_auc(clf,X[pidx],y[pidx])"
   ]
  },
  {
   "cell_type": "markdown",
   "metadata": {},
   "source": [
    "# Single tweets"
   ]
  },
  {
   "cell_type": "code",
   "execution_count": 375,
   "metadata": {
    "collapsed": false
   },
   "outputs": [],
   "source": [
    "# number of samples to train on\n",
    "N = int(1e6)\n",
    "X = np.array([x.T for x in df[\"twtvecs\"][:N].values])\n",
    "y = df[\"openup\"][:N].values\n",
    "# inverse classifier\n",
    "# y = 1 - y"
   ]
  },
  {
   "cell_type": "code",
   "execution_count": 376,
   "metadata": {
    "collapsed": false
   },
   "outputs": [
    {
     "name": "stdout",
     "output_type": "stream",
     "text": [
      "(408127, 100) (408127,)\n"
     ]
    }
   ],
   "source": [
    "print(X.shape,y.shape)"
   ]
  },
  {
   "cell_type": "code",
   "execution_count": 377,
   "metadata": {
    "collapsed": true
   },
   "outputs": [],
   "source": [
    "# generate test/train split\n",
    "ratio = 0.8\n",
    "tidx = np.random.rand(min(X.shape[0],N)) < ratio\n",
    "pidx = ~tidx"
   ]
  },
  {
   "cell_type": "code",
   "execution_count": 378,
   "metadata": {
    "collapsed": false
   },
   "outputs": [
    {
     "name": "stdout",
     "output_type": "stream",
     "text": [
      "CPU times: user 29.8 s, sys: 1.16 s, total: 31 s\n",
      "Wall time: 37.6 s\n"
     ]
    },
    {
     "data": {
      "text/plain": [
       "RandomForestClassifier(bootstrap=True, class_weight=None, criterion='gini',\n",
       "            max_depth=5, max_features='auto', max_leaf_nodes=None,\n",
       "            min_impurity_decrease=0.0, min_impurity_split=None,\n",
       "            min_samples_leaf=1, min_samples_split=2,\n",
       "            min_weight_fraction_leaf=0.0, n_estimators=10, n_jobs=1,\n",
       "            oob_score=False, random_state=None, verbose=0,\n",
       "            warm_start=False)"
      ]
     },
     "execution_count": 378,
     "metadata": {},
     "output_type": "execute_result"
    }
   ],
   "source": [
    "rf = sklearn.ensemble.RandomForestClassifier()\n",
    "rf.max_depth = 5\n",
    "clf = rf\n",
    "%time clf.fit(X[tidx],y[tidx])"
   ]
  },
  {
   "cell_type": "code",
   "execution_count": 379,
   "metadata": {
    "collapsed": false
   },
   "outputs": [
    {
     "name": "stdout",
     "output_type": "stream",
     "text": [
      "TEST\n",
      "Accuracy 0.512033914871 Precision 0.510762286093 Recall 0.962189819597 F1 0.667299730948\n",
      "CPU times: user 165 ms, sys: 109 ms, total: 274 ms\n",
      "Wall time: 309 ms\n",
      "TRAIN\n",
      "Accuracy 0.516147421654 Precision 0.513698476667 Recall 0.964278847309 F1 0.670306055322\n",
      "CPU times: user 579 ms, sys: 222 ms, total: 801 ms\n",
      "Wall time: 1.28 s\n"
     ]
    }
   ],
   "source": [
    "print(\"TEST\")\n",
    "%time evaluate(clf,X[pidx],y[pidx])\n",
    "\n",
    "print(\"TRAIN\")\n",
    "%time evaluate(clf,X[tidx],y[tidx])"
   ]
  },
  {
   "cell_type": "code",
   "execution_count": 380,
   "metadata": {
    "collapsed": false
   },
   "outputs": [
    {
     "name": "stdout",
     "output_type": "stream",
     "text": [
      "ROC AUC\n"
     ]
    },
    {
     "data": {
      "image/png": "[encoded data removed]",
      "text/plain": [
       "<matplotlib.figure.Figure at 0x11d6df7f0>"
      ]
     },
     "metadata": {},
     "output_type": "display_data"
    },
    {
     "name": "stdout",
     "output_type": "stream",
     "text": [
      "CPU times: user 443 ms, sys: 79.8 ms, total: 523 ms\n",
      "Wall time: 762 ms\n",
      "PRECISION/RECALL AUC\n"
     ]
    },
    {
     "data": {
      "image/png": "[encoded data removed]",
      "text/plain": [
       "<matplotlib.figure.Figure at 0x16a2c94e0>"
      ]
     },
     "metadata": {},
     "output_type": "display_data"
    },
    {
     "name": "stdout",
     "output_type": "stream",
     "text": [
      "CPU times: user 445 ms, sys: 47.1 ms, total: 492 ms\n",
      "Wall time: 623 ms\n"
     ]
    }
   ],
   "source": [
    "print(\"ROC AUC\")\n",
    "%time roc_auc(clf,X[pidx],y[pidx])\n",
    "\n",
    "print(\"PRECISION/RECALL AUC\")\n",
    "%time prrc_auc(clf,X[pidx],y[pidx])"
   ]
  },
  {
   "cell_type": "code",
   "execution_count": 381,
   "metadata": {
    "collapsed": false
   },
   "outputs": [
    {
     "name": "stdout",
     "output_type": "stream",
     "text": [
      "CPU times: user 12min 43s, sys: 53 s, total: 13min 36s\n",
      "Wall time: 14min 18s\n",
      "TEST\n",
      "Accuracy 0.550518008112 Precision 0.556436937147 Recall 0.572917917798 F1 0.56455717177\n",
      "CPU times: user 1.33 s, sys: 427 ms, total: 1.75 s\n",
      "Wall time: 1.65 s\n",
      "TRAIN\n",
      "Accuracy 0.598902766072 Precision 0.603597357044 Recall 0.622449347466 F1 0.612878415874\n",
      "CPU times: user 5.21 s, sys: 876 ms, total: 6.09 s\n",
      "Wall time: 6.22 s\n",
      "ROC AUC\n"
     ]
    },
    {
     "data": {
      "image/png": "[encoded data removed]",
      "text/plain": [
       "<matplotlib.figure.Figure at 0x123837c88>"
      ]
     },
     "metadata": {},
     "output_type": "display_data"
    },
    {
     "name": "stdout",
     "output_type": "stream",
     "text": [
      "CPU times: user 1.63 s, sys: 211 ms, total: 1.84 s\n",
      "Wall time: 1.74 s\n",
      "PRECISION/RECALL AUC\n"
     ]
    },
    {
     "data": {
      "image/png": "[encoded data removed]",
      "text/plain": [
       "<matplotlib.figure.Figure at 0x13759ee48>"
      ]
     },
     "metadata": {},
     "output_type": "display_data"
    },
    {
     "name": "stdout",
     "output_type": "stream",
     "text": [
      "CPU times: user 2.28 s, sys: 2.28 s, total: 4.56 s\n",
      "Wall time: 7.45 s\n"
     ]
    }
   ],
   "source": [
    "mlp = sklearn.neural_network.MLPClassifier()\n",
    "clf = mlp\n",
    "%time clf.fit(X[tidx],y[tidx])\n",
    "\n",
    "print(\"TEST\")\n",
    "%time evaluate(clf,X[pidx],y[pidx])\n",
    "\n",
    "print(\"TRAIN\")\n",
    "%time evaluate(clf,X[tidx],y[tidx])\n",
    "\n",
    "print(\"ROC AUC\")\n",
    "%time roc_auc(clf,X[pidx],y[pidx])\n",
    "\n",
    "print(\"PRECISION/RECALL AUC\")\n",
    "%time prrc_auc(clf,X[pidx],y[pidx])"
   ]
  },
  {
   "cell_type": "code",
   "execution_count": 382,
   "metadata": {
    "collapsed": false
   },
   "outputs": [
    {
     "name": "stdout",
     "output_type": "stream",
     "text": [
      "CPU times: user 12.1 s, sys: 1.49 s, total: 13.6 s\n",
      "Wall time: 21.2 s\n",
      "TEST\n",
      "Accuracy 0.522332991253 Precision 0.540507666208 Recall 0.405630690144 F1 0.463455468643\n",
      "CPU times: user 468 ms, sys: 364 ms, total: 832 ms\n",
      "Wall time: 927 ms\n",
      "TRAIN\n",
      "Accuracy 0.533019691978 Precision 0.556394052641 Recall 0.416870959214 F1 0.476631790109\n",
      "CPU times: user 2.2 s, sys: 2.01 s, total: 4.21 s\n",
      "Wall time: 6.05 s\n",
      "ROC AUC\n"
     ]
    },
    {
     "data": {
      "image/png": "[encoded data removed]",
      "text/plain": [
       "<matplotlib.figure.Figure at 0x11ddfb550>"
      ]
     },
     "metadata": {},
     "output_type": "display_data"
    },
    {
     "name": "stdout",
     "output_type": "stream",
     "text": [
      "CPU times: user 819 ms, sys: 307 ms, total: 1.13 s\n",
      "Wall time: 1.62 s\n",
      "PRECISION/RECALL AUC\n"
     ]
    },
    {
     "data": {
      "image/png": "[encoded data removed]",
      "text/plain": [
       "<matplotlib.figure.Figure at 0x115870cf8>"
      ]
     },
     "metadata": {},
     "output_type": "display_data"
    },
    {
     "name": "stdout",
     "output_type": "stream",
     "text": [
      "CPU times: user 849 ms, sys: 237 ms, total: 1.09 s\n",
      "Wall time: 1.51 s\n"
     ]
    }
   ],
   "source": [
    "qda = sklearn.discriminant_analysis.QuadraticDiscriminantAnalysis()\n",
    "clf = qda\n",
    "%time clf.fit(X[tidx],y[tidx])\n",
    "\n",
    "print(\"TEST\")\n",
    "%time evaluate(clf,X[pidx],y[pidx])\n",
    "\n",
    "print(\"TRAIN\")\n",
    "%time evaluate(clf,X[tidx],y[tidx])\n",
    "\n",
    "print(\"ROC AUC\")\n",
    "%time roc_auc(clf,X[pidx],y[pidx])\n",
    "\n",
    "print(\"PRECISION/RECALL AUC\")\n",
    "%time prrc_auc(clf,X[pidx],y[pidx])"
   ]
  }
 ],
 "metadata": {
  "anaconda-cloud": {},
  "kernelspec": {
   "display_name": "Python [default]",
   "language": "python",
   "name": "python3"
  },
  "language_info": {
   "codemirror_mode": {
    "name": "ipython",
    "version": 3
   },
   "file_extension": ".py",
   "mimetype": "text/x-python",
   "name": "python",
   "nbconvert_exporter": "python",
   "pygments_lexer": "ipython3",
   "version": "3.5.2"
  }
 },
 "nbformat": 4,
 "nbformat_minor": 1
}
