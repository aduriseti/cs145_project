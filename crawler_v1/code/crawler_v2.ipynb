{
 "cells": [
  {
   "cell_type": "code",
   "execution_count": 8,
   "metadata": {
    "collapsed": true
   },
   "outputs": [],
   "source": [
    "import tweepy\n",
    "consumer_key = \"51MI8RrYmzO4btCKG4Qb5uqAa\"\n",
    "consumer_secret = \"ajpPv3Ag0NvMEQLBIwiPyDyU78BbLZn8IS1gTba4x9ZOHNPMNM\"\n",
    "access_token = \"3004471069-VDbNpT9NO0QOtiqKZXkoH5Flv4MArCflIYImXjn\"\n",
    "access_token_secret = \"sP6KMjPZXxYAnaae8bOiauLjCVnx8bzWkBk4KU1iZBxdl\"\n",
    "\n",
    "# Creating the authentication object\n",
    "auth = tweepy.OAuthHandler(consumer_key, consumer_secret)\n",
    "# Setting your access token and secret\n",
    "auth.set_access_token(access_token, access_token_secret)\n",
    "# Creating the API object while passing in auth information\n",
    "api = tweepy.API(auth) \n",
    "\n",
    "n = 150 # Tweet count\n",
    "\n",
    "\n"
   ]
  },
  {
   "cell_type": "code",
   "execution_count": null,
   "metadata": {
    "collapsed": true
   },
   "outputs": [],
   "source": [
    "### Basic API functionality\n",
    "\n",
    "# # Print tweets from my home timeline\n",
    "# for status in tweepy.Cursor(api.home_timeline).items(n):\n",
    "#     # Process a single status\n",
    "#     print(status.text)\n",
    "# #     print(status._json)\n",
    "\n",
    "# # Getting tweets from the New York Times user\n",
    "# for tweet in api.user_timeline(id=\"nytimes\", count=n):\n",
    "#     # printing the text stored inside the tweet object\n",
    "#     print(tweet.text)\n",
    "\n",
    "# get tweets by keyword\n",
    "tweets = api.search(q=\"stock\", lang=\"en\")\n",
    "for tweet in tweets[:n]:\n",
    "    # printing the text stored inside the tweet object\n",
    "    print(tweet.user.screen_name,\"Tweeted:\",tweet.text)\n",
    "\n",
    "import json\n",
    "with open(\"sample_tweets.json\", \"w\") as tweetfile:\n",
    "    json.dump([tweet._json for tweet in tweets], tweetfile)\n",
    "\n"
   ]
  },
  {
   "cell_type": "code",
   "execution_count": 37,
   "metadata": {},
   "outputs": [
    {
     "name": "stdout",
     "output_type": "stream",
     "text": [
      "10\n",
      "0I hate it when someone posts really inspiring art or something and all people comment is “deep”... like... that’s a… https://t.co/7pdNLhZaOw\n",
      "1I hate it when some dumb broad starts whining about men who nut too fast....\n",
      "\"It was a race... You lost, bitch!\"\n",
      "2I hate people on twitter who complain about what girls do, but they are the same people who complain about other pe… https://t.co/Jtajyid1Fw\n",
      "3RT @paulocoelho: Haters don’t hate us, they hate themselves. \n",
      "Because we are a reflection of what they wish to be.\n",
      "4RT @Zayn_1D_Larry: I fuckin hate it when people call Harry a womanizer yall know how much he hates it he even said he doesn't like to be ca…\n",
      "5RT @EllenNunezca: When people get hurt, they learn to hate.\n",
      "#ALDUBHeartsNeverApart\n",
      "6RT @GOPPollAnalyst: Do the 2016 Hate Crime statistics include the hoaxes? https://t.co/e9MJvmIMyw https://t.co/jzCt9tYFT4\n",
      "7RT @TuckerMustDie_: Tryna figure out why y’all hate yellow. That shit smack https://t.co/XfwFxz4HUk\n",
      "8j'ai plus de hâte de plus jamais revoir la gueule de ce mec plutôt que d'avoir mon permis\n",
      "9RT @KhadiDon: I hate to be on here crying over a puppy but I️m really hurt yo ..... I can’t believe somebody would do some bs like that. I’…\n"
     ]
    }
   ],
   "source": [
    "#tweets = api.search(q=\"Trump\", rpp=150, lang=\"en\", count=1000)\n",
    "## -*- coding: utf-8 -*-\n",
    "\n",
    "query = \"hate\"\n",
    "max_tweets = 10\n",
    "tweets = [tweet for tweet in tweepy.Cursor(api.search, q=query).items(max_tweets)]\n",
    "\n",
    "print(len(tweets))\n",
    "output = open(\"tweettext.txt\", \"wb\")\n",
    "counter = 0\n",
    "for tweet in tweets[:n]:\n",
    "    # printing the text stored inside the tweet object\n",
    "#    print(tweet.user.screen_name,\"Tweeted:\",tweet.text)\n",
    "    \n",
    "    #write to file\n",
    "#    adjusted_tweet = (tweet.text).decode('unicode_escape').encode('ascii','ignore')\n",
    "    adjusted_tweet = (tweet.text).encode('utf-8')\n",
    "#    output.write((tweet.text).encode('utf-8'))\n",
    "    output.write(adjusted_tweet)\n",
    "    print(str(counter)+adjusted_tweet)\n",
    "    output.write(\"\\n\")\n",
    "    \n",
    "    counter += 1\n",
    "    \n",
    "output.close()\n"
   ]
  },
  {
   "cell_type": "code",
   "execution_count": null,
   "metadata": {
    "collapsed": true
   },
   "outputs": [],
   "source": []
  }
 ],
 "metadata": {
  "kernelspec": {
   "display_name": "Python 2",
   "language": "python",
   "name": "python2"
  },
  "language_info": {
   "codemirror_mode": {
    "name": "ipython",
    "version": 2
   },
   "file_extension": ".py",
   "mimetype": "text/x-python",
   "name": "python",
   "nbconvert_exporter": "python",
   "pygments_lexer": "ipython2",
   "version": "2.7.13"
  }
 },
 "nbformat": 4,
 "nbformat_minor": 2
}
